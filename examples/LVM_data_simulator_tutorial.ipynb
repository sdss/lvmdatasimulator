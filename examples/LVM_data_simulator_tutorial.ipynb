{
 "cells": [
  {
   "cell_type": "markdown",
   "id": "a0d443ac",
   "metadata": {
    "id": "a0d443ac"
   },
   "source": [
    "# LVM Data Simulator tutorial"
   ]
  },
  {
   "cell_type": "markdown",
   "id": "e419e881",
   "metadata": {
    "id": "e419e881"
   },
   "source": [
    "This is a tutorial to install and use the LVM Data Simulator - Created 2022/03/24\n",
    "\n",
    "2022/05/18 - New section showing how to use dictionaries to run the simulator. Bug fixes"
   ]
  },
  {
   "cell_type": "markdown",
   "id": "2ef294be",
   "metadata": {
    "id": "2ef294be"
   },
   "source": [
    "## Installation and setup\n",
    "\n",
    "### Installing the package\n",
    "\n",
    "The package can be found on github at this link: https://github.com/sdss/lvmdatasimulator\n",
    "\n",
    "First clone the package with:\n",
    "\n",
    "```git clone --recursive https://github.com/sdss/lvmdatasimulator```\n",
    "    \n",
    "then move into the package directory and install it with ```python -m pip install -e .```. Pip should automatically install all the dependencies needed for the simulator to work (if not, let us know!)"
   ]
  },
  {
   "cell_type": "markdown",
   "id": "l3GXXwUSPOYp",
   "metadata": {
    "id": "l3GXXwUSPOYp"
   },
   "source": [
    "### Downloading libraries\n",
    "\n",
    "Once the package is installed, you have to download two files that are temporarily stored in an FTP server at Universidad de Chile.\n",
    "\n",
    "To download them you should run the following commands and move the files in the ```lvmdatasimulator/data``` directory:\n",
    "\n",
    "```wget ftp@ftp.das.uchile.cl:/pub/enrico/LVM_cloudy_sphere_models.fits```\n",
    "\n",
    "```wget ftp@ftp.das.uchile.cl:/pub/enrico/pollux_resampled_v0.fits```\n",
    "\n",
    "*Note: third file file with precalculated continuum models is not ready now, just ignore the corresponding warning when importing lvmdatasimulator*\n",
    "\n",
    "At this point, everything should be ready to go. We just want to highlight that this is still a work-in-progress, and in the future how the simulator is called could change significantly. The goal is to write a main.py script able to read a configuration file.\n",
    "\n",
    "**N.B.: This notebook should run just fine once you download and install the package. However, we suggest to move it to a different, empty directory, where it will be possible to save all the files produced during the test.**"
   ]
  },
  {
   "cell_type": "markdown",
   "metadata": {
    "collapsed": false,
    "pycharm": {
     "name": "#%% md\n"
    }
   },
   "source": [
    "### Adjust config file\n",
    "\n",
    "Currently, there is a configuration file where you might want to setup a few variables. You can find this file here:\n",
    "```ROOT_DIR/python/lvmdatasimulator/etc/lvmdatasimulator.yml```, where ```ROOT_DIR``` is the directory where you have installed the package. \n",
    "\n",
    "In this config you may want to adjust:\n",
    "* Maximal number of cores to use in calculations (default = 8)\n",
    "* Working directory (work_dir) where all outputs and intermediate files produced by simulator will be saved. By default, this is the current directory. \n",
    "\n",
    "You can also change the working directory from this notebook by using the os package as follows:"
   ]
  },
  {
   "cell_type": "code",
   "execution_count": null,
   "id": "043b270f",
   "metadata": {},
   "outputs": [],
   "source": [
    "import os\n",
    "# os.chdir('/directory/where/I/want/to/save/all/files/')\n",
    "os.chdir('/mnt/DATA/LVM/Useful_data/test_notebooks')"
   ]
  },
  {
   "cell_type": "markdown",
   "id": "3cd432b4",
   "metadata": {},
   "source": [
    "Changing the work_dir in the configuration file, or changing the current directory is NOT needed if you move the notebook to an empty folder."
   ]
  },
  {
   "cell_type": "markdown",
   "id": "4ce9bbda",
   "metadata": {
    "id": "4ce9bbda"
   },
   "source": [
    "## Part 1: simulating the target field"
   ]
  },
  {
   "cell_type": "markdown",
   "id": "dd35906e",
   "metadata": {
    "id": "dd35906e"
   },
   "source": [
    "The first step to perform the simulations is to create a field to be observed. Once the field is created, all its components can be saved to fits files and used again in future runs.\n",
    "\n",
    "We first need to import all the necessary modules needed for the simulations:"
   ]
  },
  {
   "cell_type": "code",
   "execution_count": null,
   "id": "8a4186ce",
   "metadata": {
    "id": "8a4186ce",
    "outputId": "9348d5bb-c530-4005-de7c-853652891def"
   },
   "outputs": [],
   "source": [
    "import astropy.units as u\n",
    "from lvmdatasimulator.field import LVMField\n",
    "from lvmdatasimulator.observation import Observation\n",
    "from lvmdatasimulator.telescope import LVM160\n",
    "from lvmdatasimulator.instrument import LinearSpectrograph\n",
    "from lvmdatasimulator.simulator import Simulator\n",
    "from lvmdatasimulator.fibers import FiberBundle"
   ]
  },
  {
   "cell_type": "markdown",
   "id": "0c35af7f",
   "metadata": {
    "id": "0c35af7f"
   },
   "source": [
    "Then, we need to setup the LVM field object:"
   ]
  },
  {
   "cell_type": "code",
   "execution_count": null,
   "id": "45c168dc",
   "metadata": {
    "id": "45c168dc"
   },
   "outputs": [],
   "source": [
    "my_lvmfield = LVMField(ra=10, dec=-10, size=15, spaxel=1, unit_ra=u.degree,\n",
    "                       unit_dec=u.degree, unit_size=u.arcmin, unit_spaxel=u.arcsec, name='LVM_test')"
   ]
  },
  {
   "cell_type": "markdown",
   "id": "5484396b",
   "metadata": {
    "id": "5484396b"
   },
   "source": [
    "This line initializes the LVMField object. The needed inputs are:\n",
    "- ra, dec: coordinates of the field to be observed. Used to build the WCS object\n",
    "- size: size of the field to simulate\n",
    "- spaxel: size of the spaxel\n",
    "- unit_ra, unit_dec: unit used for the coordinates of the field, defaults to degrees\n",
    "- unit size: unit of the size argument. defaults to arcmin\n",
    "- unit_spaxel: unit of the spaxels, defaults to arcsec\n",
    "- name: name of the field. It will be used to define the names of the output files.\n",
    "\n",
    "It must be noticed that the size of the field now is only 15 armin. At this point, simulating the full LVM FOV is still not possible, unless the simulator is running on a computer with significant amounts of RAM (> 30 GB, but actual minimum limit not determined yet)."
   ]
  },
  {
   "cell_type": "markdown",
   "id": "66ff6edf",
   "metadata": {
    "id": "66ff6edf"
   },
   "source": [
    "The object is still empty, we need to generate the targets of the simulations. There are two types iof targets that can be simulated: **stars** and **nebulae**.\n",
    "\n",
    "**Stars** are simulated by searching the GAIA catalog for stars brighter than a user defined limit. To each star we associate a spectrum, based on the estimated temperature of the object. All spectra are recovered from the pollux spectral library. **The library is missing spectra with temperature between xxxx and xxxx degrees. Stellar spectra should only be used for signal-to-noise ratio estimates, not to recover physical quantities**.\n",
    "\n",
    "The stellar component is created as following:"
   ]
  },
  {
   "cell_type": "code",
   "execution_count": null,
   "id": "cd698b6c",
   "metadata": {
    "id": "cd698b6c"
   },
   "outputs": [],
   "source": [
    "my_lvmfield.generate_gaia_stars(gmag_limit=18)"
   ]
  },
  {
   "cell_type": "markdown",
   "id": "7df9b7ad",
   "metadata": {
    "id": "7df9b7ad"
   },
   "source": [
    "Once created, the star list is automatically saved to file, and it can be used to re-run the simulation without having to query GAIA again. The default position of this file is the current working directory, but it can be saved in another position by defining the *directory* argument. To read the saved file:"
   ]
  },
  {
   "cell_type": "code",
   "execution_count": null,
   "id": "4e9041e4",
   "metadata": {
    "id": "4e9041e4",
    "outputId": "b5676e23-4e7a-42e4-b6f8-a5f7eca634c9"
   },
   "outputs": [],
   "source": [
    "my_lvmfield.generate_gaia_stars(filename='LVM_test_starlist.fits.gz')"
   ]
  },
  {
   "cell_type": "markdown",
   "id": "acf0807d",
   "metadata": {
    "id": "acf0807d"
   },
   "source": [
    "The nebular component, on the other hand, contains a wide variety of different types of sources that can be created. While there are some core quantities shared among most types of sources, many need some type-specific keywords to be defined. For a complete view of the inputs needed for each kind of nebula, we refer to the code documentation.\n",
    "\n",
    "The nebular component should be passed to the field object as a list of dictionaries. Each dictionary represent a single nebula. A simple example, where we simulate a bubble + a diffuse gas component, can be found here:"
   ]
  },
  {
   "cell_type": "code",
   "execution_count": null,
   "id": "ee0345fb",
   "metadata": {
    "id": "ee0345fb"
   },
   "outputs": [],
   "source": [
    "my_nebulae = [\n",
    "              {\"type\": 'Bubble', 'expansion_velocity': 10 * u.km/u.s,\n",
    "               'turbulent_sigma': 20 * u.km/u.s,\n",
    "               'radius': 15 * u.pc,\n",
    "               'max_brightness': 1e-16 * u.erg / u.cm**2 / u.s / u.arcsec ** 2,\n",
    "               'RA': '00h39m40s', 'DEC': \"-10d02m13s\",\n",
    "               'cloudy_params': {'Z': 0.6, 'qH': 49., 'nH': 30, 'Teff': 30000, 'Rin': 0},\n",
    "               'perturb_amplitude': 0.4, 'perturb_order': 8},\n",
    "              {\"type\": 'DIG', 'max_brightness': 1e-17 * u.erg / u.cm ** 2 / u.s / u.arcsec ** 2,\n",
    "               'perturb_amplitude': 0.1, 'perturb_scale': 200 * u.pc}\n",
    "              ]"
   ]
  },
  {
   "cell_type": "markdown",
   "id": "c0565ea8",
   "metadata": {
    "id": "c0565ea8"
   },
   "source": [
    "To include the nebulae in the LVMField object we can use:"
   ]
  },
  {
   "cell_type": "code",
   "execution_count": null,
   "id": "3ecd2feb",
   "metadata": {
    "id": "3ecd2feb"
   },
   "outputs": [],
   "source": [
    "my_lvmfield.add_nebulae(my_nebulae, save_nebulae=\"testneb_v3.fits\")"
   ]
  },
  {
   "cell_type": "markdown",
   "id": "9e39c4a9",
   "metadata": {
    "id": "9e39c4a9"
   },
   "source": [
    "The nebulae will be saved to file, so that they can be reused for other simulations without having to generate them. To read the nebulae from file:"
   ]
  },
  {
   "cell_type": "code",
   "execution_count": null,
   "id": "5ecb6feb",
   "metadata": {
    "id": "5ecb6feb",
    "outputId": "717fac2d-924b-446e-dbfc-b23fd19da63b"
   },
   "outputs": [],
   "source": [
    "my_lvmfield.add_nebulae(load_from_file=\"testneb_v3.fits\")"
   ]
  },
  {
   "cell_type": "markdown",
   "metadata": {
    "collapsed": false,
    "pycharm": {
     "name": "#%% md\n"
    }
   },
   "source": [
    "**Note: if you want to modify the parameters of stars/nebulae, you have to initialize LVMField again as otherwise its content will be dublicated. This bug will be fixed soon**"
   ]
  },
  {
   "cell_type": "markdown",
   "id": "aad0f1d8",
   "metadata": {
    "id": "aad0f1d8"
   },
   "source": [
    " ## Part 2: Setting up the simulator\n"
   ]
  },
  {
   "cell_type": "markdown",
   "id": "1d3c41e3",
   "metadata": {
    "id": "1d3c41e3"
   },
   "source": [
    "At this point the Field is ready to be observed. We are still missing, however, the complete instrument setup. The instrument is composed by a **telescope**, a **spectrograph** and a **fiber bundle**. To create the elements we just need to generate the objects as follows:"
   ]
  },
  {
   "cell_type": "code",
   "execution_count": null,
   "id": "100b8e52",
   "metadata": {
    "id": "100b8e52",
    "outputId": "3c9fe535-ba49-4e51-e1e2-5e3b2712d10f"
   },
   "outputs": [],
   "source": [
    "tel = LVM160()\n",
    "spec = LinearSpectrograph()\n",
    "bundle = FiberBundle(bundle_name='central', nrings=4, angle=0, custom_fibers=None)"
   ]
  },
  {
   "cell_type": "markdown",
   "id": "2fba8d8c",
   "metadata": {
    "id": "2fba8d8c"
   },
   "source": [
    "So far, we support a single telescope object LVM160() and a single spectrograph configuration LinearSpectrograph(). The latter, in particular, is a spectrograph with a 3650-9800 A wavelength range, and a constant 0.5 A dispersion.\n",
    "\n",
    "The fiber bundle, on the other hand is already pretty configurable. The array is built as a series of concentric hexagonal rings, and within the ring each fiber has a unique ID. Using therefore two numbers (the ring number and the fiber position) it is possible to univocally identify each fiber. Using this identification system it is possible to build a wide variety of fiber configurations. The one supported so far are:\n",
    "- central: simulate only the central fiber\n",
    "- full: simulate the full hexagonal array\n",
    "- horizontal: simulate an horizontal line of fibers\n",
    "- diagonals: simulate the main diagonals of the hexagons\n",
    "\n",
    "the nrings argument can be used to limit how many fiber are going to be simulated. In particular, if nrings is not none, each different configuration except for \"central\" is simulated up to the fibers included in the hexagonal ring nrings.  \n",
    "\n",
    "Here we there is an example of a \"full\" bundle with nrings=5"
   ]
  },
  {
   "cell_type": "code",
   "execution_count": null,
   "id": "e5c30643",
   "metadata": {
    "id": "e5c30643",
    "outputId": "808aab17-beb9-4f19-c900-7d8de39c94e0"
   },
   "outputs": [],
   "source": [
    "bundle = FiberBundle(bundle_name='full', nrings=5, angle=0, custom_fibers=None)\n",
    "my_lvmfield.show(fibers=bundle.fibers, outname='full_5.png')\n"
   ]
  },
  {
   "cell_type": "markdown",
   "id": "bec1e090",
   "metadata": {
    "id": "bec1e090"
   },
   "source": [
    "Then, we have an example of a \"diagonals\" array with nrings=5 and nrings=9"
   ]
  },
  {
   "cell_type": "code",
   "execution_count": null,
   "id": "273e1a3f",
   "metadata": {
    "id": "273e1a3f",
    "outputId": "07b3df22-5aac-4683-c19d-32ea313c7155"
   },
   "outputs": [],
   "source": [
    "bundle = FiberBundle(bundle_name='diagonals', nrings=5, angle=0, custom_fibers=None)\n",
    "my_lvmfield.show(fibers=bundle.fibers, outname='diagonals_5.png')"
   ]
  },
  {
   "cell_type": "code",
   "execution_count": null,
   "id": "9b322e01",
   "metadata": {
    "id": "9b322e01",
    "outputId": "e35d04b2-a410-41e7-9ab1-036641337fd3"
   },
   "outputs": [],
   "source": [
    "bundle = FiberBundle(bundle_name='diagonals', nrings=9, angle=0, custom_fibers=None)\n",
    "my_lvmfield.show(fibers=bundle.fibers, outname='diagonals_9.png')"
   ]
  },
  {
   "cell_type": "markdown",
   "id": "80659c69",
   "metadata": {
    "id": "80659c69"
   },
   "source": [
    "Finally, an example of an \"horizontal\" array"
   ]
  },
  {
   "cell_type": "code",
   "execution_count": null,
   "id": "7a812c9d",
   "metadata": {
    "id": "7a812c9d",
    "outputId": "696fce0a-57dd-48f7-c03c-ea8277750f48"
   },
   "outputs": [],
   "source": [
    "bundle = FiberBundle(bundle_name='horizontal', nrings=10, angle=0, custom_fibers=None)\n",
    "my_lvmfield.show(fibers=bundle.fibers, outname='horizontal_10.png')"
   ]
  },
  {
   "cell_type": "markdown",
   "id": "b5fc4503",
   "metadata": {
    "id": "b5fc4503"
   },
   "source": [
    "Fiber bundles can also be rotatet with the \"angle\" argument. The rotations proceeds counter clockwise. "
   ]
  },
  {
   "cell_type": "code",
   "execution_count": null,
   "id": "a62cd757",
   "metadata": {
    "id": "a62cd757",
    "outputId": "a7ce67bd-aa5c-452c-a700-c732096e83fe"
   },
   "outputs": [],
   "source": [
    "bundle = FiberBundle(bundle_name='horizontal', nrings=10, angle=45, custom_fibers=None)\n",
    "my_lvmfield.show(fibers=bundle.fibers, outname='horizontal_10_45.png')\n",
    "\n",
    "bundle = FiberBundle(bundle_name='horizontal', nrings=10, angle=90, custom_fibers=None)\n",
    "my_lvmfield.show(fibers=bundle.fibers, outname='horizontal_10_90.png')\n",
    "\n",
    "bundle = FiberBundle(bundle_name='diagonals', nrings=10, angle=90, custom_fibers=None)\n",
    "my_lvmfield.show(fibers=bundle.fibers, outname='diagonals_10_90.png')"
   ]
  },
  {
   "cell_type": "markdown",
   "id": "702adb82",
   "metadata": {
    "id": "702adb82"
   },
   "source": [
    "The last step before running the simulator is to define the properties of the observations by initializing the **Observation** object. This object requires the coordinates of the field to be observed, their units of measurement and a list of exposure times. Multiple exposure times can be simulated during a single run of the simulator. Finally, there are a few other optional parameters that can be used to modify the properties of the observations. These parameters are:\n",
    "\n",
    "- time (e.g. '2022-01-01T00:00:00.00'),\n",
    "- utcoffset,\n",
    "- exptimes,\n",
    "- airmass,\n",
    "- days_moon,\n",
    "- sky_template.\n",
    "\n",
    "As a default, time, utcoffset and the bundle center coordinates will be used to determine the lunar phase (and the sky brightness) and the airmass of the target during the observations. However, the airmass of the target can be manually provided, as well as the moon phase (using the days_moon parameter). If the latter is provided, the sky template will be selected according to the moon phase. Finally, a completely custom sky template can be used by providing the path to the file using the sky_template parameter.\n"
   ]
  },
  {
   "cell_type": "code",
   "execution_count": null,
   "id": "bef10b61",
   "metadata": {
    "id": "bef10b61"
   },
   "outputs": [],
   "source": [
    "obs = Observation(ra=10, dec=-10, unit_ra=u.deg, unit_dec=u.deg, exptimes=[24*900])\n"
   ]
  },
  {
   "cell_type": "markdown",
   "id": "cfb34f43",
   "metadata": {
    "id": "cfb34f43"
   },
   "source": [
    "## Part 3: running the simulator"
   ]
  },
  {
   "cell_type": "markdown",
   "id": "3a81a421",
   "metadata": {
    "id": "3a81a421"
   },
   "source": [
    "Now we are ready to perform the simulation. First we initialize the simulator, giving it as an input all the things we already initialized:"
   ]
  },
  {
   "cell_type": "code",
   "execution_count": null,
   "id": "47b88119",
   "metadata": {
    "id": "47b88119"
   },
   "outputs": [],
   "source": [
    "sim = Simulator(my_lvmfield, obs, spec, bundle, tel)"
   ]
  },
  {
   "cell_type": "markdown",
   "id": "e36ed766",
   "metadata": {
    "id": "e36ed766"
   },
   "source": [
    "Them we can perform the simulations and save the outputs:"
   ]
  },
  {
   "cell_type": "code",
   "execution_count": null,
   "id": "69762dfd",
   "metadata": {
    "id": "69762dfd"
   },
   "outputs": [],
   "source": [
    "sim.simulate_observations()\n",
    "sim.save_outputs()\n",
    "sim.save_output_maps(wavelength_ranges=[6550, 6570], unit_range=u.AA)"
   ]
  },
  {
   "cell_type": "markdown",
   "id": "eca48d3f",
   "metadata": {},
   "source": [
    "Multiple images can be produced at the same time, by providing a list of wavelength ranges to be integrated."
   ]
  },
  {
   "cell_type": "markdown",
   "id": "be762d96",
   "metadata": {},
   "source": [
    "# Part 4: running the simulator - easy version"
   ]
  },
  {
   "cell_type": "markdown",
   "id": "362a05c6",
   "metadata": {},
   "source": [
    "If the user do not want to manually setup the simulations, we prepared a small script that accepts as an input a dictionary which contains all the parameters needed to produce the simulations. If a parameter is not present in the dictionary, a default value will be used. To take advantage of this new approach, first we need to import the script and the astropy units package:"
   ]
  },
  {
   "cell_type": "code",
   "execution_count": null,
   "id": "efe7e35c",
   "metadata": {},
   "outputs": [],
   "source": [
    "from lvmdatasimulator.run import run_simulator_1d\n",
    "\n",
    "import astropy.units as u"
   ]
  },
  {
   "cell_type": "markdown",
   "id": "af1f92ff",
   "metadata": {},
   "source": [
    "Then, we have to prepare a list with all the nebulae that should be simulated."
   ]
  },
  {
   "cell_type": "code",
   "execution_count": null,
   "id": "e06ab598",
   "metadata": {},
   "outputs": [],
   "source": [
    "my_nebulae = [\n",
    "              {\"type\": 'Bubble', 'expansion_velocity': 10 * u.km/u.s,\n",
    "               'turbulent_sigma': 20 * u.km/u.s,\n",
    "               'radius': 15 * u.pc,\n",
    "               'max_brightness': 1e-16 * u.erg / u.cm**2 / u.s / u.arcsec ** 2,\n",
    "               'RA': '00h39m40s', 'DEC': \"-10d02m13s\",\n",
    "               'cloudy_params': {'Z': 0.6, 'qH': 49., 'nH': 30, 'Teff': 30000, 'Rin': 0},\n",
    "               'perturb_amplitude': 0.4, 'perturb_order': 8},\n",
    "              {\"type\": 'DIG', 'max_brightness': 1e-17 * u.erg / u.cm ** 2 / u.s / u.arcsec ** 2,\n",
    "               'perturb_amplitude': 0.1, 'perturb_scale': 200 * u.pc}\n",
    "              ]\n"
   ]
  },
  {
   "cell_type": "markdown",
   "id": "34bc86d6",
   "metadata": {},
   "source": [
    "In this case we are simulating the same field described in Part 1 of this tutorial. If a source field is already available, it is possible to use it by providing its name in the dictionary using the ```nebulae_from_file``` keyword.\n",
    "\n",
    "Then, we need to setup the dictionary as follows:"
   ]
  },
  {
   "cell_type": "code",
   "execution_count": null,
   "id": "4acff990",
   "metadata": {},
   "outputs": [],
   "source": [
    "parameters = dict(\n",
    "                  # LVMField inputs\n",
    "                  ra=10,  # RA of the source field\n",
    "                  dec=-10,  # DEC of the source field\n",
    "                  size=15,  # size of the source field\n",
    "                  spaxel=1,  # spaxel size of the source field\n",
    "                  unit_ra=u.degree,  # unit of RA\n",
    "                  unit_dec=u.degree,  # unit of DEC\n",
    "                  unit_size=u.arcmin,  # unit of size\n",
    "                  unit_spaxel=u.arcsec,  # unit of spaxel\n",
    "                  name='LVM_test',  # name of the field\n",
    "\n",
    "                  # Nebulae generation\n",
    "                  nebulae=my_nebulae,  # list of dictionaries defining the nebulae in the field\n",
    "                  nebulae_name=\"testneb_v3.fits\",  # name of the output source field file\n",
    "\n",
    "                  # Star list generation\n",
    "                  gmag_limit=18,  # maximum magnitude of gaia stars to include in the field\n",
    "\n",
    "                  # save input/output map\n",
    "                  wavelength_ranges=[[6550, 6570]],  # wavelength ranges to integrate for the input and output maps\n",
    "                  unit_range=u.AA,  # units of measurement of the wavelength ranges\n",
    "\n",
    "                  # parameters of Observation\n",
    "                  ra_bundle=10,  # RA of the center of the bundle\n",
    "                  dec_bundle=-10,  # DEC of the center of the bundle\n",
    "                  unit_ra_bundle=u.deg,  # unit of ra_bundle\n",
    "                  unit_dec_bundle=u.deg,  # unit of dec_bundle\n",
    "                  exptimes=[24*900],  # list of exposure times in s\n",
    "\n",
    "                  # bundle properties\n",
    "                  bundle_name='full',  # type of fiber configuration\n",
    "                  nrings=10,  # number of rings to simulate\n",
    "                  angle=0,  # rotation to apply to the bundle.\n",
    "\n",
    "                  # parameters of the simulator\n",
    "                  fast=True  # use normal interpolation or precise resampling.\n",
    ")"
   ]
  },
  {
   "cell_type": "markdown",
   "id": "5260d952",
   "metadata": {},
   "source": [
    "This dictionary will setup exactly the same configuration we simulate before during this tutorial, with the exception of the bundle, which will be in a 10 rings \"full\" configuration.\n",
    "\n",
    "It is possible now to run the simulator as follows:"
   ]
  },
  {
   "cell_type": "code",
   "execution_count": null,
   "id": "58f00079",
   "metadata": {},
   "outputs": [],
   "source": [
    "run_simulator_1d(parameters)"
   ]
  }
 ],
 "metadata": {
  "colab": {
   "collapsed_sections": [],
   "name": "LVM_data_simulator_tutorial.ipynb",
   "provenance": []
  },
  "kernelspec": {
   "display_name": "lvm",
   "language": "python",
   "name": "lvm"
  },
  "language_info": {
   "codemirror_mode": {
    "name": "ipython",
    "version": 3
   },
   "file_extension": ".py",
   "mimetype": "text/x-python",
   "name": "python",
   "nbconvert_exporter": "python",
   "pygments_lexer": "ipython3",
   "version": "3.9.7"
  }
 },
 "nbformat": 4,
 "nbformat_minor": 5
}
