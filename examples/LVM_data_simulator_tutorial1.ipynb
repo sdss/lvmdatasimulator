{
 "cells": [
  {
   "cell_type": "markdown",
   "id": "a0d443ac",
   "metadata": {
    "id": "a0d443ac",
    "pycharm": {
     "name": "#%% md\n"
    }
   },
   "source": [
    "# LVM Data Simulator tutorial: installation, configuration and basic steps"
   ]
  },
  {
   "cell_type": "markdown",
   "source": [
    "**This is a tutorial on how to install, configure and test the very basic usage of the LVM Data Simulator.**\n",
    "- More details on the setup of LVM instrumentation and on the structure of the outputs of the simulator are given in [tutorial #2](https://github.com/sdss/lvmdatasimulator/examples/LVM_data_simulator_tutorial2.ipynb)\n",
    "- More realistic and useful simulations are considered in [tutorial #3](https://github.com/sdss/lvmdatasimulator/examples/LVM_data_simulator_tutorial3.ipynb) - please go there if you have already installed and configured the package and want to learn how to simulate the source field in more details.\n",
    "\n",
    "\n",
    "_Last update: 2022/05/31_"
   ],
   "metadata": {
    "collapsed": false,
    "pycharm": {
     "name": "#%% md\n"
    }
   }
  },
  {
   "cell_type": "markdown",
   "source": [
    "## Installation and setup\n",
    "\n",
    "### Installing the package\n",
    "\n",
    "The package can be found on github at this link: https://github.com/sdss/lvmdatasimulator\n",
    "\n",
    "First clone the package with:\n",
    "\n",
    "```git clone --recursive https://github.com/sdss/lvmdatasimulator --branch main```\n",
    "    \n",
    "then move into the package directory and install it with ``python -m pip install -e .``. Pip should automatically install all the dependencies needed for the simulator to work (if not, let us know!)"
   ],
   "metadata": {
    "collapsed": false,
    "pycharm": {
     "name": "#%% md\n"
    }
   }
  },
  {
   "cell_type": "markdown",
   "source": [
    "### Downloading libraries\n",
    "\n",
    "Once the package is installed, you have to download three files that are temporarily stored in an FTP server at Universidad de Chile.\n",
    "\n",
    "To download them you should run the following commands and move the files in the ```lvmdatasimulator/data``` directory:\n",
    "\n",
    "```wget ftp@ftp.das.uchile.cl:/pub/enrico/LVM_cloudy_models.fits```\n",
    "\n",
    "```wget ftp@ftp.das.uchile.cl:/pub/enrico/pollux_resampled_v0.fits```\n",
    "\n",
    "At this point, everything should be ready to go. We just want to highlight that this is still a work-in-progress, and in the future how the simulator is called could change significantly. The goal is to write a main.py script able to read a configuration file.\n",
    "\n",
    "**N.B.: This notebook should run just fine once you download and install the package. However, we suggest to move it to a different, empty directory, where it will be possible to save all the files produced during the test, or to change the work directory as follows:**"
   ],
   "metadata": {
    "collapsed": false,
    "pycharm": {
     "name": "#%% md\n"
    }
   }
  },
  {
   "cell_type": "code",
   "execution_count": null,
   "outputs": [],
   "source": [
    "# Please do not run this cell, unless you want to change the work directory\n",
    "import os\n",
    "os.chdir('/directory/where/I/want/to/save/all/files/')  # change to the correct path before running"
   ],
   "metadata": {
    "collapsed": false,
    "pycharm": {
     "name": "#%%\n"
    }
   }
  },
  {
   "cell_type": "markdown",
   "source": [
    "## Part 1: Simulating the target field"
   ],
   "metadata": {
    "collapsed": false,
    "pycharm": {
     "name": "#%% md\n"
    }
   }
  },
  {
   "cell_type": "markdown",
   "source": [
    "The first step to perform the simulations is to create a field to be observed. Once the field is created, all its components can be saved to fits files and used again in future runs.\n",
    "\n",
    "We first need to import all the necessary modules needed for the simulations:"
   ],
   "metadata": {
    "collapsed": false,
    "pycharm": {
     "name": "#%% md\n"
    }
   }
  },
  {
   "cell_type": "code",
   "execution_count": null,
   "outputs": [],
   "source": [
    "import astropy.units as u\n",
    "from lvmdatasimulator.field import LVMField\n",
    "from lvmdatasimulator.observation import Observation\n",
    "from lvmdatasimulator.telescope import LVM160\n",
    "from lvmdatasimulator.instrument import LinearSpectrograph\n",
    "from lvmdatasimulator.simulator import Simulator\n",
    "from lvmdatasimulator.fibers import FiberBundle"
   ],
   "metadata": {
    "collapsed": false,
    "pycharm": {
     "name": "#%%\n"
    }
   }
  },
  {
   "cell_type": "markdown",
   "source": [
    "Then, we need to setup the LVM field object:"
   ],
   "metadata": {
    "collapsed": false,
    "pycharm": {
     "name": "#%% md\n"
    }
   }
  },
  {
   "cell_type": "code",
   "execution_count": null,
   "outputs": [],
   "source": [
    "my_lvmfield = LVMField(ra=10, dec=-10, size=15, spaxel=1, unit_ra=u.degree,\n",
    "                       unit_dec=u.degree, unit_size=u.arcmin, unit_spaxel=u.arcsec, name='LVM_test')"
   ],
   "metadata": {
    "collapsed": false,
    "pycharm": {
     "name": "#%%\n"
    }
   }
  },
  {
   "cell_type": "markdown",
   "source": [
    "This line initializes the LVMField object. The needed inputs are:\n",
    "- ra, dec: coordinates of the field to be observed. Used to build the WCS object\n",
    "- size: size of the field to simulate\n",
    "- spaxel: size of the spaxel\n",
    "- unit_ra, unit_dec: unit used for the coordinates of the field, defaults to degrees\n",
    "- unit size: unit of the size argument. defaults to arcmin\n",
    "- unit_spaxel: unit of the spaxels, defaults to arcsec\n",
    "- name: name of the field. It will be used to define the names of the output files."
   ],
   "metadata": {
    "collapsed": false,
    "pycharm": {
     "name": "#%% md\n"
    }
   }
  },
  {
   "cell_type": "markdown",
   "source": [
    "The object is still empty, we need to generate the targets of the simulations. There are two types iof targets that can be simulated: **stars** and **nebulae**.\n",
    "\n",
    "**Stars** are simulated by searching the GAIA catalog for stars brighter than a user defined limit. To each star we associate a spectrum, based on the estimated temperature of the object. All spectra are recovered from the pollux spectral library. **The library is missing spectra with temperature between 8000 and 12000 degrees. Stellar spectra should only be used for signal-to-noise ratio estimates, not to recover physical quantities**.\n",
    "\n",
    "The stellar component is created as following:"
   ],
   "metadata": {
    "collapsed": false,
    "pycharm": {
     "name": "#%% md\n"
    }
   }
  },
  {
   "cell_type": "code",
   "execution_count": null,
   "outputs": [],
   "source": [
    "my_lvmfield.generate_gaia_stars(gmag_limit=18)"
   ],
   "metadata": {
    "collapsed": false,
    "pycharm": {
     "name": "#%%\n"
    }
   }
  },
  {
   "cell_type": "markdown",
   "source": [
    "Once created, the star list is automatically saved to file, and it can be used to re-run the simulation without having to query GAIA again. The default position of this file is the current working directory, but it can be saved in another position by defining the *directory* argument. To read the saved file:"
   ],
   "metadata": {
    "collapsed": false,
    "pycharm": {
     "name": "#%% md\n"
    }
   }
  },
  {
   "cell_type": "code",
   "execution_count": null,
   "outputs": [],
   "source": [
    "my_lvmfield.generate_gaia_stars(filename='LVM_test_starlist.fits.gz')"
   ],
   "metadata": {
    "collapsed": false,
    "pycharm": {
     "name": "#%%\n"
    }
   }
  },
  {
   "cell_type": "markdown",
   "source": [
    "The nebular component, on the other hand, contains a wide variety of different types of sources that can be created. While there are some core quantities shared among most types of sources, many need some type-specific keywords to be defined. For a complete view of the inputs needed for each kind of nebula, we refer to the code documentation and to the [tutorial #3](https://github.com/sdss/lvmdatasimulator/examples/LVM_data_simulator_tutorial3.ipynb), where the modelling of the ISM is presented in more details.\n",
    "\n",
    "The nebular component should be passed to the field object as a list of dictionaries. Each dictionary represent a single nebula. Here we simulate only DIG component for simplicity:"
   ],
   "metadata": {
    "collapsed": false,
    "pycharm": {
     "name": "#%% md\n"
    }
   }
  },
  {
   "cell_type": "code",
   "execution_count": null,
   "outputs": [],
   "source": [
    "my_nebulae = [{\"type\": 'DIG', 'max_brightness': 1e-17, 'perturb_amplitude': 0.1, 'perturb_scale': 200 * u.pc},\n",
    "              ]"
   ],
   "metadata": {
    "collapsed": false,
    "pycharm": {
     "name": "#%%\n"
    }
   }
  },
  {
   "cell_type": "markdown",
   "source": [
    "To include the nebulae in the LVMField object we can use:"
   ],
   "metadata": {
    "collapsed": false,
    "pycharm": {
     "name": "#%% md\n"
    }
   }
  },
  {
   "cell_type": "code",
   "execution_count": null,
   "outputs": [],
   "source": [
    "my_lvmfield.add_nebulae(my_nebulae, save_nebulae=\"testneb_tutorial1.fits\")"
   ],
   "metadata": {
    "collapsed": false,
    "pycharm": {
     "name": "#%%\n"
    }
   }
  },
  {
   "cell_type": "markdown",
   "source": [
    "The nebulae will be saved to file, so that they can be reused for other simulations without having to generate them. To read the nebulae from file:"
   ],
   "metadata": {
    "collapsed": false,
    "pycharm": {
     "name": "#%% md\n"
    }
   }
  },
  {
   "cell_type": "code",
   "execution_count": null,
   "outputs": [],
   "source": [
    "my_lvmfield.add_nebulae(load_from_file=\"testneb_tutorial1.fits\")"
   ],
   "metadata": {
    "collapsed": false,
    "pycharm": {
     "name": "#%%\n"
    }
   }
  },
  {
   "cell_type": "markdown",
   "source": [
    " ## Part 2: Setting up the simulator\n"
   ],
   "metadata": {
    "collapsed": false,
    "pycharm": {
     "name": "#%% md\n"
    }
   }
  },
  {
   "cell_type": "markdown",
   "source": [
    "At this point the Field is ready to be observed. We are still missing, however, the complete instrument setup. The instrument is composed by a **telescope**, a **spectrograph** and a **fiber bundle**. To create the elements we just need to generate the objects as follows:"
   ],
   "metadata": {
    "collapsed": false,
    "pycharm": {
     "name": "#%% md\n"
    }
   }
  },
  {
   "cell_type": "code",
   "execution_count": null,
   "outputs": [],
   "source": [
    "tel = LVM160()\n",
    "spec = LinearSpectrograph()\n",
    "bundle = FiberBundle(bundle_name='central', nrings=4, angle=0, custom_fibers=None)"
   ],
   "metadata": {
    "collapsed": false,
    "pycharm": {
     "name": "#%%\n"
    }
   }
  },
  {
   "cell_type": "markdown",
   "source": [
    "So far, we support a single telescope object LVM160() and a single spectrograph configuration LinearSpectrograph(). The latter, in particular, is a spectrograph with a 3650-9800 A wavelength range, and a constant 0.5 A dispersion.\n",
    "\n",
    "The fiber bundle, on the other hand, is already pretty configurable. For now we will use a standard configuration. In [tutorial #2](https://github.com/sdss/lvmdatasimulator/examples/LVM_data_simulator_tutorial2.ipynb) we describe how to create and simulate different fiber configurations."
   ],
   "metadata": {
    "collapsed": false,
    "pycharm": {
     "name": "#%% md\n"
    }
   }
  },
  {
   "cell_type": "code",
   "execution_count": null,
   "outputs": [],
   "source": [
    "bundle = FiberBundle(bundle_name='full', nrings=5, angle=0, custom_fibers=None)\n",
    "my_lvmfield.show(fibers=bundle.fibers, outname='full_5.png')\n"
   ],
   "metadata": {
    "collapsed": false,
    "pycharm": {
     "name": "#%%\n"
    }
   }
  },
  {
   "cell_type": "markdown",
   "source": [
    "The last step before running the simulator is to define the properties of the observations by initializing the **Observation** object. Also this object is configurable and all the different options will be described in [tutorial #2](https://github.com/sdss/lvmdatasimulator/examples/LVM_data_simulator_tutorial2.ipynb).\n"
   ],
   "metadata": {
    "collapsed": false,
    "pycharm": {
     "name": "#%% md\n"
    }
   }
  },
  {
   "cell_type": "code",
   "execution_count": null,
   "outputs": [],
   "source": [
    "obs = Observation(ra=10, dec=-10, unit_ra=u.deg, unit_dec=u.deg, exptimes=[24*900])\n"
   ],
   "metadata": {
    "collapsed": false,
    "pycharm": {
     "name": "#%%\n"
    }
   }
  },
  {
   "cell_type": "markdown",
   "source": [
    "## Part 3: Running the simulator"
   ],
   "metadata": {
    "collapsed": false,
    "pycharm": {
     "name": "#%% md\n"
    }
   }
  },
  {
   "cell_type": "markdown",
   "source": [
    "Now we are ready to perform the simulation. First we initialize the simulator, giving it as an input all the things we already initialized:"
   ],
   "metadata": {
    "collapsed": false,
    "pycharm": {
     "name": "#%% md\n"
    }
   }
  },
  {
   "cell_type": "code",
   "execution_count": null,
   "outputs": [],
   "source": [
    "sim = Simulator(my_lvmfield, obs, spec, bundle, tel)"
   ],
   "metadata": {
    "collapsed": false,
    "pycharm": {
     "name": "#%%\n"
    }
   }
  },
  {
   "cell_type": "markdown",
   "source": [
    "Them we can perform the simulations and save the outputs:"
   ],
   "metadata": {
    "collapsed": false,
    "pycharm": {
     "name": "#%% md\n"
    }
   }
  },
  {
   "cell_type": "code",
   "execution_count": null,
   "outputs": [],
   "source": [
    "sim.simulate_observations()\n",
    "sim.save_outputs()\n",
    "sim.save_output_maps(wavelength_ranges=[6550, 6570], unit_range=u.AA)"
   ],
   "metadata": {
    "collapsed": false,
    "pycharm": {
     "name": "#%%\n"
    }
   }
  },
  {
   "cell_type": "markdown",
   "source": [
    "Also a detailed description of the outputs will be provided in [tutorial #2](https://github.com/sdss/lvmdatasimulator/examples/LVM_data_simulator_tutorial2.ipynb)."
   ],
   "metadata": {
    "collapsed": false,
    "pycharm": {
     "name": "#%% md\n"
    }
   }
  },
  {
   "cell_type": "code",
   "execution_count": 16,
   "metadata": {
    "collapsed": false,
    "pycharm": {
     "name": "#%%\n"
    }
   },
   "outputs": [
    {
     "name": "stderr",
     "output_type": "stream",
     "text": [
      "\u001B[0;34m[INFO]: \u001B[0mStart generating 1 nebulae\n",
      "  0% (0 of 1) |                          | Elapsed Time: 0:00:00 ETA:  --:--:--\u001B[1;33m[WARNING]: \u001B[0mNeither of 'cloudy_id' or 'cloudy_params' is set for the nebula #0: use default 'cloudy_id=Cloud_366'\n",
      "100% (1 of 1) |##########################| Elapsed Time: 0:00:03 Time:  0:00:03\n",
      "\u001B[0;34m[INFO]: \u001B[0mGenerated ISM saved to ./testneb_tutorial1.fits\n",
      "\u001B[0;34m[INFO]: \u001B[0mISM content saved to testneb_tutorial1.fits\n",
      "\u001B[0;34m[INFO]: \u001B[0m139 Gaia stars in the field\n",
      "\u001B[0;34m[INFO]: \u001B[0m101 stars are fainter than 18 and have been rejected\n",
      "\u001B[0;34m[INFO]: \u001B[0mTransforming world coordinates to pixel coordinates\n",
      "\u001B[0;34m[INFO]: \u001B[0mAssociating spectra to stars using library pollux_resampled_v0.fits...\n",
      " 50% (19 of 38) |############            | Elapsed Time: 0:00:00 ETA:   0:00:00"
     ]
    },
    {
     "name": "stdout",
     "output_type": "stream",
     "text": [
      "INFO: Query finished. [astroquery.utils.tap.core]\n"
     ]
    },
    {
     "name": "stderr",
     "output_type": "stream",
     "text": [
      "100% (38 of 38) |########################| Elapsed Time: 0:00:00 Time:  0:00:00\n",
      "\u001B[0;34m[INFO]: \u001B[0mRescaling 38 synthetic spectra.\n",
      "\u001B[0;34m[INFO]: \u001B[0mSaving star list to: ./LVM_test_starlist.fits.gz\n",
      "\u001B[1;33m[WARNING]: \u001B[0mThe file ././LVM_test_starlist.fits.gz already exist and it will be overwritten\n",
      "WARNING: VerifyWarning: Card is too long, comment will be truncated. [astropy.io.fits.card]\n"
     ]
    },
    {
     "name": "stdout",
     "output_type": "stream",
     "text": [
      "Warning: assuming 1 angstrom units to unitless object.\n",
      "Warning: assuming 1 flam units to unitless object.\n"
     ]
    },
    {
     "name": "stderr",
     "output_type": "stream",
     "text": [
      "\u001B[0;34m[INFO]: \u001B[0mInput image in 6550.0-6570.0AA wavelength range is saved to LVM_test_6550_6570_input_map.fits\n",
      "\u001B[1;33m[WARNING]: \u001B[0mnrings is defined. It will limit the number of fibers selected.\n",
      "\u001B[0;34m[INFO]: \u001B[0mUsing the full hexagon pattern\n",
      "\u001B[0;34m[INFO]: \u001B[0mUsing the inner 10 exagonal rings.\n",
      "\u001B[0;34m[INFO]: \u001B[0mRotating the bundle to PA = 0 deg.\n",
      "\u001B[0;34m[INFO]: \u001B[0mSimulating observations.\n",
      "\u001B[0;34m[INFO]: \u001B[0mReading the atmospheric extinction from file.\n",
      "\u001B[0;34m[INFO]: \u001B[0mResample extinction file to instrument wavelength solution.\n",
      "\u001B[0;34m[INFO]: \u001B[0mSimulating the sky emission 2 days from new moon.\n",
      "\u001B[0;34m[INFO]: \u001B[0mUsing sky file: /mnt/DATA/LVM/lvmdatasimulator/data/sky/LVM_LVM160_SKY_2.dat\n",
      "\u001B[0;34m[INFO]: \u001B[0mResample sky emission to instrument wavelength solution.\n",
      "\u001B[0;34m[INFO]: \u001B[0mRecovering target spectra for 331 fibers.\n",
      "\u001B[0;34m[INFO]: \u001B[0mStart extracting nebular spectra\n",
      "  0% (0 of 1) |                          | Elapsed Time: 0:00:00 ETA:  --:--:--\u001B[0;34m[INFO]: \u001B[0mDividing the array in 4 with an overlap of 40.7 arcsec\n",
      "100% (1 of 1) |##########################| Elapsed Time: 0:01:03 Time:  0:01:03\n",
      "\u001B[0;34m[INFO]: \u001B[0mResampling spectra to the instrument wavelength solution.\n",
      "\u001B[0;34m[INFO]: \u001B[0mSaving the outputs:\n",
      "\u001B[0;34m[INFO]: \u001B[0mInput spectra\n",
      "\u001B[0;34m[INFO]: \u001B[0m./outputs/LVM_test_linear_full_input.fits saved.\n",
      "\u001B[0;34m[INFO]: \u001B[0mUncalibrated outputs\n",
      "\u001B[0;34m[INFO]: \u001B[0m./outputs/LVM_test_linear_full_21600_realization.fits saved.\n",
      "\u001B[0;34m[INFO]: \u001B[0mCalibrated outputs\n",
      "\u001B[0;34m[INFO]: \u001B[0m./outputs/LVM_test_linear_full_21600_flux.fits saved.\n",
      "\u001B[0;34m[INFO]: \u001B[0mSaving the 2D output maps\n",
      "\u001B[0;34m[INFO]: \u001B[0m Saving ./outputs/LVM_test_linear_full_6550_6570_21600s_target_map.fits...\n",
      "\u001B[0;34m[INFO]: \u001B[0m Saving ./outputs/LVM_test_linear_full_6550_6570_21600s_total_map.fits...\n",
      "\u001B[0;34m[INFO]: \u001B[0m Saving ./outputs/LVM_test_fibers.reg...\n",
      "\u001B[0;34m[INFO]: \u001B[0mSaving input parameters to LVM_test_input_parameters.yml\n"
     ]
    },
    {
     "name": "stdout",
     "output_type": "stream",
     "text": [
      "Elapsed time: 95.9\n"
     ]
    }
   ],
   "source": [
    "run_simulator_1d(parameters)"
   ]
  },
  {
   "cell_type": "markdown",
   "metadata": {
    "collapsed": false,
    "pycharm": {
     "name": "#%% md\n"
    }
   },
   "source": [
    "Multiple images can be produced at the same time, by providing a list of wavelength ranges to be integrated."
   ]
  },
  {
   "cell_type": "markdown",
   "source": [
    "## Part 4: Simulator as ETC: very simplified run\n",
    "\n",
    "This simulator can be easily used to estimate the required LVM exposures for the objects of your interest. The complex cases accounting for filling factor of the nebulae, differences of the line ratios, kinematics, overlapping etc. require individual consideration.\n",
    "**Here we provide very simplified ETC calculator** which just allows one to estimate the required exposure time in the lines of interest, for the object that has:\n",
    "- uniform brightness distribution\n",
    "- constant emission line ratios (defined by one of the pre-computed Cloudy models)\n",
    "- or/and constant level and shape of the continuum\n",
    "- the star with particular properties also can be part of the object under evaluation. Nebular component, continuum from the object and the stellar spectrum will be combined together by the simulator in a single fiber, for which we will run the calculations.\n",
    "\n",
    "Note also that the resulting S/N ratio is the values measured per spectral pixel (0.5A) in the output spectra at particular wavelength. Thus, this simplified ETC doesn't integrate the flux in emission lines, but rather estimate S/N for the peaks. We can modify this behaviour later.\n",
    "Also note that all calculations are performed assuming the single exposure."
   ],
   "metadata": {
    "collapsed": false,
    "pycharm": {
     "name": "#%% md\n"
    }
   }
  },
  {
   "cell_type": "code",
   "execution_count": 1,
   "outputs": [],
   "source": [
    "from lvmdatasimulator.run import run_lvm_etc"
   ],
   "metadata": {
    "collapsed": false,
    "pycharm": {
     "name": "#%%\n"
    }
   }
  },
  {
   "cell_type": "markdown",
   "source": [
    "Define parameters of your nebula. The only required parameter is 'max_brightness' (in erg/s/cm\\^2/arcsec^2).\n",
    "\n",
    "Also you may define parameters of the star if you want to put it in the fiber. It should be a dictionary with the keywords that is used by LVMField.generate_single_stars.\n",
    "See [tutorial #3](https://github.com/sdss/lvmdatasimulator/examples/LVM_data_simulator_tutorial3.ipynb) if you want to learm how to specify the spectral properties (emission and continuum) of the nebula, and how to properly set up the properties of the star"
   ],
   "metadata": {
    "collapsed": false,
    "pycharm": {
     "name": "#%% md\n"
    }
   }
  },
  {
   "cell_type": "code",
   "execution_count": 4,
   "outputs": [],
   "source": [
    "neb_params = {'max_brightness': 1e-16, 'cloudy_id': 'Shell_3'}\n",
    "star_params = None\n"
   ],
   "metadata": {
    "collapsed": false,
    "pycharm": {
     "name": "#%%\n"
    }
   }
  },
  {
   "cell_type": "markdown",
   "source": [
    "The dictionary below (``params``) is the main input for the ETC. It joins together the parameters of the nebula and the star, and also can contain parameters defining the observations (see [tutorial 2](https://github.com/sdss/lvmdatasimulator/examples/LVM_data_simulator_tutorial2.ipynb)). Note that ``exptimes`` is not used as it is hardcoded in the ETC. No specific parameters for observations are required by default, but you may want to adjust, e.g., airmass, moon distance etc.\n",
    "\n",
    "Another two parameters required for ETC:\n",
    "- ``check_lines`` - list of the lines (wavelength in A, float) for which ETC will check the dependence of the S/N on the exposure time.\n",
    "- ``desired_snr`` - if provided, then ETC will print (and return) the required exposures to reach the target S/N at the respective wavelength.\n"
   ],
   "metadata": {
    "collapsed": false,
    "pycharm": {
     "name": "#%% md\n"
    }
   }
  },
  {
   "cell_type": "code",
   "execution_count": 5,
   "outputs": [
    {
     "name": "stderr",
     "output_type": "stream",
     "text": [
      "\u001B[0;34m[INFO]: \u001B[0mStart simulations in the mode of exposure time calculator for 1 nebula \n",
      "\u001B[0;34m[INFO]: \u001B[0mStart generating 1 nebulae\n",
      "100% (1 of 1) |##########################| Elapsed Time: 0:00:04 Time:  0:00:04\n",
      "\u001B[0;34m[INFO]: \u001B[0mUsing only the central fiber.\n",
      "\u001B[0;34m[INFO]: \u001B[0mSimulating observations.\n",
      "\u001B[0;34m[INFO]: \u001B[0mReading the atmospheric extinction from file.\n",
      "\u001B[0;34m[INFO]: \u001B[0mResample extinction file to instrument wavelength solution.\n",
      "\u001B[0;34m[INFO]: \u001B[0mSimulating the sky emission 2 days from new moon.\n",
      "\u001B[0;34m[INFO]: \u001B[0mUsing sky file: /Users/mors/Science/PyWorkspace/lvmdatasimulator/data/sky/LVM_LVM160_SKY_2.dat\n",
      "\u001B[0;34m[INFO]: \u001B[0mResample sky emission to instrument wavelength solution.\n",
      "\u001B[0;34m[INFO]: \u001B[0mRecovering target spectra for 1 fibers.\n",
      "\u001B[0;34m[INFO]: \u001B[0mStart extracting nebular spectra\n",
      "100% (1 of 1) |##########################| Elapsed Time: 0:00:00 Time:  0:00:00\n",
      "\u001B[0;34m[INFO]: \u001B[0mResampling spectra to the instrument wavelength solution.\n",
      "\u001B[0;34m[INFO]: \u001B[0mSaving the outputs:\n",
      "\u001B[0;34m[INFO]: \u001B[0mInput spectra\n",
      "\u001B[0;34m[INFO]: \u001B[0m./outputs/LVM_Field_ETC_linear_central_input.fits saved.\n",
      "\u001B[0;34m[INFO]: \u001B[0mUncalibrated outputs\n",
      "\u001B[0;34m[INFO]: \u001B[0m./outputs/LVM_Field_ETC_linear_central_300_realization.fits saved.\n",
      "\u001B[0;34m[INFO]: \u001B[0m./outputs/LVM_Field_ETC_linear_central_451_realization.fits saved.\n",
      "\u001B[0;34m[INFO]: \u001B[0m./outputs/LVM_Field_ETC_linear_central_678_realization.fits saved.\n",
      "\u001B[0;34m[INFO]: \u001B[0m./outputs/LVM_Field_ETC_linear_central_1018_realization.fits saved.\n",
      "\u001B[0;34m[INFO]: \u001B[0m./outputs/LVM_Field_ETC_linear_central_1531_realization.fits saved.\n",
      "\u001B[0;34m[INFO]: \u001B[0m./outputs/LVM_Field_ETC_linear_central_2300_realization.fits saved.\n",
      "\u001B[0;34m[INFO]: \u001B[0m./outputs/LVM_Field_ETC_linear_central_3457_realization.fits saved.\n",
      "\u001B[0;34m[INFO]: \u001B[0m./outputs/LVM_Field_ETC_linear_central_5196_realization.fits saved.\n",
      "\u001B[0;34m[INFO]: \u001B[0m./outputs/LVM_Field_ETC_linear_central_7809_realization.fits saved.\n",
      "\u001B[0;34m[INFO]: \u001B[0m./outputs/LVM_Field_ETC_linear_central_11737_realization.fits saved.\n",
      "\u001B[0;34m[INFO]: \u001B[0m./outputs/LVM_Field_ETC_linear_central_17640_realization.fits saved.\n",
      "\u001B[0;34m[INFO]: \u001B[0m./outputs/LVM_Field_ETC_linear_central_26511_realization.fits saved.\n",
      "\u001B[0;34m[INFO]: \u001B[0m./outputs/LVM_Field_ETC_linear_central_39844_realization.fits saved.\n",
      "\u001B[0;34m[INFO]: \u001B[0m./outputs/LVM_Field_ETC_linear_central_59883_realization.fits saved.\n",
      "\u001B[0;34m[INFO]: \u001B[0m./outputs/LVM_Field_ETC_linear_central_90000_realization.fits saved.\n",
      "\u001B[0;34m[INFO]: \u001B[0mCalibrated outputs\n",
      "\u001B[0;34m[INFO]: \u001B[0m./outputs/LVM_Field_ETC_linear_central_300_flux.fits saved.\n",
      "\u001B[0;34m[INFO]: \u001B[0m./outputs/LVM_Field_ETC_linear_central_451_flux.fits saved.\n",
      "\u001B[0;34m[INFO]: \u001B[0m./outputs/LVM_Field_ETC_linear_central_678_flux.fits saved.\n",
      "\u001B[0;34m[INFO]: \u001B[0m./outputs/LVM_Field_ETC_linear_central_1018_flux.fits saved.\n",
      "\u001B[0;34m[INFO]: \u001B[0m./outputs/LVM_Field_ETC_linear_central_1531_flux.fits saved.\n",
      "\u001B[0;34m[INFO]: \u001B[0m./outputs/LVM_Field_ETC_linear_central_2300_flux.fits saved.\n",
      "\u001B[0;34m[INFO]: \u001B[0m./outputs/LVM_Field_ETC_linear_central_3457_flux.fits saved.\n",
      "\u001B[0;34m[INFO]: \u001B[0m./outputs/LVM_Field_ETC_linear_central_5196_flux.fits saved.\n",
      "\u001B[0;34m[INFO]: \u001B[0m./outputs/LVM_Field_ETC_linear_central_7809_flux.fits saved.\n",
      "\u001B[0;34m[INFO]: \u001B[0m./outputs/LVM_Field_ETC_linear_central_11737_flux.fits saved.\n",
      "\u001B[0;34m[INFO]: \u001B[0m./outputs/LVM_Field_ETC_linear_central_17640_flux.fits saved.\n",
      "\u001B[0;34m[INFO]: \u001B[0m./outputs/LVM_Field_ETC_linear_central_26511_flux.fits saved.\n",
      "\u001B[0;34m[INFO]: \u001B[0m./outputs/LVM_Field_ETC_linear_central_39844_flux.fits saved.\n",
      "\u001B[0;34m[INFO]: \u001B[0m./outputs/LVM_Field_ETC_linear_central_59883_flux.fits saved.\n",
      "\u001B[0;34m[INFO]: \u001B[0m./outputs/LVM_Field_ETC_linear_central_90000_flux.fits saved.\n"
     ]
    },
    {
     "name": "stdout",
     "output_type": "stream",
     "text": [
      "To reach S/N=30 in line = 6563.0±1.0A we need 2181s of single exposure\n",
      "To reach S/N=10 in line = 6717.0±1.0A we need 3074s of single exposure\n",
      "To reach S/N=15 in line = 4861.0±1.0A we need 2347s of single exposure\n"
     ]
    },
    {
     "data": {
      "text/plain": "<Figure size 576x432 with 1 Axes>",
      "image/png": "[encoded data removed]"
     },
     "metadata": {},
     "output_type": "display_data"
    },
    {
     "name": "stdout",
     "output_type": "stream",
     "text": [
      "Elapsed time: 7.7s\n"
     ]
    },
    {
     "data": {
      "text/plain": "[2181, 3074, 2347]"
     },
     "execution_count": 5,
     "metadata": {},
     "output_type": "execute_result"
    }
   ],
   "source": [
    "params = {'nebula': neb_params,\n",
    "          'star': star_params,\n",
    "          }\n",
    "\n",
    "\n",
    "run_lvm_etc(params, check_lines=[6563., 6717., 4861.], desired_snr=[30, 10, 15])"
   ],
   "metadata": {
    "collapsed": false,
    "pycharm": {
     "name": "#%%\n"
    }
   }
  },
  {
   "cell_type": "code",
   "execution_count": null,
   "outputs": [],
   "source": [],
   "metadata": {
    "collapsed": false,
    "pycharm": {
     "name": "#%%\n"
    }
   }
  }
 ],
 "metadata": {
  "colab": {
   "collapsed_sections": [],
   "name": "LVM_data_simulator_tutorial.ipynb",
   "provenance": []
  },
  "kernelspec": {
   "name": "python3",
   "language": "python",
   "display_name": "Python 3 (ipykernel)"
  },
  "language_info": {
   "codemirror_mode": {
    "name": "ipython",
    "version": 3
   },
   "file_extension": ".py",
   "mimetype": "text/x-python",
   "name": "python",
   "nbconvert_exporter": "python",
   "pygments_lexer": "ipython3",
   "version": "3.9.7"
  }
 },
 "nbformat": 4,
 "nbformat_minor": 5
}