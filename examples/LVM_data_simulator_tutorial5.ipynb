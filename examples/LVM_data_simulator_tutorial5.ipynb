{
 "cells": [
  {
   "cell_type": "markdown",
   "source": [
    "# LVM Data Simulator tutorial: 2D simulations\n"
   ],
   "metadata": {
    "collapsed": false
   }
  },
  {
   "cell_type": "markdown",
   "source": [
    "**This is a tutorial on how run the simulator to produce 2D Raw spectra in the same format as they will be obtained with LVM. This is developed mainly for DRP tests.**\n",
    "- How to install the simulator and how to prepare a custom simulation is shown in [tutorial #1](https://github.com/sdss/lvmdatasimulator/blob/main/examples/LVM_data_simulator_tutorial1.ipynb)\n",
    "- More details on the setup of LVM instrumentation and on the structure of the outputs of the simulator are given in [tutorial #2](https://github.com/sdss/lvmdatasimulator/blob/main/examples/LVM_data_simulator_tutorial2.ipynb)\n",
    "- More realistic and useful simulations are considered in [tutorial #3](https://github.com/sdss/lvmdatasimulator/blob/main/examples/LVM_data_simulator_tutorial3.ipynb) - please go there if you have already installed and configured the package and want to learn how to simulate the source field in more details.\n",
    "- If you want to learn how to use the code as exposure time calculator (ETC) - please go there [tutorial #4](https://github.com/sdss/lvmdatasimulator/blob/main/examples/LVM_data_simulator_tutorial4.ipynb).\n",
    "\n",
    "_Last update: 2023/02/27_\n"
   ],
   "metadata": {
    "collapsed": false
   }
  },
  {
   "cell_type": "markdown",
   "source": [
    "Producing of 2D Raw LVM spectra is very similar to 1D case, but you need to use the `Simulator2D` class instead of the `Simulator`. Modelling of the source field, initialization of the instrument (telescope + spectrograph) properties and of the observational conditions are performed in the the same was as for 1D case (see tutorials 1--3 for details)."
   ],
   "metadata": {
    "collapsed": false
   }
  },
  {
   "cell_type": "code",
   "execution_count": 1,
   "outputs": [],
   "source": [
    "from lvmdatasimulator.simulator2d import Simulator2D\n",
    "from lvmdatasimulator.field import LVMField\n",
    "from lvmdatasimulator.observation import Observation\n",
    "from lvmdatasimulator.telescope import LVM160\n",
    "from lvmdatasimulator.instrument import LVMSpectrograph\n",
    "from lvmdatasimulator.fibers import FiberBundle\n",
    "\n",
    "import astropy.units as u\n",
    "from matplotlib import pyplot as plt\n",
    "import os"
   ],
   "metadata": {
    "collapsed": false
   }
  },
  {
   "cell_type": "markdown",
   "source": [
    "Go to the directory where the results will be saved"
   ],
   "metadata": {
    "collapsed": false
   }
  },
  {
   "cell_type": "code",
   "execution_count": 2,
   "outputs": [],
   "source": [
    "os.chdir(\"/Users/mors/Science/LVM/Sim2D/\")"
   ],
   "metadata": {
    "collapsed": false
   }
  },
  {
   "cell_type": "markdown",
   "source": [
    "Below we initialize the properties of the telescope, spectrograph, fiber bundles, observational conditions, source field. We skip the details here (see tutorials 1-3).\n",
    "We will create relatively complex source field containing DIG and two expanding bubbles. We are going to simulate the spectra for the entire fiber bundle.\n",
    "__N.B.: The simulation below takes 40-60 minutes. To decrease this time, you can simplify the source field (e.g., exclude the bubbles) or/and limit the number of rings in the `FiberBundle`.__"
   ],
   "metadata": {
    "collapsed": false
   }
  },
  {
   "cell_type": "code",
   "execution_count": 3,
   "outputs": [
    {
     "name": "stderr",
     "output_type": "stream",
     "text": [
      "\u001B[0;34m[INFO]: \u001B[0mUsing the full hexagon pattern\n"
     ]
    }
   ],
   "source": [
    "tel = LVM160()\n",
    "spec = LVMSpectrograph()\n",
    "\n",
    "bundle = FiberBundle(bundle_name='full')  # add nrings=XX in order to limit the simulations by XX rings only\n",
    "\n",
    "ra = 12.34 # u.degree\n",
    "dec = -20.35 # u.degree\n",
    "fov_size = 35 # u.arcmin\n",
    "fov_pixel = 5 # u.arcsec\n",
    "distance = 50 # * u.kpc\n",
    "turbulent_sigma = 20 #* u.km / u.s\n",
    "\n",
    "exptimes = [900] # in seconds\n",
    "obs = Observation(ra=ra, dec=dec, unit_ra=u.deg, unit_dec=u.deg, exptimes=exptimes)"
   ],
   "metadata": {
    "collapsed": false
   }
  },
  {
   "cell_type": "code",
   "execution_count": 4,
   "outputs": [],
   "source": [
    "name = 'LVM_2D_full'\n",
    "my_lvmfield = LVMField(ra=ra, dec=dec, size=fov_size, pxsize=fov_pixel, name=name,\n",
    "                       ism_params={'distance': distance, 'turbulent_sigma': turbulent_sigma, 'vel_amplitude': 250})\n",
    "# my_lvmfield.generate_gaia_stars(gmag_limit=15)\n",
    "# dig = {\"type\": 'DIG', 'max_brightness': 5e-16, 'perturb_amplitude': 0.2, 'perturb_scale': 500 * u.pc}\n",
    "# bubble1 = {'type': 'Bubble', 'max_brightness': 2e-14, 'radius': 40, 'expansion_velocity':50, 'thickness':0.2, 'sys_velocity': 40,\n",
    "#           'model_params': {'Z': 0.8, 'qH': 51., 'nH': 10}, 'model_type': 'cloudy', 'offset_X': 0, 'offset_Y':-40}\n",
    "# bubble2 = {'type': 'Bubble', 'max_brightness': 1e-15, 'radius': 70, 'expansion_velocity':25, 'thickness':0.3, 'sys_velocity': -30,\n",
    "#           'model_params': {'Z': 0.8, 'qH': 50., 'nH': 10}, 'model_type': 'cloudy', 'offset_X': -40, 'offset_Y':90}\n",
    "#\n",
    "# my_lvmfield.add_nebulae([dig, bubble1, bubble2])"
   ],
   "metadata": {
    "collapsed": false
   }
  },
  {
   "cell_type": "code",
   "execution_count": 5,
   "outputs": [
    {
     "name": "stderr",
     "output_type": "stream",
     "text": [
      "\u001B[1;33m[WARNING]: \u001B[0mBundle center coords are not defined, using the coords of the field.\n"
     ]
    },
    {
     "ename": "KeyboardInterrupt",
     "evalue": "",
     "output_type": "error",
     "traceback": [
      "\u001B[0;31m---------------------------------------------------------------------------\u001B[0m",
      "\u001B[0;31mKeyboardInterrupt\u001B[0m                         Traceback (most recent call last)",
      "\u001B[0;32m/var/folders/49/f6v0km3x04vb9mrgcyng440m0000gn/T/ipykernel_26450/1489230361.py\u001B[0m in \u001B[0;36m<module>\u001B[0;34m\u001B[0m\n\u001B[0;32m----> 1\u001B[0;31m \u001B[0mmy_lvmfield\u001B[0m\u001B[0;34m.\u001B[0m\u001B[0mshow\u001B[0m\u001B[0;34m(\u001B[0m\u001B[0mcmap\u001B[0m\u001B[0;34m=\u001B[0m\u001B[0mplt\u001B[0m\u001B[0;34m.\u001B[0m\u001B[0mcm\u001B[0m\u001B[0;34m.\u001B[0m\u001B[0mGreys\u001B[0m\u001B[0;34m,\u001B[0m \u001B[0mpercentile\u001B[0m\u001B[0;34m=\u001B[0m\u001B[0;36m96\u001B[0m\u001B[0;34m,\u001B[0m \u001B[0mfibers\u001B[0m\u001B[0;34m=\u001B[0m\u001B[0mbundle\u001B[0m\u001B[0;34m.\u001B[0m\u001B[0mfibers_science\u001B[0m\u001B[0;34m)\u001B[0m\u001B[0;34m\u001B[0m\u001B[0;34m\u001B[0m\u001B[0m\n\u001B[0m",
      "\u001B[0;32m~/Science/PyWorkspace/lvmdatasimulator/python/lvmdatasimulator/field.py\u001B[0m in \u001B[0;36mshow\u001B[0;34m(self, obs_coords, subplots_kw, scatter_kw, fibers, outname, cmap, percentile)\u001B[0m\n\u001B[1;32m    256\u001B[0m                 \u001B[0mcur_outname\u001B[0m \u001B[0;34m=\u001B[0m \u001B[0mos\u001B[0m\u001B[0;34m.\u001B[0m\u001B[0mpath\u001B[0m\u001B[0;34m.\u001B[0m\u001B[0mjoin\u001B[0m\u001B[0;34m(\u001B[0m\u001B[0mlvmdatasimulator\u001B[0m\u001B[0;34m.\u001B[0m\u001B[0mWORK_DIR\u001B[0m\u001B[0;34m,\u001B[0m \u001B[0mself\u001B[0m\u001B[0;34m.\u001B[0m\u001B[0mname\u001B[0m\u001B[0;34m,\u001B[0m \u001B[0moutname\u001B[0m\u001B[0;34m)\u001B[0m\u001B[0;34m\u001B[0m\u001B[0;34m\u001B[0m\u001B[0m\n\u001B[1;32m    257\u001B[0m             \u001B[0mplt\u001B[0m\u001B[0;34m.\u001B[0m\u001B[0msavefig\u001B[0m\u001B[0;34m(\u001B[0m\u001B[0mcur_outname\u001B[0m\u001B[0;34m,\u001B[0m \u001B[0mdpi\u001B[0m\u001B[0;34m=\u001B[0m\u001B[0;36m200\u001B[0m\u001B[0;34m)\u001B[0m\u001B[0;34m\u001B[0m\u001B[0;34m\u001B[0m\u001B[0m\n\u001B[0;32m--> 258\u001B[0;31m         \u001B[0mplt\u001B[0m\u001B[0;34m.\u001B[0m\u001B[0mshow\u001B[0m\u001B[0;34m(\u001B[0m\u001B[0;34m)\u001B[0m\u001B[0;34m\u001B[0m\u001B[0;34m\u001B[0m\u001B[0m\n\u001B[0m\u001B[1;32m    259\u001B[0m \u001B[0;34m\u001B[0m\u001B[0m\n\u001B[1;32m    260\u001B[0m     \u001B[0;32mdef\u001B[0m \u001B[0m_plot_stars\u001B[0m\u001B[0;34m(\u001B[0m\u001B[0mself\u001B[0m\u001B[0;34m,\u001B[0m \u001B[0max\u001B[0m\u001B[0;34m)\u001B[0m\u001B[0;34m:\u001B[0m\u001B[0;34m\u001B[0m\u001B[0;34m\u001B[0m\u001B[0m\n",
      "\u001B[0;32m~/.conda/envs/LVM/lib/python3.9/site-packages/matplotlib/pyplot.py\u001B[0m in \u001B[0;36mshow\u001B[0;34m(*args, **kwargs)\u001B[0m\n\u001B[1;32m    376\u001B[0m     \"\"\"\n\u001B[1;32m    377\u001B[0m     \u001B[0m_warn_if_gui_out_of_main_thread\u001B[0m\u001B[0;34m(\u001B[0m\u001B[0;34m)\u001B[0m\u001B[0;34m\u001B[0m\u001B[0;34m\u001B[0m\u001B[0m\n\u001B[0;32m--> 378\u001B[0;31m     \u001B[0;32mreturn\u001B[0m \u001B[0m_backend_mod\u001B[0m\u001B[0;34m.\u001B[0m\u001B[0mshow\u001B[0m\u001B[0;34m(\u001B[0m\u001B[0;34m*\u001B[0m\u001B[0margs\u001B[0m\u001B[0;34m,\u001B[0m \u001B[0;34m**\u001B[0m\u001B[0mkwargs\u001B[0m\u001B[0;34m)\u001B[0m\u001B[0;34m\u001B[0m\u001B[0;34m\u001B[0m\u001B[0m\n\u001B[0m\u001B[1;32m    379\u001B[0m \u001B[0;34m\u001B[0m\u001B[0m\n\u001B[1;32m    380\u001B[0m \u001B[0;34m\u001B[0m\u001B[0m\n",
      "\u001B[0;32m~/.conda/envs/LVM/lib/python3.9/site-packages/matplotlib_inline/backend_inline.py\u001B[0m in \u001B[0;36mshow\u001B[0;34m(close, block)\u001B[0m\n\u001B[1;32m     39\u001B[0m     \u001B[0;32mtry\u001B[0m\u001B[0;34m:\u001B[0m\u001B[0;34m\u001B[0m\u001B[0;34m\u001B[0m\u001B[0m\n\u001B[1;32m     40\u001B[0m         \u001B[0;32mfor\u001B[0m \u001B[0mfigure_manager\u001B[0m \u001B[0;32min\u001B[0m \u001B[0mGcf\u001B[0m\u001B[0;34m.\u001B[0m\u001B[0mget_all_fig_managers\u001B[0m\u001B[0;34m(\u001B[0m\u001B[0;34m)\u001B[0m\u001B[0;34m:\u001B[0m\u001B[0;34m\u001B[0m\u001B[0;34m\u001B[0m\u001B[0m\n\u001B[0;32m---> 41\u001B[0;31m             display(\n\u001B[0m\u001B[1;32m     42\u001B[0m                 \u001B[0mfigure_manager\u001B[0m\u001B[0;34m.\u001B[0m\u001B[0mcanvas\u001B[0m\u001B[0;34m.\u001B[0m\u001B[0mfigure\u001B[0m\u001B[0;34m,\u001B[0m\u001B[0;34m\u001B[0m\u001B[0;34m\u001B[0m\u001B[0m\n\u001B[1;32m     43\u001B[0m                 \u001B[0mmetadata\u001B[0m\u001B[0;34m=\u001B[0m\u001B[0m_fetch_figure_metadata\u001B[0m\u001B[0;34m(\u001B[0m\u001B[0mfigure_manager\u001B[0m\u001B[0;34m.\u001B[0m\u001B[0mcanvas\u001B[0m\u001B[0;34m.\u001B[0m\u001B[0mfigure\u001B[0m\u001B[0;34m)\u001B[0m\u001B[0;34m\u001B[0m\u001B[0;34m\u001B[0m\u001B[0m\n",
      "\u001B[0;32m~/.conda/envs/LVM/lib/python3.9/site-packages/IPython/core/display.py\u001B[0m in \u001B[0;36mdisplay\u001B[0;34m(include, exclude, metadata, transient, display_id, *objs, **kwargs)\u001B[0m\n\u001B[1;32m    318\u001B[0m             \u001B[0mpublish_display_data\u001B[0m\u001B[0;34m(\u001B[0m\u001B[0mdata\u001B[0m\u001B[0;34m=\u001B[0m\u001B[0mobj\u001B[0m\u001B[0;34m,\u001B[0m \u001B[0mmetadata\u001B[0m\u001B[0;34m=\u001B[0m\u001B[0mmetadata\u001B[0m\u001B[0;34m,\u001B[0m \u001B[0;34m**\u001B[0m\u001B[0mkwargs\u001B[0m\u001B[0;34m)\u001B[0m\u001B[0;34m\u001B[0m\u001B[0;34m\u001B[0m\u001B[0m\n\u001B[1;32m    319\u001B[0m         \u001B[0;32melse\u001B[0m\u001B[0;34m:\u001B[0m\u001B[0;34m\u001B[0m\u001B[0;34m\u001B[0m\u001B[0m\n\u001B[0;32m--> 320\u001B[0;31m             \u001B[0mformat_dict\u001B[0m\u001B[0;34m,\u001B[0m \u001B[0mmd_dict\u001B[0m \u001B[0;34m=\u001B[0m \u001B[0mformat\u001B[0m\u001B[0;34m(\u001B[0m\u001B[0mobj\u001B[0m\u001B[0;34m,\u001B[0m \u001B[0minclude\u001B[0m\u001B[0;34m=\u001B[0m\u001B[0minclude\u001B[0m\u001B[0;34m,\u001B[0m \u001B[0mexclude\u001B[0m\u001B[0;34m=\u001B[0m\u001B[0mexclude\u001B[0m\u001B[0;34m)\u001B[0m\u001B[0;34m\u001B[0m\u001B[0;34m\u001B[0m\u001B[0m\n\u001B[0m\u001B[1;32m    321\u001B[0m             \u001B[0;32mif\u001B[0m \u001B[0;32mnot\u001B[0m \u001B[0mformat_dict\u001B[0m\u001B[0;34m:\u001B[0m\u001B[0;34m\u001B[0m\u001B[0;34m\u001B[0m\u001B[0m\n\u001B[1;32m    322\u001B[0m                 \u001B[0;31m# nothing to display (e.g. _ipython_display_ took over)\u001B[0m\u001B[0;34m\u001B[0m\u001B[0;34m\u001B[0m\u001B[0m\n",
      "\u001B[0;32m~/.conda/envs/LVM/lib/python3.9/site-packages/IPython/core/formatters.py\u001B[0m in \u001B[0;36mformat\u001B[0;34m(self, obj, include, exclude)\u001B[0m\n\u001B[1;32m    178\u001B[0m             \u001B[0mmd\u001B[0m \u001B[0;34m=\u001B[0m \u001B[0;32mNone\u001B[0m\u001B[0;34m\u001B[0m\u001B[0;34m\u001B[0m\u001B[0m\n\u001B[1;32m    179\u001B[0m             \u001B[0;32mtry\u001B[0m\u001B[0;34m:\u001B[0m\u001B[0;34m\u001B[0m\u001B[0;34m\u001B[0m\u001B[0m\n\u001B[0;32m--> 180\u001B[0;31m                 \u001B[0mdata\u001B[0m \u001B[0;34m=\u001B[0m \u001B[0mformatter\u001B[0m\u001B[0;34m(\u001B[0m\u001B[0mobj\u001B[0m\u001B[0;34m)\u001B[0m\u001B[0;34m\u001B[0m\u001B[0;34m\u001B[0m\u001B[0m\n\u001B[0m\u001B[1;32m    181\u001B[0m             \u001B[0;32mexcept\u001B[0m\u001B[0;34m:\u001B[0m\u001B[0;34m\u001B[0m\u001B[0;34m\u001B[0m\u001B[0m\n\u001B[1;32m    182\u001B[0m                 \u001B[0;31m# FIXME: log the exception\u001B[0m\u001B[0;34m\u001B[0m\u001B[0;34m\u001B[0m\u001B[0m\n",
      "\u001B[0;32m~/.conda/envs/LVM/lib/python3.9/site-packages/decorator.py\u001B[0m in \u001B[0;36mfun\u001B[0;34m(*args, **kw)\u001B[0m\n\u001B[1;32m    230\u001B[0m             \u001B[0;32mif\u001B[0m \u001B[0;32mnot\u001B[0m \u001B[0mkwsyntax\u001B[0m\u001B[0;34m:\u001B[0m\u001B[0;34m\u001B[0m\u001B[0;34m\u001B[0m\u001B[0m\n\u001B[1;32m    231\u001B[0m                 \u001B[0margs\u001B[0m\u001B[0;34m,\u001B[0m \u001B[0mkw\u001B[0m \u001B[0;34m=\u001B[0m \u001B[0mfix\u001B[0m\u001B[0;34m(\u001B[0m\u001B[0margs\u001B[0m\u001B[0;34m,\u001B[0m \u001B[0mkw\u001B[0m\u001B[0;34m,\u001B[0m \u001B[0msig\u001B[0m\u001B[0;34m)\u001B[0m\u001B[0;34m\u001B[0m\u001B[0;34m\u001B[0m\u001B[0m\n\u001B[0;32m--> 232\u001B[0;31m             \u001B[0;32mreturn\u001B[0m \u001B[0mcaller\u001B[0m\u001B[0;34m(\u001B[0m\u001B[0mfunc\u001B[0m\u001B[0;34m,\u001B[0m \u001B[0;34m*\u001B[0m\u001B[0;34m(\u001B[0m\u001B[0mextras\u001B[0m \u001B[0;34m+\u001B[0m \u001B[0margs\u001B[0m\u001B[0;34m)\u001B[0m\u001B[0;34m,\u001B[0m \u001B[0;34m**\u001B[0m\u001B[0mkw\u001B[0m\u001B[0;34m)\u001B[0m\u001B[0;34m\u001B[0m\u001B[0;34m\u001B[0m\u001B[0m\n\u001B[0m\u001B[1;32m    233\u001B[0m     \u001B[0mfun\u001B[0m\u001B[0;34m.\u001B[0m\u001B[0m__name__\u001B[0m \u001B[0;34m=\u001B[0m \u001B[0mfunc\u001B[0m\u001B[0;34m.\u001B[0m\u001B[0m__name__\u001B[0m\u001B[0;34m\u001B[0m\u001B[0;34m\u001B[0m\u001B[0m\n\u001B[1;32m    234\u001B[0m     \u001B[0mfun\u001B[0m\u001B[0;34m.\u001B[0m\u001B[0m__doc__\u001B[0m \u001B[0;34m=\u001B[0m \u001B[0mfunc\u001B[0m\u001B[0;34m.\u001B[0m\u001B[0m__doc__\u001B[0m\u001B[0;34m\u001B[0m\u001B[0;34m\u001B[0m\u001B[0m\n",
      "\u001B[0;32m~/.conda/envs/LVM/lib/python3.9/site-packages/IPython/core/formatters.py\u001B[0m in \u001B[0;36mcatch_format_error\u001B[0;34m(method, self, *args, **kwargs)\u001B[0m\n\u001B[1;32m    222\u001B[0m     \u001B[0;34m\"\"\"show traceback on failed format call\"\"\"\u001B[0m\u001B[0;34m\u001B[0m\u001B[0;34m\u001B[0m\u001B[0m\n\u001B[1;32m    223\u001B[0m     \u001B[0;32mtry\u001B[0m\u001B[0;34m:\u001B[0m\u001B[0;34m\u001B[0m\u001B[0;34m\u001B[0m\u001B[0m\n\u001B[0;32m--> 224\u001B[0;31m         \u001B[0mr\u001B[0m \u001B[0;34m=\u001B[0m \u001B[0mmethod\u001B[0m\u001B[0;34m(\u001B[0m\u001B[0mself\u001B[0m\u001B[0;34m,\u001B[0m \u001B[0;34m*\u001B[0m\u001B[0margs\u001B[0m\u001B[0;34m,\u001B[0m \u001B[0;34m**\u001B[0m\u001B[0mkwargs\u001B[0m\u001B[0;34m)\u001B[0m\u001B[0;34m\u001B[0m\u001B[0;34m\u001B[0m\u001B[0m\n\u001B[0m\u001B[1;32m    225\u001B[0m     \u001B[0;32mexcept\u001B[0m \u001B[0mNotImplementedError\u001B[0m\u001B[0;34m:\u001B[0m\u001B[0;34m\u001B[0m\u001B[0;34m\u001B[0m\u001B[0m\n\u001B[1;32m    226\u001B[0m         \u001B[0;31m# don't warn on NotImplementedErrors\u001B[0m\u001B[0;34m\u001B[0m\u001B[0;34m\u001B[0m\u001B[0m\n",
      "\u001B[0;32m~/.conda/envs/LVM/lib/python3.9/site-packages/IPython/core/formatters.py\u001B[0m in \u001B[0;36m__call__\u001B[0;34m(self, obj)\u001B[0m\n\u001B[1;32m    339\u001B[0m                 \u001B[0;32mpass\u001B[0m\u001B[0;34m\u001B[0m\u001B[0;34m\u001B[0m\u001B[0m\n\u001B[1;32m    340\u001B[0m             \u001B[0;32melse\u001B[0m\u001B[0;34m:\u001B[0m\u001B[0;34m\u001B[0m\u001B[0;34m\u001B[0m\u001B[0m\n\u001B[0;32m--> 341\u001B[0;31m                 \u001B[0;32mreturn\u001B[0m \u001B[0mprinter\u001B[0m\u001B[0;34m(\u001B[0m\u001B[0mobj\u001B[0m\u001B[0;34m)\u001B[0m\u001B[0;34m\u001B[0m\u001B[0;34m\u001B[0m\u001B[0m\n\u001B[0m\u001B[1;32m    342\u001B[0m             \u001B[0;31m# Finally look for special method names\u001B[0m\u001B[0;34m\u001B[0m\u001B[0;34m\u001B[0m\u001B[0m\n\u001B[1;32m    343\u001B[0m             \u001B[0mmethod\u001B[0m \u001B[0;34m=\u001B[0m \u001B[0mget_real_method\u001B[0m\u001B[0;34m(\u001B[0m\u001B[0mobj\u001B[0m\u001B[0;34m,\u001B[0m \u001B[0mself\u001B[0m\u001B[0;34m.\u001B[0m\u001B[0mprint_method\u001B[0m\u001B[0;34m)\u001B[0m\u001B[0;34m\u001B[0m\u001B[0;34m\u001B[0m\u001B[0m\n",
      "\u001B[0;32m~/.conda/envs/LVM/lib/python3.9/site-packages/IPython/core/pylabtools.py\u001B[0m in \u001B[0;36mprint_figure\u001B[0;34m(fig, fmt, bbox_inches, base64, **kwargs)\u001B[0m\n\u001B[1;32m    149\u001B[0m         \u001B[0mFigureCanvasBase\u001B[0m\u001B[0;34m(\u001B[0m\u001B[0mfig\u001B[0m\u001B[0;34m)\u001B[0m\u001B[0;34m\u001B[0m\u001B[0;34m\u001B[0m\u001B[0m\n\u001B[1;32m    150\u001B[0m \u001B[0;34m\u001B[0m\u001B[0m\n\u001B[0;32m--> 151\u001B[0;31m     \u001B[0mfig\u001B[0m\u001B[0;34m.\u001B[0m\u001B[0mcanvas\u001B[0m\u001B[0;34m.\u001B[0m\u001B[0mprint_figure\u001B[0m\u001B[0;34m(\u001B[0m\u001B[0mbytes_io\u001B[0m\u001B[0;34m,\u001B[0m \u001B[0;34m**\u001B[0m\u001B[0mkw\u001B[0m\u001B[0;34m)\u001B[0m\u001B[0;34m\u001B[0m\u001B[0;34m\u001B[0m\u001B[0m\n\u001B[0m\u001B[1;32m    152\u001B[0m     \u001B[0mdata\u001B[0m \u001B[0;34m=\u001B[0m \u001B[0mbytes_io\u001B[0m\u001B[0;34m.\u001B[0m\u001B[0mgetvalue\u001B[0m\u001B[0;34m(\u001B[0m\u001B[0;34m)\u001B[0m\u001B[0;34m\u001B[0m\u001B[0;34m\u001B[0m\u001B[0m\n\u001B[1;32m    153\u001B[0m     \u001B[0;32mif\u001B[0m \u001B[0mfmt\u001B[0m \u001B[0;34m==\u001B[0m \u001B[0;34m'svg'\u001B[0m\u001B[0;34m:\u001B[0m\u001B[0;34m\u001B[0m\u001B[0;34m\u001B[0m\u001B[0m\n",
      "\u001B[0;32m~/.conda/envs/LVM/lib/python3.9/site-packages/matplotlib/backend_bases.py\u001B[0m in \u001B[0;36mprint_figure\u001B[0;34m(self, filename, dpi, facecolor, edgecolor, orientation, format, bbox_inches, pad_inches, bbox_extra_artists, backend, **kwargs)\u001B[0m\n\u001B[1;32m   2253\u001B[0m                 \u001B[0;31m# force the figure dpi to 72), so we need to set it again here.\u001B[0m\u001B[0;34m\u001B[0m\u001B[0;34m\u001B[0m\u001B[0m\n\u001B[1;32m   2254\u001B[0m                 \u001B[0;32mwith\u001B[0m \u001B[0mcbook\u001B[0m\u001B[0;34m.\u001B[0m\u001B[0m_setattr_cm\u001B[0m\u001B[0;34m(\u001B[0m\u001B[0mself\u001B[0m\u001B[0;34m.\u001B[0m\u001B[0mfigure\u001B[0m\u001B[0;34m,\u001B[0m \u001B[0mdpi\u001B[0m\u001B[0;34m=\u001B[0m\u001B[0mdpi\u001B[0m\u001B[0;34m)\u001B[0m\u001B[0;34m:\u001B[0m\u001B[0;34m\u001B[0m\u001B[0;34m\u001B[0m\u001B[0m\n\u001B[0;32m-> 2255\u001B[0;31m                     result = print_method(\n\u001B[0m\u001B[1;32m   2256\u001B[0m                         \u001B[0mfilename\u001B[0m\u001B[0;34m,\u001B[0m\u001B[0;34m\u001B[0m\u001B[0;34m\u001B[0m\u001B[0m\n\u001B[1;32m   2257\u001B[0m                         \u001B[0mfacecolor\u001B[0m\u001B[0;34m=\u001B[0m\u001B[0mfacecolor\u001B[0m\u001B[0;34m,\u001B[0m\u001B[0;34m\u001B[0m\u001B[0;34m\u001B[0m\u001B[0m\n",
      "\u001B[0;32m~/.conda/envs/LVM/lib/python3.9/site-packages/matplotlib/backend_bases.py\u001B[0m in \u001B[0;36mwrapper\u001B[0;34m(*args, **kwargs)\u001B[0m\n\u001B[1;32m   1667\u001B[0m             \u001B[0mkwargs\u001B[0m\u001B[0;34m.\u001B[0m\u001B[0mpop\u001B[0m\u001B[0;34m(\u001B[0m\u001B[0marg\u001B[0m\u001B[0;34m)\u001B[0m\u001B[0;34m\u001B[0m\u001B[0;34m\u001B[0m\u001B[0m\n\u001B[1;32m   1668\u001B[0m \u001B[0;34m\u001B[0m\u001B[0m\n\u001B[0;32m-> 1669\u001B[0;31m         \u001B[0;32mreturn\u001B[0m \u001B[0mfunc\u001B[0m\u001B[0;34m(\u001B[0m\u001B[0;34m*\u001B[0m\u001B[0margs\u001B[0m\u001B[0;34m,\u001B[0m \u001B[0;34m**\u001B[0m\u001B[0mkwargs\u001B[0m\u001B[0;34m)\u001B[0m\u001B[0;34m\u001B[0m\u001B[0;34m\u001B[0m\u001B[0m\n\u001B[0m\u001B[1;32m   1670\u001B[0m \u001B[0;34m\u001B[0m\u001B[0m\n\u001B[1;32m   1671\u001B[0m     \u001B[0;32mreturn\u001B[0m \u001B[0mwrapper\u001B[0m\u001B[0;34m\u001B[0m\u001B[0;34m\u001B[0m\u001B[0m\n",
      "\u001B[0;32m~/.conda/envs/LVM/lib/python3.9/site-packages/matplotlib/backends/backend_agg.py\u001B[0m in \u001B[0;36mprint_png\u001B[0;34m(self, filename_or_obj, metadata, pil_kwargs, *args)\u001B[0m\n\u001B[1;32m    506\u001B[0m             \u001B[0;34m*\u001B[0m\u001B[0mmetadata\u001B[0m\u001B[0;34m*\u001B[0m\u001B[0;34m,\u001B[0m \u001B[0mincluding\u001B[0m \u001B[0mthe\u001B[0m \u001B[0mdefault\u001B[0m \u001B[0;34m'Software'\u001B[0m \u001B[0mkey\u001B[0m\u001B[0;34m.\u001B[0m\u001B[0;34m\u001B[0m\u001B[0;34m\u001B[0m\u001B[0m\n\u001B[1;32m    507\u001B[0m         \"\"\"\n\u001B[0;32m--> 508\u001B[0;31m         \u001B[0mFigureCanvasAgg\u001B[0m\u001B[0;34m.\u001B[0m\u001B[0mdraw\u001B[0m\u001B[0;34m(\u001B[0m\u001B[0mself\u001B[0m\u001B[0;34m)\u001B[0m\u001B[0;34m\u001B[0m\u001B[0;34m\u001B[0m\u001B[0m\n\u001B[0m\u001B[1;32m    509\u001B[0m         mpl.image.imsave(\n\u001B[1;32m    510\u001B[0m             \u001B[0mfilename_or_obj\u001B[0m\u001B[0;34m,\u001B[0m \u001B[0mself\u001B[0m\u001B[0;34m.\u001B[0m\u001B[0mbuffer_rgba\u001B[0m\u001B[0;34m(\u001B[0m\u001B[0;34m)\u001B[0m\u001B[0;34m,\u001B[0m \u001B[0mformat\u001B[0m\u001B[0;34m=\u001B[0m\u001B[0;34m\"png\"\u001B[0m\u001B[0;34m,\u001B[0m \u001B[0morigin\u001B[0m\u001B[0;34m=\u001B[0m\u001B[0;34m\"upper\"\u001B[0m\u001B[0;34m,\u001B[0m\u001B[0;34m\u001B[0m\u001B[0;34m\u001B[0m\u001B[0m\n",
      "\u001B[0;32m~/.conda/envs/LVM/lib/python3.9/site-packages/matplotlib/backends/backend_agg.py\u001B[0m in \u001B[0;36mdraw\u001B[0;34m(self)\u001B[0m\n\u001B[1;32m    404\u001B[0m              (self.toolbar._wait_cursor_for_draw_cm() if self.toolbar\n\u001B[1;32m    405\u001B[0m               else nullcontext()):\n\u001B[0;32m--> 406\u001B[0;31m             \u001B[0mself\u001B[0m\u001B[0;34m.\u001B[0m\u001B[0mfigure\u001B[0m\u001B[0;34m.\u001B[0m\u001B[0mdraw\u001B[0m\u001B[0;34m(\u001B[0m\u001B[0mself\u001B[0m\u001B[0;34m.\u001B[0m\u001B[0mrenderer\u001B[0m\u001B[0;34m)\u001B[0m\u001B[0;34m\u001B[0m\u001B[0;34m\u001B[0m\u001B[0m\n\u001B[0m\u001B[1;32m    407\u001B[0m             \u001B[0;31m# A GUI class may be need to update a window using this draw, so\u001B[0m\u001B[0;34m\u001B[0m\u001B[0;34m\u001B[0m\u001B[0m\n\u001B[1;32m    408\u001B[0m             \u001B[0;31m# don't forget to call the superclass.\u001B[0m\u001B[0;34m\u001B[0m\u001B[0;34m\u001B[0m\u001B[0m\n",
      "\u001B[0;32m~/.conda/envs/LVM/lib/python3.9/site-packages/matplotlib/artist.py\u001B[0m in \u001B[0;36mdraw_wrapper\u001B[0;34m(artist, renderer, *args, **kwargs)\u001B[0m\n\u001B[1;32m     72\u001B[0m     \u001B[0;34m@\u001B[0m\u001B[0mwraps\u001B[0m\u001B[0;34m(\u001B[0m\u001B[0mdraw\u001B[0m\u001B[0;34m)\u001B[0m\u001B[0;34m\u001B[0m\u001B[0;34m\u001B[0m\u001B[0m\n\u001B[1;32m     73\u001B[0m     \u001B[0;32mdef\u001B[0m \u001B[0mdraw_wrapper\u001B[0m\u001B[0;34m(\u001B[0m\u001B[0martist\u001B[0m\u001B[0;34m,\u001B[0m \u001B[0mrenderer\u001B[0m\u001B[0;34m,\u001B[0m \u001B[0;34m*\u001B[0m\u001B[0margs\u001B[0m\u001B[0;34m,\u001B[0m \u001B[0;34m**\u001B[0m\u001B[0mkwargs\u001B[0m\u001B[0;34m)\u001B[0m\u001B[0;34m:\u001B[0m\u001B[0;34m\u001B[0m\u001B[0;34m\u001B[0m\u001B[0m\n\u001B[0;32m---> 74\u001B[0;31m         \u001B[0mresult\u001B[0m \u001B[0;34m=\u001B[0m \u001B[0mdraw\u001B[0m\u001B[0;34m(\u001B[0m\u001B[0martist\u001B[0m\u001B[0;34m,\u001B[0m \u001B[0mrenderer\u001B[0m\u001B[0;34m,\u001B[0m \u001B[0;34m*\u001B[0m\u001B[0margs\u001B[0m\u001B[0;34m,\u001B[0m \u001B[0;34m**\u001B[0m\u001B[0mkwargs\u001B[0m\u001B[0;34m)\u001B[0m\u001B[0;34m\u001B[0m\u001B[0;34m\u001B[0m\u001B[0m\n\u001B[0m\u001B[1;32m     75\u001B[0m         \u001B[0;32mif\u001B[0m \u001B[0mrenderer\u001B[0m\u001B[0;34m.\u001B[0m\u001B[0m_rasterizing\u001B[0m\u001B[0;34m:\u001B[0m\u001B[0;34m\u001B[0m\u001B[0;34m\u001B[0m\u001B[0m\n\u001B[1;32m     76\u001B[0m             \u001B[0mrenderer\u001B[0m\u001B[0;34m.\u001B[0m\u001B[0mstop_rasterizing\u001B[0m\u001B[0;34m(\u001B[0m\u001B[0;34m)\u001B[0m\u001B[0;34m\u001B[0m\u001B[0;34m\u001B[0m\u001B[0m\n",
      "\u001B[0;32m~/.conda/envs/LVM/lib/python3.9/site-packages/matplotlib/artist.py\u001B[0m in \u001B[0;36mdraw_wrapper\u001B[0;34m(artist, renderer, *args, **kwargs)\u001B[0m\n\u001B[1;32m     49\u001B[0m                 \u001B[0mrenderer\u001B[0m\u001B[0;34m.\u001B[0m\u001B[0mstart_filter\u001B[0m\u001B[0;34m(\u001B[0m\u001B[0;34m)\u001B[0m\u001B[0;34m\u001B[0m\u001B[0;34m\u001B[0m\u001B[0m\n\u001B[1;32m     50\u001B[0m \u001B[0;34m\u001B[0m\u001B[0m\n\u001B[0;32m---> 51\u001B[0;31m             \u001B[0;32mreturn\u001B[0m \u001B[0mdraw\u001B[0m\u001B[0;34m(\u001B[0m\u001B[0martist\u001B[0m\u001B[0;34m,\u001B[0m \u001B[0mrenderer\u001B[0m\u001B[0;34m,\u001B[0m \u001B[0;34m*\u001B[0m\u001B[0margs\u001B[0m\u001B[0;34m,\u001B[0m \u001B[0;34m**\u001B[0m\u001B[0mkwargs\u001B[0m\u001B[0;34m)\u001B[0m\u001B[0;34m\u001B[0m\u001B[0;34m\u001B[0m\u001B[0m\n\u001B[0m\u001B[1;32m     52\u001B[0m         \u001B[0;32mfinally\u001B[0m\u001B[0;34m:\u001B[0m\u001B[0;34m\u001B[0m\u001B[0;34m\u001B[0m\u001B[0m\n\u001B[1;32m     53\u001B[0m             \u001B[0;32mif\u001B[0m \u001B[0martist\u001B[0m\u001B[0;34m.\u001B[0m\u001B[0mget_agg_filter\u001B[0m\u001B[0;34m(\u001B[0m\u001B[0;34m)\u001B[0m \u001B[0;32mis\u001B[0m \u001B[0;32mnot\u001B[0m \u001B[0;32mNone\u001B[0m\u001B[0;34m:\u001B[0m\u001B[0;34m\u001B[0m\u001B[0;34m\u001B[0m\u001B[0m\n",
      "\u001B[0;32m~/.conda/envs/LVM/lib/python3.9/site-packages/matplotlib/figure.py\u001B[0m in \u001B[0;36mdraw\u001B[0;34m(self, renderer)\u001B[0m\n\u001B[1;32m   2788\u001B[0m \u001B[0;34m\u001B[0m\u001B[0m\n\u001B[1;32m   2789\u001B[0m             \u001B[0mself\u001B[0m\u001B[0;34m.\u001B[0m\u001B[0mpatch\u001B[0m\u001B[0;34m.\u001B[0m\u001B[0mdraw\u001B[0m\u001B[0;34m(\u001B[0m\u001B[0mrenderer\u001B[0m\u001B[0;34m)\u001B[0m\u001B[0;34m\u001B[0m\u001B[0;34m\u001B[0m\u001B[0m\n\u001B[0;32m-> 2790\u001B[0;31m             mimage._draw_list_compositing_images(\n\u001B[0m\u001B[1;32m   2791\u001B[0m                 renderer, self, artists, self.suppressComposite)\n\u001B[1;32m   2792\u001B[0m \u001B[0;34m\u001B[0m\u001B[0m\n",
      "\u001B[0;32m~/.conda/envs/LVM/lib/python3.9/site-packages/matplotlib/image.py\u001B[0m in \u001B[0;36m_draw_list_compositing_images\u001B[0;34m(renderer, parent, artists, suppress_composite)\u001B[0m\n\u001B[1;32m    130\u001B[0m     \u001B[0;32mif\u001B[0m \u001B[0mnot_composite\u001B[0m \u001B[0;32mor\u001B[0m \u001B[0;32mnot\u001B[0m \u001B[0mhas_images\u001B[0m\u001B[0;34m:\u001B[0m\u001B[0;34m\u001B[0m\u001B[0;34m\u001B[0m\u001B[0m\n\u001B[1;32m    131\u001B[0m         \u001B[0;32mfor\u001B[0m \u001B[0ma\u001B[0m \u001B[0;32min\u001B[0m \u001B[0martists\u001B[0m\u001B[0;34m:\u001B[0m\u001B[0;34m\u001B[0m\u001B[0;34m\u001B[0m\u001B[0m\n\u001B[0;32m--> 132\u001B[0;31m             \u001B[0ma\u001B[0m\u001B[0;34m.\u001B[0m\u001B[0mdraw\u001B[0m\u001B[0;34m(\u001B[0m\u001B[0mrenderer\u001B[0m\u001B[0;34m)\u001B[0m\u001B[0;34m\u001B[0m\u001B[0;34m\u001B[0m\u001B[0m\n\u001B[0m\u001B[1;32m    133\u001B[0m     \u001B[0;32melse\u001B[0m\u001B[0;34m:\u001B[0m\u001B[0;34m\u001B[0m\u001B[0;34m\u001B[0m\u001B[0m\n\u001B[1;32m    134\u001B[0m         \u001B[0;31m# Composite any adjacent images together\u001B[0m\u001B[0;34m\u001B[0m\u001B[0;34m\u001B[0m\u001B[0m\n",
      "\u001B[0;32m~/.conda/envs/LVM/lib/python3.9/site-packages/astropy/visualization/wcsaxes/core.py\u001B[0m in \u001B[0;36mdraw\u001B[0;34m(self, renderer, **kwargs)\u001B[0m\n\u001B[1;32m    457\u001B[0m         \u001B[0mself\u001B[0m\u001B[0;34m.\u001B[0m\u001B[0mcoords\u001B[0m\u001B[0;34m.\u001B[0m\u001B[0mframe\u001B[0m\u001B[0;34m.\u001B[0m\u001B[0m_update_patch_path\u001B[0m\u001B[0;34m(\u001B[0m\u001B[0;34m)\u001B[0m\u001B[0;34m\u001B[0m\u001B[0;34m\u001B[0m\u001B[0m\n\u001B[1;32m    458\u001B[0m \u001B[0;34m\u001B[0m\u001B[0m\n\u001B[0;32m--> 459\u001B[0;31m         \u001B[0msuper\u001B[0m\u001B[0;34m(\u001B[0m\u001B[0;34m)\u001B[0m\u001B[0;34m.\u001B[0m\u001B[0mdraw\u001B[0m\u001B[0;34m(\u001B[0m\u001B[0mrenderer\u001B[0m\u001B[0;34m,\u001B[0m \u001B[0;34m**\u001B[0m\u001B[0mkwargs\u001B[0m\u001B[0;34m)\u001B[0m\u001B[0;34m\u001B[0m\u001B[0;34m\u001B[0m\u001B[0m\n\u001B[0m\u001B[1;32m    460\u001B[0m \u001B[0;34m\u001B[0m\u001B[0m\n\u001B[1;32m    461\u001B[0m         \u001B[0mself\u001B[0m\u001B[0;34m.\u001B[0m\u001B[0m_drawn\u001B[0m \u001B[0;34m=\u001B[0m \u001B[0;32mTrue\u001B[0m\u001B[0;34m\u001B[0m\u001B[0;34m\u001B[0m\u001B[0m\n",
      "\u001B[0;32m~/.conda/envs/LVM/lib/python3.9/site-packages/matplotlib/artist.py\u001B[0m in \u001B[0;36mdraw_wrapper\u001B[0;34m(artist, renderer, *args, **kwargs)\u001B[0m\n\u001B[1;32m     49\u001B[0m                 \u001B[0mrenderer\u001B[0m\u001B[0;34m.\u001B[0m\u001B[0mstart_filter\u001B[0m\u001B[0;34m(\u001B[0m\u001B[0;34m)\u001B[0m\u001B[0;34m\u001B[0m\u001B[0;34m\u001B[0m\u001B[0m\n\u001B[1;32m     50\u001B[0m \u001B[0;34m\u001B[0m\u001B[0m\n\u001B[0;32m---> 51\u001B[0;31m             \u001B[0;32mreturn\u001B[0m \u001B[0mdraw\u001B[0m\u001B[0;34m(\u001B[0m\u001B[0martist\u001B[0m\u001B[0;34m,\u001B[0m \u001B[0mrenderer\u001B[0m\u001B[0;34m,\u001B[0m \u001B[0;34m*\u001B[0m\u001B[0margs\u001B[0m\u001B[0;34m,\u001B[0m \u001B[0;34m**\u001B[0m\u001B[0mkwargs\u001B[0m\u001B[0;34m)\u001B[0m\u001B[0;34m\u001B[0m\u001B[0;34m\u001B[0m\u001B[0m\n\u001B[0m\u001B[1;32m     52\u001B[0m         \u001B[0;32mfinally\u001B[0m\u001B[0;34m:\u001B[0m\u001B[0;34m\u001B[0m\u001B[0;34m\u001B[0m\u001B[0m\n\u001B[1;32m     53\u001B[0m             \u001B[0;32mif\u001B[0m \u001B[0martist\u001B[0m\u001B[0;34m.\u001B[0m\u001B[0mget_agg_filter\u001B[0m\u001B[0;34m(\u001B[0m\u001B[0;34m)\u001B[0m \u001B[0;32mis\u001B[0m \u001B[0;32mnot\u001B[0m \u001B[0;32mNone\u001B[0m\u001B[0;34m:\u001B[0m\u001B[0;34m\u001B[0m\u001B[0;34m\u001B[0m\u001B[0m\n",
      "\u001B[0;32m~/.conda/envs/LVM/lib/python3.9/site-packages/matplotlib/_api/deprecation.py\u001B[0m in \u001B[0;36mwrapper\u001B[0;34m(*inner_args, **inner_kwargs)\u001B[0m\n\u001B[1;32m    429\u001B[0m                          \u001B[0;32melse\u001B[0m \u001B[0mdeprecation_addendum\u001B[0m\u001B[0;34m,\u001B[0m\u001B[0;34m\u001B[0m\u001B[0;34m\u001B[0m\u001B[0m\n\u001B[1;32m    430\u001B[0m                 **kwargs)\n\u001B[0;32m--> 431\u001B[0;31m         \u001B[0;32mreturn\u001B[0m \u001B[0mfunc\u001B[0m\u001B[0;34m(\u001B[0m\u001B[0;34m*\u001B[0m\u001B[0minner_args\u001B[0m\u001B[0;34m,\u001B[0m \u001B[0;34m**\u001B[0m\u001B[0minner_kwargs\u001B[0m\u001B[0;34m)\u001B[0m\u001B[0;34m\u001B[0m\u001B[0;34m\u001B[0m\u001B[0m\n\u001B[0m\u001B[1;32m    432\u001B[0m \u001B[0;34m\u001B[0m\u001B[0m\n\u001B[1;32m    433\u001B[0m     \u001B[0;32mreturn\u001B[0m \u001B[0mwrapper\u001B[0m\u001B[0;34m\u001B[0m\u001B[0;34m\u001B[0m\u001B[0m\n",
      "\u001B[0;32m~/.conda/envs/LVM/lib/python3.9/site-packages/matplotlib/axes/_base.py\u001B[0m in \u001B[0;36mdraw\u001B[0;34m(self, renderer, inframe)\u001B[0m\n\u001B[1;32m   2919\u001B[0m             \u001B[0mrenderer\u001B[0m\u001B[0;34m.\u001B[0m\u001B[0mstop_rasterizing\u001B[0m\u001B[0;34m(\u001B[0m\u001B[0;34m)\u001B[0m\u001B[0;34m\u001B[0m\u001B[0;34m\u001B[0m\u001B[0m\n\u001B[1;32m   2920\u001B[0m \u001B[0;34m\u001B[0m\u001B[0m\n\u001B[0;32m-> 2921\u001B[0;31m         \u001B[0mmimage\u001B[0m\u001B[0;34m.\u001B[0m\u001B[0m_draw_list_compositing_images\u001B[0m\u001B[0;34m(\u001B[0m\u001B[0mrenderer\u001B[0m\u001B[0;34m,\u001B[0m \u001B[0mself\u001B[0m\u001B[0;34m,\u001B[0m \u001B[0martists\u001B[0m\u001B[0;34m)\u001B[0m\u001B[0;34m\u001B[0m\u001B[0;34m\u001B[0m\u001B[0m\n\u001B[0m\u001B[1;32m   2922\u001B[0m \u001B[0;34m\u001B[0m\u001B[0m\n\u001B[1;32m   2923\u001B[0m         \u001B[0mrenderer\u001B[0m\u001B[0;34m.\u001B[0m\u001B[0mclose_group\u001B[0m\u001B[0;34m(\u001B[0m\u001B[0;34m'axes'\u001B[0m\u001B[0;34m)\u001B[0m\u001B[0;34m\u001B[0m\u001B[0;34m\u001B[0m\u001B[0m\n",
      "\u001B[0;32m~/.conda/envs/LVM/lib/python3.9/site-packages/matplotlib/image.py\u001B[0m in \u001B[0;36m_draw_list_compositing_images\u001B[0;34m(renderer, parent, artists, suppress_composite)\u001B[0m\n\u001B[1;32m    130\u001B[0m     \u001B[0;32mif\u001B[0m \u001B[0mnot_composite\u001B[0m \u001B[0;32mor\u001B[0m \u001B[0;32mnot\u001B[0m \u001B[0mhas_images\u001B[0m\u001B[0;34m:\u001B[0m\u001B[0;34m\u001B[0m\u001B[0;34m\u001B[0m\u001B[0m\n\u001B[1;32m    131\u001B[0m         \u001B[0;32mfor\u001B[0m \u001B[0ma\u001B[0m \u001B[0;32min\u001B[0m \u001B[0martists\u001B[0m\u001B[0;34m:\u001B[0m\u001B[0;34m\u001B[0m\u001B[0;34m\u001B[0m\u001B[0m\n\u001B[0;32m--> 132\u001B[0;31m             \u001B[0ma\u001B[0m\u001B[0;34m.\u001B[0m\u001B[0mdraw\u001B[0m\u001B[0;34m(\u001B[0m\u001B[0mrenderer\u001B[0m\u001B[0;34m)\u001B[0m\u001B[0;34m\u001B[0m\u001B[0;34m\u001B[0m\u001B[0m\n\u001B[0m\u001B[1;32m    133\u001B[0m     \u001B[0;32melse\u001B[0m\u001B[0;34m:\u001B[0m\u001B[0;34m\u001B[0m\u001B[0;34m\u001B[0m\u001B[0m\n\u001B[1;32m    134\u001B[0m         \u001B[0;31m# Composite any adjacent images together\u001B[0m\u001B[0;34m\u001B[0m\u001B[0;34m\u001B[0m\u001B[0m\n",
      "\u001B[0;32m~/.conda/envs/LVM/lib/python3.9/site-packages/matplotlib/artist.py\u001B[0m in \u001B[0;36mdraw_wrapper\u001B[0;34m(artist, renderer, *args, **kwargs)\u001B[0m\n\u001B[1;32m     49\u001B[0m                 \u001B[0mrenderer\u001B[0m\u001B[0;34m.\u001B[0m\u001B[0mstart_filter\u001B[0m\u001B[0;34m(\u001B[0m\u001B[0;34m)\u001B[0m\u001B[0;34m\u001B[0m\u001B[0;34m\u001B[0m\u001B[0m\n\u001B[1;32m     50\u001B[0m \u001B[0;34m\u001B[0m\u001B[0m\n\u001B[0;32m---> 51\u001B[0;31m             \u001B[0;32mreturn\u001B[0m \u001B[0mdraw\u001B[0m\u001B[0;34m(\u001B[0m\u001B[0martist\u001B[0m\u001B[0;34m,\u001B[0m \u001B[0mrenderer\u001B[0m\u001B[0;34m,\u001B[0m \u001B[0;34m*\u001B[0m\u001B[0margs\u001B[0m\u001B[0;34m,\u001B[0m \u001B[0;34m**\u001B[0m\u001B[0mkwargs\u001B[0m\u001B[0;34m)\u001B[0m\u001B[0;34m\u001B[0m\u001B[0;34m\u001B[0m\u001B[0m\n\u001B[0m\u001B[1;32m     52\u001B[0m         \u001B[0;32mfinally\u001B[0m\u001B[0;34m:\u001B[0m\u001B[0;34m\u001B[0m\u001B[0;34m\u001B[0m\u001B[0m\n\u001B[1;32m     53\u001B[0m             \u001B[0;32mif\u001B[0m \u001B[0martist\u001B[0m\u001B[0;34m.\u001B[0m\u001B[0mget_agg_filter\u001B[0m\u001B[0;34m(\u001B[0m\u001B[0;34m)\u001B[0m \u001B[0;32mis\u001B[0m \u001B[0;32mnot\u001B[0m \u001B[0;32mNone\u001B[0m\u001B[0;34m:\u001B[0m\u001B[0;34m\u001B[0m\u001B[0;34m\u001B[0m\u001B[0m\n",
      "\u001B[0;32m~/.conda/envs/LVM/lib/python3.9/site-packages/matplotlib/patches.py\u001B[0m in \u001B[0;36mdraw\u001B[0;34m(self, renderer)\u001B[0m\n\u001B[1;32m    606\u001B[0m             \u001B[0mpath\u001B[0m \u001B[0;34m=\u001B[0m \u001B[0mself\u001B[0m\u001B[0;34m.\u001B[0m\u001B[0mget_path\u001B[0m\u001B[0;34m(\u001B[0m\u001B[0;34m)\u001B[0m\u001B[0;34m\u001B[0m\u001B[0;34m\u001B[0m\u001B[0m\n\u001B[1;32m    607\u001B[0m             \u001B[0mtransform\u001B[0m \u001B[0;34m=\u001B[0m \u001B[0mself\u001B[0m\u001B[0;34m.\u001B[0m\u001B[0mget_transform\u001B[0m\u001B[0;34m(\u001B[0m\u001B[0;34m)\u001B[0m\u001B[0;34m\u001B[0m\u001B[0;34m\u001B[0m\u001B[0m\n\u001B[0;32m--> 608\u001B[0;31m             \u001B[0mtpath\u001B[0m \u001B[0;34m=\u001B[0m \u001B[0mtransform\u001B[0m\u001B[0;34m.\u001B[0m\u001B[0mtransform_path_non_affine\u001B[0m\u001B[0;34m(\u001B[0m\u001B[0mpath\u001B[0m\u001B[0;34m)\u001B[0m\u001B[0;34m\u001B[0m\u001B[0;34m\u001B[0m\u001B[0m\n\u001B[0m\u001B[1;32m    609\u001B[0m             \u001B[0maffine\u001B[0m \u001B[0;34m=\u001B[0m \u001B[0mtransform\u001B[0m\u001B[0;34m.\u001B[0m\u001B[0mget_affine\u001B[0m\u001B[0;34m(\u001B[0m\u001B[0;34m)\u001B[0m\u001B[0;34m\u001B[0m\u001B[0;34m\u001B[0m\u001B[0m\n\u001B[1;32m    610\u001B[0m             draw_path(tpath, affine,\n",
      "\u001B[0;32m~/.conda/envs/LVM/lib/python3.9/site-packages/matplotlib/transforms.py\u001B[0m in \u001B[0;36mtransform_path_non_affine\u001B[0;34m(self, path)\u001B[0m\n\u001B[1;32m   2394\u001B[0m             \u001B[0;32mreturn\u001B[0m \u001B[0mpath\u001B[0m\u001B[0;34m\u001B[0m\u001B[0;34m\u001B[0m\u001B[0m\n\u001B[1;32m   2395\u001B[0m         \u001B[0;32melif\u001B[0m \u001B[0;32mnot\u001B[0m \u001B[0mself\u001B[0m\u001B[0;34m.\u001B[0m\u001B[0m_a\u001B[0m\u001B[0;34m.\u001B[0m\u001B[0mis_affine\u001B[0m \u001B[0;32mand\u001B[0m \u001B[0mself\u001B[0m\u001B[0;34m.\u001B[0m\u001B[0m_b\u001B[0m\u001B[0;34m.\u001B[0m\u001B[0mis_affine\u001B[0m\u001B[0;34m:\u001B[0m\u001B[0;34m\u001B[0m\u001B[0;34m\u001B[0m\u001B[0m\n\u001B[0;32m-> 2396\u001B[0;31m             \u001B[0;32mreturn\u001B[0m \u001B[0mself\u001B[0m\u001B[0;34m.\u001B[0m\u001B[0m_a\u001B[0m\u001B[0;34m.\u001B[0m\u001B[0mtransform_path_non_affine\u001B[0m\u001B[0;34m(\u001B[0m\u001B[0mpath\u001B[0m\u001B[0;34m)\u001B[0m\u001B[0;34m\u001B[0m\u001B[0;34m\u001B[0m\u001B[0m\n\u001B[0m\u001B[1;32m   2397\u001B[0m         \u001B[0;32melse\u001B[0m\u001B[0;34m:\u001B[0m\u001B[0;34m\u001B[0m\u001B[0;34m\u001B[0m\u001B[0m\n\u001B[1;32m   2398\u001B[0m             return self._b.transform_path_non_affine(\n",
      "\u001B[0;32m~/.conda/envs/LVM/lib/python3.9/site-packages/matplotlib/transforms.py\u001B[0m in \u001B[0;36mtransform_path_non_affine\u001B[0;34m(self, path)\u001B[0m\n\u001B[1;32m   2397\u001B[0m         \u001B[0;32melse\u001B[0m\u001B[0;34m:\u001B[0m\u001B[0;34m\u001B[0m\u001B[0;34m\u001B[0m\u001B[0m\n\u001B[1;32m   2398\u001B[0m             return self._b.transform_path_non_affine(\n\u001B[0;32m-> 2399\u001B[0;31m                                     self._a.transform_path(path))\n\u001B[0m\u001B[1;32m   2400\u001B[0m \u001B[0;34m\u001B[0m\u001B[0m\n\u001B[1;32m   2401\u001B[0m     \u001B[0;32mdef\u001B[0m \u001B[0mget_affine\u001B[0m\u001B[0;34m(\u001B[0m\u001B[0mself\u001B[0m\u001B[0;34m)\u001B[0m\u001B[0;34m:\u001B[0m\u001B[0;34m\u001B[0m\u001B[0;34m\u001B[0m\u001B[0m\n",
      "\u001B[0;32m~/.conda/envs/LVM/lib/python3.9/site-packages/astropy/visualization/wcsaxes/transforms.py\u001B[0m in \u001B[0;36mtransform_path\u001B[0;34m(self, path)\u001B[0m\n\u001B[1;32m     46\u001B[0m             \u001B[0mThe\u001B[0m \u001B[0mresulting\u001B[0m \u001B[0mpath\u001B[0m\u001B[0;34m\u001B[0m\u001B[0;34m\u001B[0m\u001B[0m\n\u001B[1;32m     47\u001B[0m         \"\"\"\n\u001B[0;32m---> 48\u001B[0;31m         \u001B[0;32mreturn\u001B[0m \u001B[0mPath\u001B[0m\u001B[0;34m(\u001B[0m\u001B[0mself\u001B[0m\u001B[0;34m.\u001B[0m\u001B[0mtransform\u001B[0m\u001B[0;34m(\u001B[0m\u001B[0mpath\u001B[0m\u001B[0;34m.\u001B[0m\u001B[0mvertices\u001B[0m\u001B[0;34m)\u001B[0m\u001B[0;34m,\u001B[0m \u001B[0mpath\u001B[0m\u001B[0;34m.\u001B[0m\u001B[0mcodes\u001B[0m\u001B[0;34m)\u001B[0m\u001B[0;34m\u001B[0m\u001B[0;34m\u001B[0m\u001B[0m\n\u001B[0m\u001B[1;32m     49\u001B[0m \u001B[0;34m\u001B[0m\u001B[0m\n\u001B[1;32m     50\u001B[0m     \u001B[0mtransform_path_non_affine\u001B[0m \u001B[0;34m=\u001B[0m \u001B[0mtransform_path\u001B[0m\u001B[0;34m\u001B[0m\u001B[0;34m\u001B[0m\u001B[0m\n",
      "\u001B[0;32m~/.conda/envs/LVM/lib/python3.9/site-packages/astropy/visualization/wcsaxes/transforms.py\u001B[0m in \u001B[0;36mtransform\u001B[0;34m(self, input_coords)\u001B[0m\n\u001B[1;32m    119\u001B[0m         \u001B[0;31m# on all values and just ignore Numpy warnings\u001B[0m\u001B[0;34m\u001B[0m\u001B[0;34m\u001B[0m\u001B[0m\n\u001B[1;32m    120\u001B[0m         \u001B[0;32mwith\u001B[0m \u001B[0mnp\u001B[0m\u001B[0;34m.\u001B[0m\u001B[0merrstate\u001B[0m\u001B[0;34m(\u001B[0m\u001B[0mall\u001B[0m\u001B[0;34m=\u001B[0m\u001B[0;34m'ignore'\u001B[0m\u001B[0;34m)\u001B[0m\u001B[0;34m:\u001B[0m\u001B[0;34m\u001B[0m\u001B[0;34m\u001B[0m\u001B[0m\n\u001B[0;32m--> 121\u001B[0;31m             \u001B[0mc_out\u001B[0m \u001B[0;34m=\u001B[0m \u001B[0mc_in\u001B[0m\u001B[0;34m.\u001B[0m\u001B[0mtransform_to\u001B[0m\u001B[0;34m(\u001B[0m\u001B[0mself\u001B[0m\u001B[0;34m.\u001B[0m\u001B[0moutput_system\u001B[0m\u001B[0;34m)\u001B[0m\u001B[0;34m\u001B[0m\u001B[0;34m\u001B[0m\u001B[0m\n\u001B[0m\u001B[1;32m    122\u001B[0m \u001B[0;34m\u001B[0m\u001B[0m\n\u001B[1;32m    123\u001B[0m         \u001B[0mlon\u001B[0m \u001B[0;34m=\u001B[0m \u001B[0mc_out\u001B[0m\u001B[0;34m.\u001B[0m\u001B[0mspherical\u001B[0m\u001B[0;34m.\u001B[0m\u001B[0mlon\u001B[0m\u001B[0;34m.\u001B[0m\u001B[0mdeg\u001B[0m\u001B[0;34m\u001B[0m\u001B[0;34m\u001B[0m\u001B[0m\n",
      "\u001B[0;32m~/.conda/envs/LVM/lib/python3.9/site-packages/astropy/coordinates/sky_coordinate.py\u001B[0m in \u001B[0;36mtransform_to\u001B[0;34m(self, frame, merge_attributes)\u001B[0m\n\u001B[1;32m    671\u001B[0m         \u001B[0mframe_kwargs\u001B[0m\u001B[0;34m.\u001B[0m\u001B[0mpop\u001B[0m\u001B[0;34m(\u001B[0m\u001B[0;34m'origin'\u001B[0m\u001B[0;34m,\u001B[0m \u001B[0;32mNone\u001B[0m\u001B[0;34m)\u001B[0m\u001B[0;34m\u001B[0m\u001B[0;34m\u001B[0m\u001B[0m\n\u001B[1;32m    672\u001B[0m \u001B[0;34m\u001B[0m\u001B[0m\n\u001B[0;32m--> 673\u001B[0;31m         \u001B[0;32mreturn\u001B[0m \u001B[0mself\u001B[0m\u001B[0;34m.\u001B[0m\u001B[0m__class__\u001B[0m\u001B[0;34m(\u001B[0m\u001B[0mnew_coord\u001B[0m\u001B[0;34m,\u001B[0m \u001B[0;34m**\u001B[0m\u001B[0mframe_kwargs\u001B[0m\u001B[0;34m)\u001B[0m\u001B[0;34m\u001B[0m\u001B[0;34m\u001B[0m\u001B[0m\n\u001B[0m\u001B[1;32m    674\u001B[0m \u001B[0;34m\u001B[0m\u001B[0m\n\u001B[1;32m    675\u001B[0m     \u001B[0;32mdef\u001B[0m \u001B[0mapply_space_motion\u001B[0m\u001B[0;34m(\u001B[0m\u001B[0mself\u001B[0m\u001B[0;34m,\u001B[0m \u001B[0mnew_obstime\u001B[0m\u001B[0;34m=\u001B[0m\u001B[0;32mNone\u001B[0m\u001B[0;34m,\u001B[0m \u001B[0mdt\u001B[0m\u001B[0;34m=\u001B[0m\u001B[0;32mNone\u001B[0m\u001B[0;34m)\u001B[0m\u001B[0;34m:\u001B[0m\u001B[0;34m\u001B[0m\u001B[0;34m\u001B[0m\u001B[0m\n",
      "\u001B[0;31mKeyboardInterrupt\u001B[0m: "
     ]
    }
   ],
   "source": [
    "my_lvmfield.show(cmap=plt.cm.Greys, percentile=96, fibers=bundle.fibers_science)"
   ],
   "metadata": {
    "collapsed": false
   }
  },
  {
   "cell_type": "markdown",
   "source": [
    "We created the source field and initialized all other required objects. Now we put everything into 2D simulator defined by the class `Simulator2D`. Its initialization is the same as for `Simulator` in 1D case, but the available methods are different"
   ],
   "metadata": {
    "collapsed": false
   }
  },
  {
   "cell_type": "code",
   "execution_count": 5,
   "outputs": [],
   "source": [
    "sim = Simulator2D(my_lvmfield, obs, spec, bundle, tel)"
   ],
   "metadata": {
    "collapsed": false
   }
  },
  {
   "cell_type": "markdown",
   "source": [
    "Now we create the 2D Raw spectra for all fibers in the FOV. The input spectra will be convolved with the instrumental LSF and PSF specified for all 3 channels and cameras and varying with the position on CCD and the wavelength. This is computationally expensive and takes ~30 min per channel and camera."
   ],
   "metadata": {
    "collapsed": false
   }
  },
  {
   "cell_type": "code",
   "execution_count": 8,
   "outputs": [
    {
     "name": "stderr",
     "output_type": "stream",
     "text": [
      "\u001B[0;34m[INFO]: \u001B[0mRecovering target spectra for 1801 fibers.\n",
      "\u001B[0;34m[INFO]: \u001B[0mStart extracting nebular spectra\n",
      "\u001B[0;34m[INFO]: \u001B[0mReading the atmospheric extinction from file.\n",
      "\u001B[0;34m[INFO]: \u001B[0mSimulating the sky emission 2 days from new moon.\n",
      "\u001B[0;34m[INFO]: \u001B[0mUsing sky file: /Users/mors/Science/PyWorkspace/lvmdatasimulator/data/sky/LVM_LVM160_SKY_2.dat\n",
      "\u001B[0;34m[INFO]: \u001B[0mResample sky emission to instrument wavelength solution.\n",
      "\u001B[0;34m[INFO]: \u001B[0mGenerating standard stars\n",
      "\u001B[0;34m[INFO]: \u001B[0mStandard star 1 with Teff 6250, Gmag 8.50 added.\n",
      "\u001B[0;34m[INFO]: \u001B[0mStandard star 2 with Teff 6000, Gmag 8.80 added.\n",
      "\u001B[0;34m[INFO]: \u001B[0mStandard star 3 with Teff 6500, Gmag 5.80 added.\n",
      "\u001B[0;34m[INFO]: \u001B[0mStandard star 4 with Teff 6750, Gmag 7.90 added.\n",
      "\u001B[0;34m[INFO]: \u001B[0mStandard star 5 with Teff 6750, Gmag 6.20 added.\n",
      "\u001B[0;34m[INFO]: \u001B[0mStandard star 6 with Teff 7000, Gmag 5.20 added.\n",
      "\u001B[0;34m[INFO]: \u001B[0mStandard star 7 with Teff 6250, Gmag 6.90 added.\n",
      "\u001B[0;34m[INFO]: \u001B[0mStandard star 8 with Teff 5750, Gmag 7.30 added.\n",
      "\u001B[0;34m[INFO]: \u001B[0mStandard star 9 with Teff 6500, Gmag 8.00 added.\n",
      "\u001B[0;34m[INFO]: \u001B[0mStandard star 10 with Teff 6750, Gmag 6.30 added.\n",
      "\u001B[0;34m[INFO]: \u001B[0mStandard star 11 with Teff 6250, Gmag 7.50 added.\n",
      "\u001B[0;34m[INFO]: \u001B[0mStandard star 12 with Teff 6000, Gmag 8.20 added.\n",
      "\u001B[0;34m[INFO]: \u001B[0mStandard star 13 with Teff 6750, Gmag 6.50 added.\n",
      "\u001B[0;34m[INFO]: \u001B[0mStandard star 14 with Teff 7000, Gmag 6.80 added.\n",
      "\u001B[0;34m[INFO]: \u001B[0mStandard star 15 with Teff 6750, Gmag 7.30 added.\n",
      "\u001B[0;34m[INFO]: \u001B[0mStandard star 16 with Teff 5500, Gmag 8.60 added.\n",
      "\u001B[0;34m[INFO]: \u001B[0mStandard star 17 with Teff 6250, Gmag 7.40 added.\n",
      "\u001B[0;34m[INFO]: \u001B[0mStandard star 18 with Teff 5750, Gmag 5.40 added.\n",
      "\u001B[0;34m[INFO]: \u001B[0mStandard star 19 with Teff 7000, Gmag 6.10 added.\n",
      "\u001B[0;34m[INFO]: \u001B[0mStandard star 20 with Teff 5500, Gmag 5.80 added.\n",
      "\u001B[0;34m[INFO]: \u001B[0mStandard star 21 with Teff 7000, Gmag 5.60 added.\n",
      "\u001B[0;34m[INFO]: \u001B[0mStandard star 22 with Teff 5750, Gmag 8.00 added.\n",
      "\u001B[0;34m[INFO]: \u001B[0mStandard star 23 with Teff 6000, Gmag 6.50 added.\n",
      "\u001B[0;34m[INFO]: \u001B[0mStandard star 24 with Teff 6500, Gmag 7.70 added.\n",
      "\u001B[0;34m[INFO]: \u001B[0mAssociating spectra to stars using library pollux_resampled_v0.fits...\n",
      "\u001B[0;34m[INFO]: \u001B[0mRescaling 24 synthetic spectra.\n"
     ]
    },
    {
     "name": "stdout",
     "output_type": "stream",
     "text": [
      "Warning: assuming 1 angstrom units to unitless object.\n",
      "Warning: assuming 1 flam units to unitless object.\n"
     ]
    },
    {
     "name": "stderr",
     "output_type": "stream",
     "text": [
      "\u001B[0;34m[INFO]: \u001B[0mSaving science exposures with 900s exposures and 10s of exposure for each standard star\n",
      "\u001B[0;34m[INFO]: \u001B[0mProject the spectra of camera #1 and blue channel onto CCD\n",
      "100%|██████████| 648/648 [27:31<00:00,  2.55s/it]\n",
      "\u001B[0;34m[INFO]: \u001B[0mDone for camera #1 and blue branch\n",
      "\u001B[0;34m[INFO]: \u001B[0mProject the spectra of camera #1 and red channel onto CCD\n",
      "100%|██████████| 648/648 [34:48<00:00,  3.22s/it]\n",
      "\u001B[0;34m[INFO]: \u001B[0mDone for camera #1 and red branch\n",
      "\u001B[0;34m[INFO]: \u001B[0mProject the spectra of camera #1 and ir channel onto CCD\n",
      "100%|██████████| 648/648 [34:37<00:00,  3.21s/it] \n",
      "\u001B[0;34m[INFO]: \u001B[0mDone for camera #1 and ir branch\n"
     ]
    }
   ],
   "source": [
    "sim.simulate_science()"
   ],
   "metadata": {
    "collapsed": false
   }
  },
  {
   "cell_type": "markdown",
   "source": [
    "We can also create 2D output for all the calibrations that we need (flat, arcs, bias)"
   ],
   "metadata": {
    "collapsed": false
   }
  },
  {
   "cell_type": "code",
   "execution_count": 6,
   "outputs": [
    {
     "name": "stderr",
     "output_type": "stream",
     "text": [
      "\u001B[0;34m[INFO]: \u001B[0mCreating flat fields...\n",
      "\u001B[0;34m[INFO]: \u001B[0mSaving flat exposures with exptime 10s\n",
      "\u001B[0;34m[INFO]: \u001B[0mProject the spectra of camera #1 and blue channel onto CCD\n",
      "100%|██████████| 648/648 [00:03<00:00, 201.73it/s]\n"
     ]
    },
    {
     "ename": "TypeError",
     "evalue": "'NoneType' object is not subscriptable",
     "output_type": "error",
     "traceback": [
      "\u001B[0;31m---------------------------------------------------------------------------\u001B[0m",
      "\u001B[0;31mTypeError\u001B[0m                                 Traceback (most recent call last)",
      "\u001B[0;32m/var/folders/49/f6v0km3x04vb9mrgcyng440m0000gn/T/ipykernel_31861/2310627432.py\u001B[0m in \u001B[0;36m<module>\u001B[0;34m\u001B[0m\n\u001B[0;32m----> 1\u001B[0;31m \u001B[0msim\u001B[0m\u001B[0;34m.\u001B[0m\u001B[0mcreate_flat\u001B[0m\u001B[0;34m(\u001B[0m\u001B[0;34m)\u001B[0m\u001B[0;34m\u001B[0m\u001B[0;34m\u001B[0m\u001B[0m\n\u001B[0m",
      "\u001B[0;32m~/Science/PyWorkspace/lvmdatasimulator/python/lvmdatasimulator/simulator2d.py\u001B[0m in \u001B[0;36mcreate_flat\u001B[0;34m(self)\u001B[0m\n\u001B[1;32m    151\u001B[0m         \u001B[0mflat\u001B[0m \u001B[0;34m=\u001B[0m \u001B[0mutil\u001B[0m\u001B[0;34m.\u001B[0m\u001B[0mresample_spectrum\u001B[0m\u001B[0;34m(\u001B[0m\u001B[0mself\u001B[0m\u001B[0;34m.\u001B[0m\u001B[0m_wl_grid\u001B[0m\u001B[0;34m,\u001B[0m \u001B[0mdata\u001B[0m\u001B[0;34m[\u001B[0m\u001B[0;34m'wave'\u001B[0m\u001B[0;34m]\u001B[0m\u001B[0;34m,\u001B[0m \u001B[0mdata\u001B[0m\u001B[0;34m[\u001B[0m\u001B[0;34m'flux'\u001B[0m\u001B[0;34m]\u001B[0m\u001B[0;34m,\u001B[0m \u001B[0mfast\u001B[0m\u001B[0;34m=\u001B[0m\u001B[0mself\u001B[0m\u001B[0;34m.\u001B[0m\u001B[0mfast\u001B[0m\u001B[0;34m)\u001B[0m\u001B[0;34m\u001B[0m\u001B[0;34m\u001B[0m\u001B[0m\n\u001B[1;32m    152\u001B[0m \u001B[0;34m\u001B[0m\u001B[0m\n\u001B[0;32m--> 153\u001B[0;31m         \u001B[0mself\u001B[0m\u001B[0;34m.\u001B[0m\u001B[0m_project_2d_calibs\u001B[0m\u001B[0;34m(\u001B[0m\u001B[0mflat\u001B[0m\u001B[0;34m,\u001B[0m \u001B[0;34m'flat'\u001B[0m\u001B[0;34m,\u001B[0m \u001B[0mself\u001B[0m\u001B[0;34m.\u001B[0m\u001B[0mobservation\u001B[0m\u001B[0;34m.\u001B[0m\u001B[0mflat_exptimes\u001B[0m\u001B[0;34m,\u001B[0m \u001B[0mself\u001B[0m\u001B[0;34m.\u001B[0m\u001B[0mobservation\u001B[0m\u001B[0;34m.\u001B[0m\u001B[0mnflats\u001B[0m\u001B[0;34m)\u001B[0m\u001B[0;34m\u001B[0m\u001B[0;34m\u001B[0m\u001B[0m\n\u001B[0m\u001B[1;32m    154\u001B[0m \u001B[0;34m\u001B[0m\u001B[0m\n\u001B[1;32m    155\u001B[0m     \u001B[0;32mdef\u001B[0m \u001B[0mcreate_arc\u001B[0m\u001B[0;34m(\u001B[0m\u001B[0mself\u001B[0m\u001B[0;34m,\u001B[0m \u001B[0mhg\u001B[0m\u001B[0;34m=\u001B[0m\u001B[0;32mFalse\u001B[0m\u001B[0;34m,\u001B[0m \u001B[0mne\u001B[0m\u001B[0;34m=\u001B[0m\u001B[0;32mFalse\u001B[0m\u001B[0;34m,\u001B[0m \u001B[0mar\u001B[0m\u001B[0;34m=\u001B[0m\u001B[0;32mFalse\u001B[0m\u001B[0;34m,\u001B[0m \u001B[0mxe\u001B[0m\u001B[0;34m=\u001B[0m\u001B[0;32mFalse\u001B[0m\u001B[0;34m)\u001B[0m\u001B[0;34m:\u001B[0m\u001B[0;34m\u001B[0m\u001B[0;34m\u001B[0m\u001B[0m\n",
      "\u001B[0;32m~/Science/PyWorkspace/lvmdatasimulator/python/lvmdatasimulator/simulator2d.py\u001B[0m in \u001B[0;36m_project_2d_calibs\u001B[0;34m(self, data, calib_name, exptimes, nexpo)\u001B[0m\n\u001B[1;32m    447\u001B[0m                     \u001B[0;31m# calib_final = calib_final.T\u001B[0m\u001B[0;34m\u001B[0m\u001B[0;34m\u001B[0m\u001B[0m\n\u001B[1;32m    448\u001B[0m \u001B[0;34m\u001B[0m\u001B[0m\n\u001B[0;32m--> 449\u001B[0;31m                     self._to_camera(spectra=calib_final, wave=new_wave[name],\n\u001B[0m\u001B[1;32m    450\u001B[0m                                     \u001B[0mfibtype\u001B[0m\u001B[0;34m=\u001B[0m\u001B[0mfibtype\u001B[0m\u001B[0;34m,\u001B[0m \u001B[0mringid\u001B[0m\u001B[0;34m=\u001B[0m\u001B[0mringid\u001B[0m\u001B[0;34m,\u001B[0m \u001B[0mpos\u001B[0m\u001B[0;34m=\u001B[0m\u001B[0mpos\u001B[0m\u001B[0;34m,\u001B[0m \u001B[0mexptime\u001B[0m\u001B[0;34m=\u001B[0m\u001B[0mtime\u001B[0m\u001B[0;34m,\u001B[0m\u001B[0;34m\u001B[0m\u001B[0;34m\u001B[0m\u001B[0m\n\u001B[1;32m    451\u001B[0m                                     \u001B[0mcamera\u001B[0m\u001B[0;34m=\u001B[0m\u001B[0mname\u001B[0m\u001B[0;34m,\u001B[0m \u001B[0mexp_type\u001B[0m\u001B[0;34m=\u001B[0m\u001B[0mcalib_name\u001B[0m\u001B[0;34m,\u001B[0m \u001B[0mbranch\u001B[0m\u001B[0;34m=\u001B[0m\u001B[0mbranch\u001B[0m\u001B[0;34m,\u001B[0m\u001B[0;34m\u001B[0m\u001B[0;34m\u001B[0m\u001B[0m\n",
      "\u001B[0;32m~/Science/PyWorkspace/lvmdatasimulator/python/lvmdatasimulator/simulator2d.py\u001B[0m in \u001B[0;36m_to_camera\u001B[0;34m(self, spectra, wave, fibtype, ringid, pos, exptime, camera, exp_type, branch, exp_name)\u001B[0m\n\u001B[1;32m    475\u001B[0m         \u001B[0mchannel_index\u001B[0m \u001B[0;34m=\u001B[0m \u001B[0;34m{\u001B[0m\u001B[0;34m'blue'\u001B[0m\u001B[0;34m:\u001B[0m \u001B[0;34m'b'\u001B[0m\u001B[0;34m,\u001B[0m \u001B[0;34m'red'\u001B[0m\u001B[0;34m:\u001B[0m \u001B[0;34m'r'\u001B[0m\u001B[0;34m,\u001B[0m \u001B[0;34m'ir'\u001B[0m\u001B[0;34m:\u001B[0m \u001B[0;34m'z'\u001B[0m\u001B[0;34m}\u001B[0m\u001B[0;34m\u001B[0m\u001B[0;34m\u001B[0m\u001B[0m\n\u001B[1;32m    476\u001B[0m         \u001B[0;32mfor\u001B[0m \u001B[0mcam\u001B[0m \u001B[0;32min\u001B[0m \u001B[0mrange\u001B[0m\u001B[0;34m(\u001B[0m\u001B[0;36m3\u001B[0m\u001B[0;34m)\u001B[0m\u001B[0;34m:\u001B[0m\u001B[0;34m\u001B[0m\u001B[0;34m\u001B[0m\u001B[0m\n\u001B[0;32m--> 477\u001B[0;31m             projected_spectra = cre_raw_exp(spectra, fibtype=fibtype, ring=ringid,\n\u001B[0m\u001B[1;32m    478\u001B[0m                                             \u001B[0mposition\u001B[0m\u001B[0;34m=\u001B[0m\u001B[0mpos\u001B[0m\u001B[0;34m,\u001B[0m \u001B[0mwave_ccd\u001B[0m\u001B[0;34m=\u001B[0m\u001B[0mwave_ccd\u001B[0m\u001B[0;34m,\u001B[0m \u001B[0mwave\u001B[0m\u001B[0;34m=\u001B[0m\u001B[0mwave\u001B[0m\u001B[0;34m,\u001B[0m\u001B[0;34m\u001B[0m\u001B[0;34m\u001B[0m\u001B[0m\n\u001B[1;32m    479\u001B[0m                                             \u001B[0mnfib\u001B[0m\u001B[0;34m=\u001B[0m\u001B[0mself\u001B[0m\u001B[0;34m.\u001B[0m\u001B[0m_fibers_per_spec\u001B[0m\u001B[0;34m,\u001B[0m \u001B[0mchannel_type\u001B[0m\u001B[0;34m=\u001B[0m\u001B[0mcamera\u001B[0m\u001B[0;34m,\u001B[0m\u001B[0;34m\u001B[0m\u001B[0;34m\u001B[0m\u001B[0m\n",
      "\u001B[0;32m~/Science/PyWorkspace/lvmdatasimulator/python/lvmdatasimulator/projection2d.py\u001B[0m in \u001B[0;36mcre_raw_exp\u001B[0;34m(input_spectrum, fibtype, ring, position, wave_ccd, wave, nfib, flb, channel_type, cam, ccd_noise_factor, n_cr, std_cr, mjd, field_name, exp_name, exp_time, ra, dec, add_cr_hits)\u001B[0m\n\u001B[1;32m    329\u001B[0m         \u001B[0;31m#                         total=np.sum(fib_id_in_ring >= 0)))\u001B[0m\u001B[0;34m\u001B[0m\u001B[0;34m\u001B[0m\u001B[0m\n\u001B[1;32m    330\u001B[0m         \u001B[0;32mfor\u001B[0m \u001B[0mres_element\u001B[0m \u001B[0;32min\u001B[0m \u001B[0mresults\u001B[0m\u001B[0;34m:\u001B[0m\u001B[0;34m\u001B[0m\u001B[0;34m\u001B[0m\u001B[0m\n\u001B[0;32m--> 331\u001B[0;31m             \u001B[0moutput\u001B[0m\u001B[0;34m[\u001B[0m\u001B[0mres_element\u001B[0m\u001B[0;34m[\u001B[0m\u001B[0;36m1\u001B[0m\u001B[0;34m]\u001B[0m\u001B[0;34m[\u001B[0m\u001B[0;36m0\u001B[0m\u001B[0;34m]\u001B[0m\u001B[0;34m:\u001B[0m \u001B[0mres_element\u001B[0m\u001B[0;34m[\u001B[0m\u001B[0;36m1\u001B[0m\u001B[0;34m]\u001B[0m\u001B[0;34m[\u001B[0m\u001B[0;36m1\u001B[0m\u001B[0;34m]\u001B[0m\u001B[0;34m+\u001B[0m\u001B[0;36m1\u001B[0m\u001B[0;34m,\u001B[0m \u001B[0;34m:\u001B[0m\u001B[0;34m]\u001B[0m \u001B[0;34m+=\u001B[0m \u001B[0mres_element\u001B[0m\u001B[0;34m[\u001B[0m\u001B[0;36m0\u001B[0m\u001B[0;34m]\u001B[0m\u001B[0;34m\u001B[0m\u001B[0;34m\u001B[0m\u001B[0m\n\u001B[0m\u001B[1;32m    332\u001B[0m \u001B[0;34m\u001B[0m\u001B[0m\n\u001B[1;32m    333\u001B[0m     \u001B[0msig\u001B[0m \u001B[0;34m=\u001B[0m \u001B[0mccd_noise_factor\u001B[0m \u001B[0;34m*\u001B[0m \u001B[0mccd_props\u001B[0m\u001B[0;34m[\u001B[0m\u001B[0;34m'noise'\u001B[0m\u001B[0;34m]\u001B[0m\u001B[0;34m\u001B[0m\u001B[0;34m\u001B[0m\u001B[0m\n",
      "\u001B[0;31mTypeError\u001B[0m: 'NoneType' object is not subscriptable"
     ]
    }
   ],
   "source": [
    "sim.create_flat()"
   ],
   "metadata": {
    "collapsed": false
   }
  },
  {
   "cell_type": "code",
   "execution_count": 1,
   "outputs": [
    {
     "name": "stderr",
     "output_type": "stream",
     "text": [
      "\u001B[0;34m[INFO]: \u001B[0mUsing the full hexagon pattern\n",
      "\u001B[0;34m[INFO]: \u001B[0mCreating flat fields...\n",
      "\u001B[0;34m[INFO]: \u001B[0mSaving flat exposures with exptime 10s\n",
      "\u001B[0;34m[INFO]: \u001B[0mProject the spectra of camera #1 and blue channel onto CCD\n",
      "100%|██████████| 646/646 [06:44<00:00,  1.60it/s]\n",
      "\u001B[0;34m[INFO]: \u001B[0mDone for camera #1 and blue branch\n",
      "\u001B[0;34m[INFO]: \u001B[0mProject the spectra of camera #2 and blue channel onto CCD\n",
      " 10%|▉         | 64/647 [00:45<06:50,  1.42it/s] \n"
     ]
    },
    {
     "ename": "KeyboardInterrupt",
     "evalue": "",
     "output_type": "error",
     "traceback": [
      "\u001B[0;31m---------------------------------------------------------------------------\u001B[0m",
      "\u001B[0;31mKeyboardInterrupt\u001B[0m                         Traceback (most recent call last)",
      "\u001B[0;32m/var/folders/49/f6v0km3x04vb9mrgcyng440m0000gn/T/ipykernel_35020/2703091114.py\u001B[0m in \u001B[0;36m<module>\u001B[0;34m\u001B[0m\n\u001B[1;32m     31\u001B[0m \u001B[0;34m\u001B[0m\u001B[0m\n\u001B[1;32m     32\u001B[0m \u001B[0msim\u001B[0m \u001B[0;34m=\u001B[0m \u001B[0mSimulator2D\u001B[0m\u001B[0;34m(\u001B[0m\u001B[0mmy_lvmfield\u001B[0m\u001B[0;34m,\u001B[0m \u001B[0mobs\u001B[0m\u001B[0;34m,\u001B[0m \u001B[0mspec\u001B[0m\u001B[0;34m,\u001B[0m \u001B[0mbundle\u001B[0m\u001B[0;34m,\u001B[0m \u001B[0mtel\u001B[0m\u001B[0;34m)\u001B[0m\u001B[0;34m\u001B[0m\u001B[0;34m\u001B[0m\u001B[0m\n\u001B[0;32m---> 33\u001B[0;31m \u001B[0msim\u001B[0m\u001B[0;34m.\u001B[0m\u001B[0mcreate_flat\u001B[0m\u001B[0;34m(\u001B[0m\u001B[0;34m)\u001B[0m\u001B[0;34m\u001B[0m\u001B[0;34m\u001B[0m\u001B[0m\n\u001B[0m",
      "\u001B[0;32m~/Science/PyWorkspace/lvmdatasimulator/python/lvmdatasimulator/simulator2d.py\u001B[0m in \u001B[0;36mcreate_flat\u001B[0;34m(self)\u001B[0m\n\u001B[1;32m    151\u001B[0m         \u001B[0mflat\u001B[0m \u001B[0;34m=\u001B[0m \u001B[0mutil\u001B[0m\u001B[0;34m.\u001B[0m\u001B[0mresample_spectrum\u001B[0m\u001B[0;34m(\u001B[0m\u001B[0mself\u001B[0m\u001B[0;34m.\u001B[0m\u001B[0m_wl_grid\u001B[0m\u001B[0;34m,\u001B[0m \u001B[0mdata\u001B[0m\u001B[0;34m[\u001B[0m\u001B[0;34m'wave'\u001B[0m\u001B[0;34m]\u001B[0m\u001B[0;34m,\u001B[0m \u001B[0mdata\u001B[0m\u001B[0;34m[\u001B[0m\u001B[0;34m'flux'\u001B[0m\u001B[0;34m]\u001B[0m\u001B[0;34m,\u001B[0m \u001B[0mfast\u001B[0m\u001B[0;34m=\u001B[0m\u001B[0mself\u001B[0m\u001B[0;34m.\u001B[0m\u001B[0mfast\u001B[0m\u001B[0;34m)\u001B[0m\u001B[0;34m\u001B[0m\u001B[0;34m\u001B[0m\u001B[0m\n\u001B[1;32m    152\u001B[0m \u001B[0;34m\u001B[0m\u001B[0m\n\u001B[0;32m--> 153\u001B[0;31m         \u001B[0mself\u001B[0m\u001B[0;34m.\u001B[0m\u001B[0m_project_2d_calibs\u001B[0m\u001B[0;34m(\u001B[0m\u001B[0mflat\u001B[0m\u001B[0;34m,\u001B[0m \u001B[0;34m'flat'\u001B[0m\u001B[0;34m,\u001B[0m \u001B[0mself\u001B[0m\u001B[0;34m.\u001B[0m\u001B[0mobservation\u001B[0m\u001B[0;34m.\u001B[0m\u001B[0mflat_exptimes\u001B[0m\u001B[0;34m,\u001B[0m \u001B[0mself\u001B[0m\u001B[0;34m.\u001B[0m\u001B[0mobservation\u001B[0m\u001B[0;34m.\u001B[0m\u001B[0mnflats\u001B[0m\u001B[0;34m)\u001B[0m\u001B[0;34m\u001B[0m\u001B[0;34m\u001B[0m\u001B[0m\n\u001B[0m\u001B[1;32m    154\u001B[0m \u001B[0;34m\u001B[0m\u001B[0m\n\u001B[1;32m    155\u001B[0m     \u001B[0;32mdef\u001B[0m \u001B[0mcreate_arc\u001B[0m\u001B[0;34m(\u001B[0m\u001B[0mself\u001B[0m\u001B[0;34m,\u001B[0m \u001B[0mhg\u001B[0m\u001B[0;34m=\u001B[0m\u001B[0;32mFalse\u001B[0m\u001B[0;34m,\u001B[0m \u001B[0mne\u001B[0m\u001B[0;34m=\u001B[0m\u001B[0;32mFalse\u001B[0m\u001B[0;34m,\u001B[0m \u001B[0mar\u001B[0m\u001B[0;34m=\u001B[0m\u001B[0;32mFalse\u001B[0m\u001B[0;34m,\u001B[0m \u001B[0mxe\u001B[0m\u001B[0;34m=\u001B[0m\u001B[0;32mFalse\u001B[0m\u001B[0;34m)\u001B[0m\u001B[0;34m:\u001B[0m\u001B[0;34m\u001B[0m\u001B[0;34m\u001B[0m\u001B[0m\n",
      "\u001B[0;32m~/Science/PyWorkspace/lvmdatasimulator/python/lvmdatasimulator/simulator2d.py\u001B[0m in \u001B[0;36m_project_2d_calibs\u001B[0;34m(self, data, calib_name, exptimes, nexpo)\u001B[0m\n\u001B[1;32m    447\u001B[0m                     \u001B[0;31m# calib_final = calib_final.T\u001B[0m\u001B[0;34m\u001B[0m\u001B[0;34m\u001B[0m\u001B[0m\n\u001B[1;32m    448\u001B[0m \u001B[0;34m\u001B[0m\u001B[0m\n\u001B[0;32m--> 449\u001B[0;31m                     self._to_camera(spectra=calib_final, wave=new_wave[name],\n\u001B[0m\u001B[1;32m    450\u001B[0m                                     \u001B[0mfibtype\u001B[0m\u001B[0;34m=\u001B[0m\u001B[0mfibtype\u001B[0m\u001B[0;34m,\u001B[0m \u001B[0mringid\u001B[0m\u001B[0;34m=\u001B[0m\u001B[0mringid\u001B[0m\u001B[0;34m,\u001B[0m \u001B[0mpos\u001B[0m\u001B[0;34m=\u001B[0m\u001B[0mpos\u001B[0m\u001B[0;34m,\u001B[0m \u001B[0mexptime\u001B[0m\u001B[0;34m=\u001B[0m\u001B[0mtime\u001B[0m\u001B[0;34m,\u001B[0m\u001B[0;34m\u001B[0m\u001B[0;34m\u001B[0m\u001B[0m\n\u001B[1;32m    451\u001B[0m                                     \u001B[0mcamera\u001B[0m\u001B[0;34m=\u001B[0m\u001B[0mname\u001B[0m\u001B[0;34m,\u001B[0m \u001B[0mexp_type\u001B[0m\u001B[0;34m=\u001B[0m\u001B[0mcalib_name\u001B[0m\u001B[0;34m,\u001B[0m \u001B[0mbranch\u001B[0m\u001B[0;34m=\u001B[0m\u001B[0mbranch\u001B[0m\u001B[0;34m,\u001B[0m\u001B[0;34m\u001B[0m\u001B[0;34m\u001B[0m\u001B[0m\n",
      "\u001B[0;32m~/Science/PyWorkspace/lvmdatasimulator/python/lvmdatasimulator/simulator2d.py\u001B[0m in \u001B[0;36m_to_camera\u001B[0;34m(self, spectra, wave, fibtype, ringid, pos, exptime, camera, exp_type, branch, exp_name)\u001B[0m\n\u001B[1;32m    475\u001B[0m         \u001B[0mchannel_index\u001B[0m \u001B[0;34m=\u001B[0m \u001B[0;34m{\u001B[0m\u001B[0;34m'blue'\u001B[0m\u001B[0;34m:\u001B[0m \u001B[0;34m'b'\u001B[0m\u001B[0;34m,\u001B[0m \u001B[0;34m'red'\u001B[0m\u001B[0;34m:\u001B[0m \u001B[0;34m'r'\u001B[0m\u001B[0;34m,\u001B[0m \u001B[0;34m'ir'\u001B[0m\u001B[0;34m:\u001B[0m \u001B[0;34m'z'\u001B[0m\u001B[0;34m}\u001B[0m\u001B[0;34m\u001B[0m\u001B[0;34m\u001B[0m\u001B[0m\n\u001B[1;32m    476\u001B[0m         \u001B[0;32mfor\u001B[0m \u001B[0mcam\u001B[0m \u001B[0;32min\u001B[0m \u001B[0mrange\u001B[0m\u001B[0;34m(\u001B[0m\u001B[0;36m3\u001B[0m\u001B[0;34m)\u001B[0m\u001B[0;34m:\u001B[0m\u001B[0;34m\u001B[0m\u001B[0;34m\u001B[0m\u001B[0m\n\u001B[0;32m--> 477\u001B[0;31m             projected_spectra = cre_raw_exp(spectra, fibtype=fibtype, ring=ringid,\n\u001B[0m\u001B[1;32m    478\u001B[0m                                             \u001B[0mposition\u001B[0m\u001B[0;34m=\u001B[0m\u001B[0mpos\u001B[0m\u001B[0;34m,\u001B[0m \u001B[0mwave_ccd\u001B[0m\u001B[0;34m=\u001B[0m\u001B[0mwave_ccd\u001B[0m\u001B[0;34m,\u001B[0m \u001B[0mwave\u001B[0m\u001B[0;34m=\u001B[0m\u001B[0mwave\u001B[0m\u001B[0;34m,\u001B[0m\u001B[0;34m\u001B[0m\u001B[0;34m\u001B[0m\u001B[0m\n\u001B[1;32m    479\u001B[0m                                             \u001B[0mnfib\u001B[0m\u001B[0;34m=\u001B[0m\u001B[0mself\u001B[0m\u001B[0;34m.\u001B[0m\u001B[0m_fibers_per_spec\u001B[0m\u001B[0;34m,\u001B[0m \u001B[0mchannel_type\u001B[0m\u001B[0;34m=\u001B[0m\u001B[0mcamera\u001B[0m\u001B[0;34m,\u001B[0m\u001B[0;34m\u001B[0m\u001B[0;34m\u001B[0m\u001B[0m\n",
      "\u001B[0;32m~/Science/PyWorkspace/lvmdatasimulator/python/lvmdatasimulator/projection2d.py\u001B[0m in \u001B[0;36mcre_raw_exp\u001B[0;34m(input_spectrum, fibtype, ring, position, wave_ccd, wave, nfib, flb, channel_type, cam, ccd_noise_factor, n_cr, std_cr, mjd, field_name, exp_name, exp_time, ra, dec, add_cr_hits)\u001B[0m\n\u001B[1;32m    316\u001B[0m \u001B[0;34m\u001B[0m\u001B[0m\n\u001B[1;32m    317\u001B[0m         \u001B[0;32mwith\u001B[0m \u001B[0mtqdm_joblib\u001B[0m\u001B[0;34m(\u001B[0m\u001B[0mtqdm\u001B[0m\u001B[0;34m(\u001B[0m\u001B[0mtotal\u001B[0m\u001B[0;34m=\u001B[0m\u001B[0mnp\u001B[0m\u001B[0;34m.\u001B[0m\u001B[0msum\u001B[0m\u001B[0;34m(\u001B[0m\u001B[0mfib_id_in_ring\u001B[0m \u001B[0;34m>=\u001B[0m \u001B[0;36m0\u001B[0m\u001B[0;34m)\u001B[0m\u001B[0;34m)\u001B[0m\u001B[0;34m)\u001B[0m\u001B[0;34m:\u001B[0m\u001B[0;34m\u001B[0m\u001B[0;34m\u001B[0m\u001B[0m\n\u001B[0;32m--> 318\u001B[0;31m             results = Parallel(n_jobs=n_process)(delayed(spec_2d_projection_parallel)(\n\u001B[0m\u001B[1;32m    319\u001B[0m                 \u001B[0minput_spectrum\u001B[0m\u001B[0;34m[\u001B[0m\u001B[0mfib_id_in_ring\u001B[0m\u001B[0;34m[\u001B[0m\u001B[0mcur_fiber_num\u001B[0m\u001B[0;34m]\u001B[0m\u001B[0;34m,\u001B[0m \u001B[0;34m:\u001B[0m\u001B[0;34m]\u001B[0m\u001B[0;34m,\u001B[0m\u001B[0;34m\u001B[0m\u001B[0;34m\u001B[0m\u001B[0m\n\u001B[1;32m    320\u001B[0m                 \u001B[0mpix_grid_input_on_ccd\u001B[0m\u001B[0;34m,\u001B[0m \u001B[0mfocus\u001B[0m\u001B[0;34m,\u001B[0m\u001B[0;34m\u001B[0m\u001B[0;34m\u001B[0m\u001B[0m\n",
      "\u001B[0;32m~/.conda/envs/LVM/lib/python3.9/site-packages/joblib/parallel.py\u001B[0m in \u001B[0;36m__call__\u001B[0;34m(self, iterable)\u001B[0m\n\u001B[1;32m   1054\u001B[0m \u001B[0;34m\u001B[0m\u001B[0m\n\u001B[1;32m   1055\u001B[0m             \u001B[0;32mwith\u001B[0m \u001B[0mself\u001B[0m\u001B[0;34m.\u001B[0m\u001B[0m_backend\u001B[0m\u001B[0;34m.\u001B[0m\u001B[0mretrieval_context\u001B[0m\u001B[0;34m(\u001B[0m\u001B[0;34m)\u001B[0m\u001B[0;34m:\u001B[0m\u001B[0;34m\u001B[0m\u001B[0;34m\u001B[0m\u001B[0m\n\u001B[0;32m-> 1056\u001B[0;31m                 \u001B[0mself\u001B[0m\u001B[0;34m.\u001B[0m\u001B[0mretrieve\u001B[0m\u001B[0;34m(\u001B[0m\u001B[0;34m)\u001B[0m\u001B[0;34m\u001B[0m\u001B[0;34m\u001B[0m\u001B[0m\n\u001B[0m\u001B[1;32m   1057\u001B[0m             \u001B[0;31m# Make sure that we get a last message telling us we are done\u001B[0m\u001B[0;34m\u001B[0m\u001B[0;34m\u001B[0m\u001B[0m\n\u001B[1;32m   1058\u001B[0m             \u001B[0melapsed_time\u001B[0m \u001B[0;34m=\u001B[0m \u001B[0mtime\u001B[0m\u001B[0;34m.\u001B[0m\u001B[0mtime\u001B[0m\u001B[0;34m(\u001B[0m\u001B[0;34m)\u001B[0m \u001B[0;34m-\u001B[0m \u001B[0mself\u001B[0m\u001B[0;34m.\u001B[0m\u001B[0m_start_time\u001B[0m\u001B[0;34m\u001B[0m\u001B[0;34m\u001B[0m\u001B[0m\n",
      "\u001B[0;32m~/.conda/envs/LVM/lib/python3.9/site-packages/joblib/parallel.py\u001B[0m in \u001B[0;36mretrieve\u001B[0;34m(self)\u001B[0m\n\u001B[1;32m    933\u001B[0m             \u001B[0;32mtry\u001B[0m\u001B[0;34m:\u001B[0m\u001B[0;34m\u001B[0m\u001B[0;34m\u001B[0m\u001B[0m\n\u001B[1;32m    934\u001B[0m                 \u001B[0;32mif\u001B[0m \u001B[0mgetattr\u001B[0m\u001B[0;34m(\u001B[0m\u001B[0mself\u001B[0m\u001B[0;34m.\u001B[0m\u001B[0m_backend\u001B[0m\u001B[0;34m,\u001B[0m \u001B[0;34m'supports_timeout'\u001B[0m\u001B[0;34m,\u001B[0m \u001B[0;32mFalse\u001B[0m\u001B[0;34m)\u001B[0m\u001B[0;34m:\u001B[0m\u001B[0;34m\u001B[0m\u001B[0;34m\u001B[0m\u001B[0m\n\u001B[0;32m--> 935\u001B[0;31m                     \u001B[0mself\u001B[0m\u001B[0;34m.\u001B[0m\u001B[0m_output\u001B[0m\u001B[0;34m.\u001B[0m\u001B[0mextend\u001B[0m\u001B[0;34m(\u001B[0m\u001B[0mjob\u001B[0m\u001B[0;34m.\u001B[0m\u001B[0mget\u001B[0m\u001B[0;34m(\u001B[0m\u001B[0mtimeout\u001B[0m\u001B[0;34m=\u001B[0m\u001B[0mself\u001B[0m\u001B[0;34m.\u001B[0m\u001B[0mtimeout\u001B[0m\u001B[0;34m)\u001B[0m\u001B[0;34m)\u001B[0m\u001B[0;34m\u001B[0m\u001B[0;34m\u001B[0m\u001B[0m\n\u001B[0m\u001B[1;32m    936\u001B[0m                 \u001B[0;32melse\u001B[0m\u001B[0;34m:\u001B[0m\u001B[0;34m\u001B[0m\u001B[0;34m\u001B[0m\u001B[0m\n\u001B[1;32m    937\u001B[0m                     \u001B[0mself\u001B[0m\u001B[0;34m.\u001B[0m\u001B[0m_output\u001B[0m\u001B[0;34m.\u001B[0m\u001B[0mextend\u001B[0m\u001B[0;34m(\u001B[0m\u001B[0mjob\u001B[0m\u001B[0;34m.\u001B[0m\u001B[0mget\u001B[0m\u001B[0;34m(\u001B[0m\u001B[0;34m)\u001B[0m\u001B[0;34m)\u001B[0m\u001B[0;34m\u001B[0m\u001B[0;34m\u001B[0m\u001B[0m\n",
      "\u001B[0;32m~/.conda/envs/LVM/lib/python3.9/site-packages/joblib/_parallel_backends.py\u001B[0m in \u001B[0;36mwrap_future_result\u001B[0;34m(future, timeout)\u001B[0m\n\u001B[1;32m    540\u001B[0m         AsyncResults.get from multiprocessing.\"\"\"\n\u001B[1;32m    541\u001B[0m         \u001B[0;32mtry\u001B[0m\u001B[0;34m:\u001B[0m\u001B[0;34m\u001B[0m\u001B[0;34m\u001B[0m\u001B[0m\n\u001B[0;32m--> 542\u001B[0;31m             \u001B[0;32mreturn\u001B[0m \u001B[0mfuture\u001B[0m\u001B[0;34m.\u001B[0m\u001B[0mresult\u001B[0m\u001B[0;34m(\u001B[0m\u001B[0mtimeout\u001B[0m\u001B[0;34m=\u001B[0m\u001B[0mtimeout\u001B[0m\u001B[0;34m)\u001B[0m\u001B[0;34m\u001B[0m\u001B[0;34m\u001B[0m\u001B[0m\n\u001B[0m\u001B[1;32m    543\u001B[0m         \u001B[0;32mexcept\u001B[0m \u001B[0mCfTimeoutError\u001B[0m \u001B[0;32mas\u001B[0m \u001B[0me\u001B[0m\u001B[0;34m:\u001B[0m\u001B[0;34m\u001B[0m\u001B[0;34m\u001B[0m\u001B[0m\n\u001B[1;32m    544\u001B[0m             \u001B[0;32mraise\u001B[0m \u001B[0mTimeoutError\u001B[0m \u001B[0;32mfrom\u001B[0m \u001B[0me\u001B[0m\u001B[0;34m\u001B[0m\u001B[0;34m\u001B[0m\u001B[0m\n",
      "\u001B[0;32m~/.conda/envs/LVM/lib/python3.9/concurrent/futures/_base.py\u001B[0m in \u001B[0;36mresult\u001B[0;34m(self, timeout)\u001B[0m\n\u001B[1;32m    438\u001B[0m                     \u001B[0;32mreturn\u001B[0m \u001B[0mself\u001B[0m\u001B[0;34m.\u001B[0m\u001B[0m__get_result\u001B[0m\u001B[0;34m(\u001B[0m\u001B[0;34m)\u001B[0m\u001B[0;34m\u001B[0m\u001B[0;34m\u001B[0m\u001B[0m\n\u001B[1;32m    439\u001B[0m \u001B[0;34m\u001B[0m\u001B[0m\n\u001B[0;32m--> 440\u001B[0;31m                 \u001B[0mself\u001B[0m\u001B[0;34m.\u001B[0m\u001B[0m_condition\u001B[0m\u001B[0;34m.\u001B[0m\u001B[0mwait\u001B[0m\u001B[0;34m(\u001B[0m\u001B[0mtimeout\u001B[0m\u001B[0;34m)\u001B[0m\u001B[0;34m\u001B[0m\u001B[0;34m\u001B[0m\u001B[0m\n\u001B[0m\u001B[1;32m    441\u001B[0m \u001B[0;34m\u001B[0m\u001B[0m\n\u001B[1;32m    442\u001B[0m                 \u001B[0;32mif\u001B[0m \u001B[0mself\u001B[0m\u001B[0;34m.\u001B[0m\u001B[0m_state\u001B[0m \u001B[0;32min\u001B[0m \u001B[0;34m[\u001B[0m\u001B[0mCANCELLED\u001B[0m\u001B[0;34m,\u001B[0m \u001B[0mCANCELLED_AND_NOTIFIED\u001B[0m\u001B[0;34m]\u001B[0m\u001B[0;34m:\u001B[0m\u001B[0;34m\u001B[0m\u001B[0;34m\u001B[0m\u001B[0m\n",
      "\u001B[0;32m~/.conda/envs/LVM/lib/python3.9/threading.py\u001B[0m in \u001B[0;36mwait\u001B[0;34m(self, timeout)\u001B[0m\n\u001B[1;32m    310\u001B[0m         \u001B[0;32mtry\u001B[0m\u001B[0;34m:\u001B[0m    \u001B[0;31m# restore state no matter what (e.g., KeyboardInterrupt)\u001B[0m\u001B[0;34m\u001B[0m\u001B[0;34m\u001B[0m\u001B[0m\n\u001B[1;32m    311\u001B[0m             \u001B[0;32mif\u001B[0m \u001B[0mtimeout\u001B[0m \u001B[0;32mis\u001B[0m \u001B[0;32mNone\u001B[0m\u001B[0;34m:\u001B[0m\u001B[0;34m\u001B[0m\u001B[0;34m\u001B[0m\u001B[0m\n\u001B[0;32m--> 312\u001B[0;31m                 \u001B[0mwaiter\u001B[0m\u001B[0;34m.\u001B[0m\u001B[0macquire\u001B[0m\u001B[0;34m(\u001B[0m\u001B[0;34m)\u001B[0m\u001B[0;34m\u001B[0m\u001B[0;34m\u001B[0m\u001B[0m\n\u001B[0m\u001B[1;32m    313\u001B[0m                 \u001B[0mgotit\u001B[0m \u001B[0;34m=\u001B[0m \u001B[0;32mTrue\u001B[0m\u001B[0;34m\u001B[0m\u001B[0;34m\u001B[0m\u001B[0m\n\u001B[1;32m    314\u001B[0m             \u001B[0;32melse\u001B[0m\u001B[0;34m:\u001B[0m\u001B[0;34m\u001B[0m\u001B[0;34m\u001B[0m\u001B[0m\n",
      "\u001B[0;31mKeyboardInterrupt\u001B[0m: "
     ]
    }
   ],
   "source": [
    "from lvmdatasimulator.simulator2d import Simulator2D\n",
    "from lvmdatasimulator.field import LVMField\n",
    "from lvmdatasimulator.observation import Observation\n",
    "from lvmdatasimulator.telescope import LVM160\n",
    "from lvmdatasimulator.instrument import LVMSpectrograph\n",
    "from lvmdatasimulator.fibers import FiberBundle\n",
    "\n",
    "import astropy.units as u\n",
    "from matplotlib import pyplot as plt\n",
    "import os\n",
    "\n",
    "os.chdir(\"/Users/mors/Science/LVM/Sim2D/\")\n",
    "\n",
    "name = 'LVM_2D_full'\n",
    "tel = LVM160()\n",
    "spec = LVMSpectrograph()\n",
    "\n",
    "bundle = FiberBundle(bundle_name='full')  # add nrings=XX in order to limit the simulations by XX rings only\n",
    "\n",
    "ra = 12.34 # u.degree\n",
    "dec = -20.35 # u.degree\n",
    "fov_size = 35 # u.arcmin\n",
    "fov_pixel = 5 # u.arcsec\n",
    "distance = 50 # * u.kpc\n",
    "turbulent_sigma = 20 #* u.km / u.s\n",
    "\n",
    "exptimes = [900] # in seconds\n",
    "obs = Observation(ra=ra, dec=dec, unit_ra=u.deg, unit_dec=u.deg, exptimes=exptimes)\n",
    "my_lvmfield = LVMField(ra=ra, dec=dec, size=fov_size, pxsize=fov_pixel, name=name,\n",
    "                       ism_params={'distance': distance, 'turbulent_sigma': turbulent_sigma, 'vel_amplitude': 250})\n",
    "\n",
    "sim = Simulator2D(my_lvmfield, obs, spec, bundle, tel)\n",
    "sim.create_flat()"
   ],
   "metadata": {
    "collapsed": false
   }
  },
  {
   "cell_type": "code",
   "execution_count": null,
   "outputs": [],
   "source": [],
   "metadata": {
    "collapsed": false
   }
  }
 ],
 "metadata": {
  "kernelspec": {
   "display_name": "Python 3",
   "language": "python",
   "name": "python3"
  },
  "language_info": {
   "codemirror_mode": {
    "name": "ipython",
    "version": 2
   },
   "file_extension": ".py",
   "mimetype": "text/x-python",
   "name": "python",
   "nbconvert_exporter": "python",
   "pygments_lexer": "ipython2",
   "version": "2.7.6"
  }
 },
 "nbformat": 4,
 "nbformat_minor": 0
}
