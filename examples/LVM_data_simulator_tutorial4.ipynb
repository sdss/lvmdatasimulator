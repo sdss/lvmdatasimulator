{
 "cells": [
  {
   "cell_type": "markdown",
   "id": "a0d443ac",
   "metadata": {
    "id": "a0d443ac",
    "pycharm": {
     "name": "#%% md\n"
    }
   },
   "source": [
    "# LVM Data Simulator tutorial: exposure time calculator"
   ]
  },
  {
   "cell_type": "markdown",
   "metadata": {
    "collapsed": false
   },
   "source": [
    "**This is a tutorial on how run the simulator to estimate the exposure time needed to reach a signal to noise at a specific wavelength.**\n",
    "- How to install the simulator and how to prepare a custom simulation is shown in [tutorial #1](https://github.com/sdss/lvmdatasimulator/blob/main/examples/LVM_data_simulator_tutorial1.ipynb)\n",
    "- More details on the setup of LVM instrumentation and on the structure of the outputs of the simulator are given in [tutorial #2](https://github.com/sdss/lvmdatasimulator/blob/main/examples/LVM_data_simulator_tutorial2.ipynb)\n",
    "- More realistic and useful simulations are considered in [tutorial #3](https://github.com/sdss/lvmdatasimulator/blob/main/examples/LVM_data_simulator_tutorial3.ipynb) - please go there if you have already installed and configured the package and want to learn how to simulate the source field in more details.\n",
    "\n",
    "_Last update: 2023/02/22_"
   ]
  },
  {
   "cell_type": "markdown",
   "metadata": {
    "collapsed": false,
    "pycharm": {
     "name": "#%% md\n"
    }
   },
   "source": [
    "We assumed lvmdatasimulator has been installed following [tutorial #1](https://github.com/sdss/lvmdatasimulator/blob/main/examples/LVM_data_simulator_tutorial1.ipynb). As usual, move this file to an empty directory, or set-up the working directory as follows:"
   ]
  },
  {
   "cell_type": "code",
   "execution_count": 6,
   "metadata": {
    "collapsed": false
   },
   "outputs": [],
   "source": [
    "# === Don't forget to set up your work directory (not valid for running on UTAH cluster)\n",
    "import os\n",
    "os.chdir('/Users/mors/Science/LVM/Simulator_example/')"
   ]
  },
  {
   "cell_type": "markdown",
   "metadata": {
    "collapsed": false,
    "pycharm": {
     "name": "#%% md\n"
    }
   },
   "source": [
    "## Setting up the ETC\n",
    "\n",
    "This simulator can be easily used to estimate the required LVM exposure time to obtain a certain signal-to-noise ratio (S/N) for a simple source configuration. It simulates only the central fiber of the array, and provide plots showing how the S/N changes as a function of exposure time. For complex scenarios, a full simulation should be run following instructions on the other tutorials.\n",
    "\n",
    "This ETC will simulate only nebulae with:\n",
    "- uniform brightness distribution\n",
    "- constant emission line ratios (defined by one of the pre-computed Cloudy models)\n",
    "- or/and constant level and shape of the continuum.\n",
    "On top of this a star with particular properties also can be part of the object under evaluation. Nebular component, continuum from the object and the stellar spectrum will be combined together by the simulator in a single fiber, for which we will run the calculations.\n",
    "\n",
    "**N.B.: the resulting S/N ratio is the value measured per spectral pixel (0.5A) in the output spectra at a particular wavelength. This simplified ETC doesn't integrate the emission lines and do not subtract the underlying continuum but rather estimate the S/N in the pixel at the center of the line.**\n",
    "\n",
    "**N.B.2: All calculations are performed assuming a single exposure.**"
   ]
  },
  {
   "cell_type": "code",
   "execution_count": 7,
   "metadata": {
    "collapsed": false,
    "pycharm": {
     "name": "#%%\n"
    }
   },
   "outputs": [],
   "source": [
    "from lvmdatasimulator.run import run_lvm_etc"
   ]
  },
  {
   "cell_type": "markdown",
   "metadata": {
    "collapsed": false
   },
   "source": [
    "The first step is to define the parameters of your nebula. The only required parameter is 'max_brightness' (in erg/s/cm\\^2/arcsec^2).\n",
    "See [tutorial #3](https://github.com/sdss/lvmdatasimulator/blob/main/examples/LVM_data_simulator_tutorial3.ipynb) if you want to learn how to specify the spectral properties (emission and continuum) of the nebula.\n",
    "**See also a quick reminder how to get the model_id below**"
   ]
  },
  {
   "cell_type": "code",
   "execution_count": 18,
   "metadata": {
    "collapsed": false
   },
   "outputs": [],
   "source": [
    "neb_params = {'max_brightness': 1e-16, 'model_id': 'Shell_870', 'model_type': 'cloudy'}"
   ]
  },
  {
   "cell_type": "markdown",
   "metadata": {
    "collapsed": false,
    "pycharm": {
     "name": "#%% md\n"
    }
   },
   "source": [
    "Also you may define parameters of the star if you want to put it in the fiber. It should be a dictionary containing the magnitude and temperature of the desired star, as follows:"
   ]
  },
  {
   "cell_type": "code",
   "execution_count": 19,
   "metadata": {
    "collapsed": false,
    "pycharm": {
     "name": "#%%\n"
    }
   },
   "outputs": [],
   "source": [
    "star_params = {'gmag': [15], 'teff': [15000]}"
   ]
  },
  {
   "cell_type": "markdown",
   "metadata": {
    "collapsed": false,
    "pycharm": {
     "name": "#%% md\n"
    }
   },
   "source": [
    "Other parameters can be passed to the simulator in general (see [tutorial #3](https://github.com/sdss/lvmdatasimulator/blob/main/examples/LVM_data_simulator_tutorial3.ipynb)), but only these two should be used when running the ETC. Also note that the parameters must be provided as lists."
   ]
  },
  {
   "cell_type": "markdown",
   "metadata": {
    "collapsed": false,
    "pycharm": {
     "name": "#%% md\n"
    }
   },
   "source": [
    "The dictionary below (``params``) is the main input for the ETC. It joins together the parameters of the nebula and the star, and also can contain parameters defining the observations (see [tutorial 2](https://github.com/sdss/lvmdatasimulator/blob/main/examples/LVM_data_simulator_tutorial2.ipynb)). Note that ``exptimes`` is not used as it is hardcoded in the ETC. As a default, the simulation is run at an airmass of 1.5 and in dark conditions (0 days from new moon). These conditions can be adjusted by providing the ``airmass`` and ``days_moon`` parameters in the ``params`` dictionary, as shown below. It is also possible to provide a custoim sky spectrum via the ``sky_template`` parameter, as described in [tutorial 2](https://github.com/sdss/lvmdatasimulator/blob/main/examples/LVM_data_simulator_tutorial2.ipynb). \n",
    "\n",
    "Other three parameters are required to run the ETC:\n",
    "- ``check_lines`` - list of the lines (wavelength in A, float) for which ETC will check the dependence of the S/N on the exposure time.\n",
    "- ``desired_snr`` - if provided, then ETC will print (and return) the required exposures to reach the target S/N at the respective wavelength.\n",
    "- ``continuum`` - bool (default is False). It defines how the S/N ratio will be calculated. If it is true, then the code assumes we are interested in the S/N in the continuum rather then in emission lines - then the S/N per spectral pixel will be considered. Otherwise, the code assumes the measurements in emission lines, and thus the S/N is measured by integrating the signal and estimating the noise in the ±2A aperture around the wavelengths in ``check_lines``.\n",
    "- ``delete`` - bool (default is True). If this parameter is set to True, all the files produced during the simulations will be deleted. If you want to keep all the output, please set ``delete`` to False.\n"
   ]
  },
  {
   "cell_type": "code",
   "execution_count": 20,
   "metadata": {
    "collapsed": false,
    "pycharm": {
     "name": "#%%\n"
    }
   },
   "outputs": [
    {
     "name": "stderr",
     "output_type": "stream",
     "text": [
      "\u001B[0;34m[INFO]: \u001B[0mStart simulations in exposure time calculator mode for 1 nebula and 1 star \n",
      "\u001B[0;34m[INFO]: \u001B[0mStart generating 1 nebulae\n",
      "\u001B[0;34m[INFO]: \u001B[0mGenerated ISM saved to ./ETC_my_test_object/test.fits\n",
      "\u001B[0;34m[INFO]: \u001B[0mISM content saved to test.fits\n",
      "\u001B[1;33m[WARNING]: \u001B[0mA star is included in the simulation. The S/N estimate might not be reliable \n",
      "or the ETC could crash if the considered lines sit on top of an absorption lines.\n",
      "\u001B[0;34m[INFO]: \u001B[0mstar 1 with Teff 15000, Gmag 15.00 and velocity 0 added at position (10 , -10)\n",
      "\u001B[0;34m[INFO]: \u001B[0mTransforming world coordinates to pixel coordinates\n",
      "\u001B[0;34m[INFO]: \u001B[0mAssociating spectra to stars using library pollux_resampled_v0.fits...\n",
      "\u001B[0;34m[INFO]: \u001B[0mRescaling 1 synthetic spectra.\n",
      "\u001B[0;34m[INFO]: \u001B[0mUsing only the central fiber.\n",
      "\u001B[0;34m[INFO]: \u001B[0mSimulating observations.\n",
      "\u001B[0;34m[INFO]: \u001B[0mReading the atmospheric extinction from file.\n"
     ]
    },
    {
     "name": "stdout",
     "output_type": "stream",
     "text": [
      "Warning: assuming 1 angstrom units to unitless object.\n",
      "Warning: assuming 1 flam units to unitless object.\n"
     ]
    },
    {
     "name": "stderr",
     "output_type": "stream",
     "text": [
      "\u001B[0;34m[INFO]: \u001B[0mResample extinction file to instrument wavelength solution.\n",
      "\u001B[0;34m[INFO]: \u001B[0mSimulating the sky emission 2 days from new moon.\n",
      "\u001B[0;34m[INFO]: \u001B[0mUsing sky file: /Users/mors/Science/PyWorkspace/lvmdatasimulator/data/sky/LVM_LVM160_SKY_2.dat\n",
      "\u001B[0;34m[INFO]: \u001B[0mResample sky emission to instrument wavelength solution.\n",
      "\u001B[0;34m[INFO]: \u001B[0mRecovering target spectra for 1 fibers.\n",
      "\u001B[0;34m[INFO]: \u001B[0mStart extracting nebular spectra\n",
      "\u001B[0;34m[INFO]: \u001B[0mResampling spectra to the instrument wavelength solution.\n",
      "\u001B[0;34m[INFO]: \u001B[0mSaving the outputs:\n",
      "\u001B[0;34m[INFO]: \u001B[0mInput spectra\n",
      "\u001B[0;34m[INFO]: \u001B[0m./ETC_my_test_object/outputs/ETC_my_test_object_linear_central_input.fits saved.\n",
      "\u001B[0;34m[INFO]: \u001B[0mClean outputs\n",
      "\u001B[0;34m[INFO]: \u001B[0m./ETC_my_test_object/outputs/ETC_my_test_object_linear_central_10_no_noise.fits saved.\n",
      "\u001B[0;34m[INFO]: \u001B[0m./ETC_my_test_object/outputs/ETC_my_test_object_linear_central_19_no_noise.fits saved.\n",
      "\u001B[0;34m[INFO]: \u001B[0m./ETC_my_test_object/outputs/ETC_my_test_object_linear_central_37_no_noise.fits saved.\n",
      "\u001B[0;34m[INFO]: \u001B[0m./ETC_my_test_object/outputs/ETC_my_test_object_linear_central_70_no_noise.fits saved.\n",
      "\u001B[0;34m[INFO]: \u001B[0m./ETC_my_test_object/outputs/ETC_my_test_object_linear_central_135_no_noise.fits saved.\n",
      "\u001B[0;34m[INFO]: \u001B[0m./ETC_my_test_object/outputs/ETC_my_test_object_linear_central_258_no_noise.fits saved.\n",
      "\u001B[0;34m[INFO]: \u001B[0m./ETC_my_test_object/outputs/ETC_my_test_object_linear_central_495_no_noise.fits saved.\n",
      "\u001B[0;34m[INFO]: \u001B[0m./ETC_my_test_object/outputs/ETC_my_test_object_linear_central_949_no_noise.fits saved.\n",
      "\u001B[0;34m[INFO]: \u001B[0m./ETC_my_test_object/outputs/ETC_my_test_object_linear_central_1818_no_noise.fits saved.\n",
      "\u001B[0;34m[INFO]: \u001B[0m./ETC_my_test_object/outputs/ETC_my_test_object_linear_central_3483_no_noise.fits saved.\n",
      "\u001B[0;34m[INFO]: \u001B[0m./ETC_my_test_object/outputs/ETC_my_test_object_linear_central_6675_no_noise.fits saved.\n",
      "\u001B[0;34m[INFO]: \u001B[0m./ETC_my_test_object/outputs/ETC_my_test_object_linear_central_12791_no_noise.fits saved.\n",
      "\u001B[0;34m[INFO]: \u001B[0m./ETC_my_test_object/outputs/ETC_my_test_object_linear_central_24510_no_noise.fits saved.\n",
      "\u001B[0;34m[INFO]: \u001B[0m./ETC_my_test_object/outputs/ETC_my_test_object_linear_central_46967_no_noise.fits saved.\n",
      "\u001B[0;34m[INFO]: \u001B[0m./ETC_my_test_object/outputs/ETC_my_test_object_linear_central_90000_no_noise.fits saved.\n",
      "\u001B[0;34m[INFO]: \u001B[0mUncalibrated outputs\n",
      "\u001B[0;34m[INFO]: \u001B[0m./ETC_my_test_object/outputs/ETC_my_test_object_linear_central_10_realization.fits saved.\n",
      "\u001B[0;34m[INFO]: \u001B[0m./ETC_my_test_object/outputs/ETC_my_test_object_linear_central_19_realization.fits saved.\n",
      "\u001B[0;34m[INFO]: \u001B[0m./ETC_my_test_object/outputs/ETC_my_test_object_linear_central_37_realization.fits saved.\n",
      "\u001B[0;34m[INFO]: \u001B[0m./ETC_my_test_object/outputs/ETC_my_test_object_linear_central_70_realization.fits saved.\n",
      "\u001B[0;34m[INFO]: \u001B[0m./ETC_my_test_object/outputs/ETC_my_test_object_linear_central_135_realization.fits saved.\n",
      "\u001B[0;34m[INFO]: \u001B[0m./ETC_my_test_object/outputs/ETC_my_test_object_linear_central_258_realization.fits saved.\n",
      "\u001B[0;34m[INFO]: \u001B[0m./ETC_my_test_object/outputs/ETC_my_test_object_linear_central_495_realization.fits saved.\n",
      "\u001B[0;34m[INFO]: \u001B[0m./ETC_my_test_object/outputs/ETC_my_test_object_linear_central_949_realization.fits saved.\n",
      "\u001B[0;34m[INFO]: \u001B[0m./ETC_my_test_object/outputs/ETC_my_test_object_linear_central_1818_realization.fits saved.\n",
      "\u001B[0;34m[INFO]: \u001B[0m./ETC_my_test_object/outputs/ETC_my_test_object_linear_central_3483_realization.fits saved.\n",
      "\u001B[0;34m[INFO]: \u001B[0m./ETC_my_test_object/outputs/ETC_my_test_object_linear_central_6675_realization.fits saved.\n",
      "\u001B[0;34m[INFO]: \u001B[0m./ETC_my_test_object/outputs/ETC_my_test_object_linear_central_12791_realization.fits saved.\n",
      "\u001B[0;34m[INFO]: \u001B[0m./ETC_my_test_object/outputs/ETC_my_test_object_linear_central_24510_realization.fits saved.\n",
      "\u001B[0;34m[INFO]: \u001B[0m./ETC_my_test_object/outputs/ETC_my_test_object_linear_central_46967_realization.fits saved.\n",
      "\u001B[0;34m[INFO]: \u001B[0m./ETC_my_test_object/outputs/ETC_my_test_object_linear_central_90000_realization.fits saved.\n",
      "\u001B[0;34m[INFO]: \u001B[0mCalibrated outputs\n",
      "\u001B[0;34m[INFO]: \u001B[0m./ETC_my_test_object/outputs/ETC_my_test_object_linear_central_10_flux.fits saved.\n",
      "\u001B[0;34m[INFO]: \u001B[0m./ETC_my_test_object/outputs/ETC_my_test_object_linear_central_19_flux.fits saved.\n",
      "\u001B[0;34m[INFO]: \u001B[0m./ETC_my_test_object/outputs/ETC_my_test_object_linear_central_37_flux.fits saved.\n",
      "\u001B[0;34m[INFO]: \u001B[0m./ETC_my_test_object/outputs/ETC_my_test_object_linear_central_70_flux.fits saved.\n",
      "\u001B[0;34m[INFO]: \u001B[0m./ETC_my_test_object/outputs/ETC_my_test_object_linear_central_135_flux.fits saved.\n",
      "\u001B[0;34m[INFO]: \u001B[0m./ETC_my_test_object/outputs/ETC_my_test_object_linear_central_258_flux.fits saved.\n",
      "\u001B[0;34m[INFO]: \u001B[0m./ETC_my_test_object/outputs/ETC_my_test_object_linear_central_495_flux.fits saved.\n",
      "\u001B[0;34m[INFO]: \u001B[0m./ETC_my_test_object/outputs/ETC_my_test_object_linear_central_949_flux.fits saved.\n",
      "\u001B[0;34m[INFO]: \u001B[0m./ETC_my_test_object/outputs/ETC_my_test_object_linear_central_1818_flux.fits saved.\n",
      "\u001B[0;34m[INFO]: \u001B[0m./ETC_my_test_object/outputs/ETC_my_test_object_linear_central_3483_flux.fits saved.\n",
      "\u001B[0;34m[INFO]: \u001B[0m./ETC_my_test_object/outputs/ETC_my_test_object_linear_central_6675_flux.fits saved.\n",
      "\u001B[0;34m[INFO]: \u001B[0m./ETC_my_test_object/outputs/ETC_my_test_object_linear_central_12791_flux.fits saved.\n",
      "\u001B[0;34m[INFO]: \u001B[0m./ETC_my_test_object/outputs/ETC_my_test_object_linear_central_24510_flux.fits saved.\n",
      "\u001B[0;34m[INFO]: \u001B[0m./ETC_my_test_object/outputs/ETC_my_test_object_linear_central_46967_flux.fits saved.\n",
      "\u001B[0;34m[INFO]: \u001B[0m./ETC_my_test_object/outputs/ETC_my_test_object_linear_central_90000_flux.fits saved.\n",
      "\u001B[0;34m[INFO]: \u001B[0mSaving input ETC parameters to ETC_my_test_object_input_parameters_etc.yml\n"
     ]
    },
    {
     "name": "stdout",
     "output_type": "stream",
     "text": [
      "To reach S/N=30 in line = 6563.0±1A we need 857s of single exposure\n",
      "To reach S/N=10 in line = 6717.0±1A we need 3499s of single exposure\n",
      "To reach S/N=15 in line = 4861.0±1A we need 1510s of single exposure\n"
     ]
    },
    {
     "data": {
      "text/plain": "<Figure size 576x432 with 1 Axes>",
      "image/png": "[encoded data removed]"
     },
     "metadata": {},
     "output_type": "display_data"
    },
    {
     "name": "stderr",
     "output_type": "stream",
     "text": [
      "\u001B[0;34m[INFO]: \u001B[0mDeleting output directory\n"
     ]
    },
    {
     "name": "stdout",
     "output_type": "stream",
     "text": [
      "\n",
      "Elapsed time: 9.0s\n"
     ]
    },
    {
     "data": {
      "text/plain": "[857, 3499, 1510]"
     },
     "execution_count": 20,
     "metadata": {},
     "output_type": "execute_result"
    }
   ],
   "source": [
    "params = {'name': 'ETC_my_test_object',\n",
    "          'nebula': neb_params,\n",
    "          'star': star_params,\n",
    "          'airmass': 1.2,\n",
    "          'days_moon': 2,\n",
    "          }\n",
    "\n",
    "\n",
    "run_lvm_etc(params, check_lines=[6563., 6717., 4861.], desired_snr=[30, 10, 15], continuum=False)"
   ]
  },
  {
   "cell_type": "markdown",
   "source": [
    "### Run ETC with your own spectrum (saved as ascii table)"
   ],
   "metadata": {
    "collapsed": false
   }
  },
  {
   "cell_type": "code",
   "execution_count": 35,
   "id": "723b9cf2",
   "metadata": {},
   "outputs": [
    {
     "name": "stderr",
     "output_type": "stream",
     "text": [
      "\u001B[0;34m[INFO]: \u001B[0mStart simulations in exposure time calculator mode for 1 custom spectrum.\n",
      "\u001B[0;34m[INFO]: \u001B[0mUsing only the central fiber.\n",
      "\u001B[0;34m[INFO]: \u001B[0mSimulating real spectrum observation\n",
      "\u001B[0;34m[INFO]: \u001B[0mReading the atmospheric extinction from file.\n",
      "\u001B[0;34m[INFO]: \u001B[0mResample extinction file to instrument wavelength solution.\n",
      "\u001B[0;34m[INFO]: \u001B[0mSimulating the sky emission 2 days from new moon.\n",
      "\u001B[0;34m[INFO]: \u001B[0mUsing sky file: /mnt/DATA/LVM/lvmdatasimulator/data/sky/LVM_LVM160_SKY_2.dat\n",
      "\u001B[0;34m[INFO]: \u001B[0mResample sky emission to instrument wavelength solution.\n",
      "\u001B[0;34m[INFO]: \u001B[0mSaving the outputs:\n",
      "\u001B[0;34m[INFO]: \u001B[0mInput spectra\n",
      "\u001B[0;34m[INFO]: \u001B[0m./outputs/LVM_Field_ETC_linear_central_input.fits saved.\n",
      "\u001B[0;34m[INFO]: \u001B[0mClean outputs\n",
      "\u001B[0;34m[INFO]: \u001B[0m./outputs/LVM_Field_ETC_linear_central_300_no_noise.fits saved.\n",
      "\u001B[0;34m[INFO]: \u001B[0m./outputs/LVM_Field_ETC_linear_central_451_no_noise.fits saved.\n",
      "\u001B[0;34m[INFO]: \u001B[0m./outputs/LVM_Field_ETC_linear_central_678_no_noise.fits saved.\n",
      "\u001B[0;34m[INFO]: \u001B[0m./outputs/LVM_Field_ETC_linear_central_1018_no_noise.fits saved.\n",
      "\u001B[0;34m[INFO]: \u001B[0m./outputs/LVM_Field_ETC_linear_central_1531_no_noise.fits saved.\n",
      "\u001B[0;34m[INFO]: \u001B[0m./outputs/LVM_Field_ETC_linear_central_2300_no_noise.fits saved.\n",
      "\u001B[0;34m[INFO]: \u001B[0m./outputs/LVM_Field_ETC_linear_central_3457_no_noise.fits saved.\n",
      "\u001B[0;34m[INFO]: \u001B[0m./outputs/LVM_Field_ETC_linear_central_5196_no_noise.fits saved.\n",
      "\u001B[0;34m[INFO]: \u001B[0m./outputs/LVM_Field_ETC_linear_central_7809_no_noise.fits saved.\n",
      "\u001B[0;34m[INFO]: \u001B[0m./outputs/LVM_Field_ETC_linear_central_11737_no_noise.fits saved.\n",
      "\u001B[0;34m[INFO]: \u001B[0m./outputs/LVM_Field_ETC_linear_central_17640_no_noise.fits saved.\n",
      "\u001B[0;34m[INFO]: \u001B[0m./outputs/LVM_Field_ETC_linear_central_26511_no_noise.fits saved.\n",
      "\u001B[0;34m[INFO]: \u001B[0m./outputs/LVM_Field_ETC_linear_central_39844_no_noise.fits saved.\n",
      "\u001B[0;34m[INFO]: \u001B[0m./outputs/LVM_Field_ETC_linear_central_59883_no_noise.fits saved.\n",
      "\u001B[0;34m[INFO]: \u001B[0m./outputs/LVM_Field_ETC_linear_central_90000_no_noise.fits saved.\n",
      "\u001B[0;34m[INFO]: \u001B[0mUncalibrated outputs\n",
      "\u001B[0;34m[INFO]: \u001B[0m./outputs/LVM_Field_ETC_linear_central_300_realization.fits saved.\n",
      "\u001B[0;34m[INFO]: \u001B[0m./outputs/LVM_Field_ETC_linear_central_451_realization.fits saved.\n",
      "\u001B[0;34m[INFO]: \u001B[0m./outputs/LVM_Field_ETC_linear_central_678_realization.fits saved.\n",
      "\u001B[0;34m[INFO]: \u001B[0m./outputs/LVM_Field_ETC_linear_central_1018_realization.fits saved.\n",
      "\u001B[0;34m[INFO]: \u001B[0m./outputs/LVM_Field_ETC_linear_central_1531_realization.fits saved.\n",
      "\u001B[0;34m[INFO]: \u001B[0m./outputs/LVM_Field_ETC_linear_central_2300_realization.fits saved.\n",
      "\u001B[0;34m[INFO]: \u001B[0m./outputs/LVM_Field_ETC_linear_central_3457_realization.fits saved.\n",
      "\u001B[0;34m[INFO]: \u001B[0m./outputs/LVM_Field_ETC_linear_central_5196_realization.fits saved.\n",
      "\u001B[0;34m[INFO]: \u001B[0m./outputs/LVM_Field_ETC_linear_central_7809_realization.fits saved.\n",
      "\u001B[0;34m[INFO]: \u001B[0m./outputs/LVM_Field_ETC_linear_central_11737_realization.fits saved.\n",
      "\u001B[0;34m[INFO]: \u001B[0m./outputs/LVM_Field_ETC_linear_central_17640_realization.fits saved.\n",
      "\u001B[0;34m[INFO]: \u001B[0m./outputs/LVM_Field_ETC_linear_central_26511_realization.fits saved.\n",
      "\u001B[0;34m[INFO]: \u001B[0m./outputs/LVM_Field_ETC_linear_central_39844_realization.fits saved.\n",
      "\u001B[0;34m[INFO]: \u001B[0m./outputs/LVM_Field_ETC_linear_central_59883_realization.fits saved.\n",
      "\u001B[0;34m[INFO]: \u001B[0m./outputs/LVM_Field_ETC_linear_central_90000_realization.fits saved.\n",
      "\u001B[0;34m[INFO]: \u001B[0mCalibrated outputs\n",
      "\u001B[0;34m[INFO]: \u001B[0m./outputs/LVM_Field_ETC_linear_central_300_flux.fits saved.\n",
      "\u001B[0;34m[INFO]: \u001B[0m./outputs/LVM_Field_ETC_linear_central_451_flux.fits saved.\n",
      "\u001B[0;34m[INFO]: \u001B[0m./outputs/LVM_Field_ETC_linear_central_678_flux.fits saved.\n",
      "\u001B[0;34m[INFO]: \u001B[0m./outputs/LVM_Field_ETC_linear_central_1018_flux.fits saved.\n",
      "\u001B[0;34m[INFO]: \u001B[0m./outputs/LVM_Field_ETC_linear_central_1531_flux.fits saved.\n",
      "\u001B[0;34m[INFO]: \u001B[0m./outputs/LVM_Field_ETC_linear_central_2300_flux.fits saved.\n",
      "\u001B[0;34m[INFO]: \u001B[0m./outputs/LVM_Field_ETC_linear_central_3457_flux.fits saved.\n",
      "\u001B[0;34m[INFO]: \u001B[0m./outputs/LVM_Field_ETC_linear_central_5196_flux.fits saved.\n",
      "\u001B[0;34m[INFO]: \u001B[0m./outputs/LVM_Field_ETC_linear_central_7809_flux.fits saved.\n",
      "\u001B[0;34m[INFO]: \u001B[0m./outputs/LVM_Field_ETC_linear_central_11737_flux.fits saved.\n",
      "\u001B[0;34m[INFO]: \u001B[0m./outputs/LVM_Field_ETC_linear_central_17640_flux.fits saved.\n",
      "\u001B[0;34m[INFO]: \u001B[0m./outputs/LVM_Field_ETC_linear_central_26511_flux.fits saved.\n",
      "\u001B[0;34m[INFO]: \u001B[0m./outputs/LVM_Field_ETC_linear_central_39844_flux.fits saved.\n",
      "\u001B[0;34m[INFO]: \u001B[0m./outputs/LVM_Field_ETC_linear_central_59883_flux.fits saved.\n",
      "\u001B[0;34m[INFO]: \u001B[0m./outputs/LVM_Field_ETC_linear_central_90000_flux.fits saved.\n",
      "\u001B[0;34m[INFO]: \u001B[0mSaving input ETC parameters to LVM_Field_ETC_input_parameters_etc.yml\n"
     ]
    },
    {
     "name": "stdout",
     "output_type": "stream",
     "text": [
      "To reach S/N=30 in line = 6563.0±2.0A we need 1809s of single exposure\n",
      "To reach S/N=10 in line = 5007.0±2.0A we need 80s of single exposure\n"
     ]
    },
    {
     "data": {
      "image/png": "[encoded data removed]",
      "text/plain": [
       "<Figure size 576x432 with 1 Axes>"
      ]
     },
     "metadata": {},
     "output_type": "display_data"
    },
    {
     "name": "stdout",
     "output_type": "stream",
     "text": [
      "\n",
      "Elapsed time: 6.6s\n"
     ]
    },
    {
     "data": {
      "text/plain": [
       "[1809, 80]"
      ]
     },
     "execution_count": 35,
     "metadata": {},
     "output_type": "execute_result"
    }
   ],
   "source": [
    "norm_factor = 1.  # Set up if you wish to multiply your spectrum by some factor to convert it to physical units\n",
    "params = {'name': 'ETC_custom_spec',\n",
    "          'spectrum': './pn_spectrum_100k.dat',\n",
    "          'norm': norm_factor,\n",
    "          'airmass': 1.2,\n",
    "          'days_moon': 2,\n",
    "          }\n",
    "\n",
    "run_lvm_etc(params, check_lines=[6563., 5007.], desired_snr=[30, 10], continuum=False)"
   ]
  },
  {
   "cell_type": "markdown",
   "id": "370c09e9",
   "metadata": {},
   "source": [
    "## Warnings\n",
    "\n",
    "When providing a spectrum, there are a few things to keep in mind:\n",
    "- The spectrum should be uniformly sampled, and the wavelength array in linear units.\n",
    "- If the spectrum does not cover the full wavelength range covered by the LVM, it is going to be extended via extrapolation.\n",
    "- The simulator will convolve and resample the input spectrum during the simulation to produce a final oputput with a sampling off 0.5 aa/pix and an LSF with a FWHM of 1.5 AA. To obtain better results, we suggest to provide spectra with an higher sampling."
   ]
  },
  {
   "cell_type": "markdown",
   "source": [
    "## How to choose right \"model_id\"\n",
    "\n",
    "Here is quick reminder on how to pick the model with the physical parameters you need. More details in [tutorial #3](https://github.com/sdss/lvmdatasimulator/blob/main/examples/LVM_data_simulator_tutorial3.ipynb)"
   ],
   "metadata": {
    "collapsed": false
   }
  },
  {
   "cell_type": "code",
   "execution_count": 17,
   "outputs": [
    {
     "data": {
      "text/plain": "<Table length=1>\n Model_ID Geometry ...                Source_model              \n  str10     str5   ...                   str43                  \n--------- -------- ... -----------------------------------------\nShell_870    Shell ... LVM_Cloudy_z0.80_l6.5_t30000_n100.0_r10.0",
      "text/html": "<div><i>Table length=1</i>\n<table id=\"table140235433005408\" class=\"table-striped table-bordered table-condensed\">\n<thead><tr><th>Model_ID</th><th>Geometry</th><th>Z</th><th>qH</th><th>LogLsun</th><th>Teff</th><th>nH</th><th>Rin</th><th>Rout</th><th>Nzones</th><th>Nlines</th><th>Distance</th><th>Flux_Ha</th><th>Source_model</th></tr></thead>\n<thead><tr><th>str10</th><th>str5</th><th>float64</th><th>float64</th><th>float64</th><th>float64</th><th>float64</th><th>float64</th><th>float64</th><th>int64</th><th>int64</th><th>float64</th><th>float64</th><th>str43</th></tr></thead>\n<tr><td>Shell_870</td><td>Shell</td><td>0.8</td><td>50.0</td><td>6.5</td><td>30000.0</td><td>100.0</td><td>10.01</td><td>10.66</td><td>103</td><td>141</td><td>50.0</td><td>4.372957193776309e-10</td><td>LVM_Cloudy_z0.80_l6.5_t30000_n100.0_r10.0</td></tr>\n</table></div>"
     },
     "execution_count": 17,
     "metadata": {},
     "output_type": "execute_result"
    }
   ],
   "source": [
    "from lvmdatasimulator.utils import models_grid_summary\n",
    "t = models_grid_summary('cloudy')  # All available models and their properties in astropy table\n",
    "selection = (t['Z'] == 0.8) & (t['nH'] == 100) & (t['Geometry'] == 'Shell') & (t['qH'] == 50)\n",
    "t[selection]"
   ],
   "metadata": {
    "collapsed": false
   }
  },
  {
   "cell_type": "code",
   "execution_count": null,
   "outputs": [],
   "source": [],
   "metadata": {
    "collapsed": false
   }
  }
 ],
 "metadata": {
  "colab": {
   "collapsed_sections": [],
   "name": "LVM_data_simulator_tutorial.ipynb",
   "provenance": []
  },
  "kernelspec": {
   "display_name": "lvm",
   "language": "python",
   "name": "python3"
  },
  "language_info": {
   "codemirror_mode": {
    "name": "ipython",
    "version": 3
   },
   "file_extension": ".py",
   "mimetype": "text/x-python",
   "name": "python",
   "nbconvert_exporter": "python",
   "pygments_lexer": "ipython3",
   "version": "3.9.13 (main, Oct 13 2022, 21:15:33) \n[GCC 11.2.0]"
  },
  "vscode": {
   "interpreter": {
    "hash": "da7c95df5ee73fd44942f57e13a87a97f9ae03e051d1d04366597aea1f56a01f"
   }
  }
 },
 "nbformat": 4,
 "nbformat_minor": 5
}
