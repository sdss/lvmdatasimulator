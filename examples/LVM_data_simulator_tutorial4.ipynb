{
 "cells": [
  {
   "cell_type": "markdown",
   "id": "a0d443ac",
   "metadata": {
    "id": "a0d443ac",
    "pycharm": {
     "name": "#%% md\n"
    }
   },
   "source": [
    "# LVM Data Simulator tutorial: exposure time calculator"
   ]
  },
  {
   "cell_type": "markdown",
   "id": "1222aa7a",
   "metadata": {
    "collapsed": false,
    "pycharm": {
     "name": "#%% md\n"
    }
   },
   "source": [
    "**This is a tutorial on how run the simulator to estimate the exposure time needed to reach a signal to noise at a specific wavelength.**\n",
    "- How to install the simulator and how to prepare a custom simulation is shown in [tutorial #1](https://github.com/sdss/lvmdatasimulator/blob/main/examples/LVM_data_simulator_tutorial1.ipynb)\n",
    "- More details on the setup of LVM instrumentation and on the structure of the outputs of the simulator are given in [tutorial #2](https://github.com/sdss/lvmdatasimulator/blob/main/examples/LVM_data_simulator_tutorial2.ipynb)\n",
    "- More realistic and useful simulations are considered in [tutorial #3](https://github.com/sdss/lvmdatasimulator/blob/main/examples/LVM_data_simulator_tutorial3.ipynb) - please go there if you have already installed and configured the package and want to learn how to simulate the source field in more details.\n",
    "\n",
    "_Last update: 2022/06/08_"
   ]
  },
  {
   "cell_type": "markdown",
   "id": "02734b2f",
   "metadata": {
    "pycharm": {
     "name": "#%% md\n"
    }
   },
   "source": [
    "We assumed lvmdatasimulator has been installed following [tutorial #1](https://github.com/sdss/lvmdatasimulator/blob/main/examples/LVM_data_simulator_tutorial1.ipynb). As usual, move this file to an empty directory, or set-up the working directory as follows:"
   ]
  },
  {
   "cell_type": "code",
   "execution_count": 1,
   "id": "824e4665",
   "metadata": {
    "pycharm": {
     "name": "#%%\n"
    }
   },
   "outputs": [],
   "source": [
    "# === Don't forget to set up your work directory\n",
    "import os\n",
    "os.chdir('/Users/mors/Science/LVM/Simulator_example/')"
   ]
  },
  {
   "cell_type": "markdown",
   "id": "f86a8552",
   "metadata": {
    "collapsed": false,
    "pycharm": {
     "name": "#%% md\n"
    }
   },
   "source": [
    "## Setting up the ETC\n",
    "\n",
    "This simulator can be easily used to estimate the required LVM exposure time to obtain a certain signal-to-noise ratio (S/N) for a simple source configuration. It simulates only the central fiber of the array, and provide plots showing how the S/N changes as a function of exposure time. For complex scenarios, a full simulation should be run following instructions on the other tutorials.\n",
    "\n",
    "This ETC will simulate only nebulae with:\n",
    "- uniform brightness distribution\n",
    "- constant emission line ratios (defined by one of the pre-computed Cloudy models)\n",
    "- or/and constant level and shape of the continuum.\n",
    "On top of this a star with particular properties also can be part of the object under evaluation. Nebular component, continuum from the object and the stellar spectrum will be combined together by the simulator in a single fiber, for which we will run the calculations.\n",
    "\n",
    "**N.B.: the resulting S/N ratio is the value measured per spectral pixel (0.5A) in the output spectra at a particular wavelength. This simplified ETC doesn't integrate the emission lines and do not subtract the underlying continuum but rather estimate the S/N in the pixel at the center of the line.**\n",
    "\n",
    "**N.B.2: All calculations are performed assuming a single exposure.**"
   ]
  },
  {
   "cell_type": "code",
   "execution_count": 2,
   "id": "48f7af2d",
   "metadata": {
    "collapsed": false,
    "pycharm": {
     "name": "#%%\n"
    }
   },
   "outputs": [],
   "source": [
    "from lvmdatasimulator.run import run_lvm_etc"
   ]
  },
  {
   "cell_type": "markdown",
   "id": "6816fd08",
   "metadata": {
    "collapsed": false,
    "pycharm": {
     "name": "#%% md\n"
    }
   },
   "source": [
    "The first step is to define the parameters of your nebula. The only required parameter is 'max_brightness' (in erg/s/cm\\^2/arcsec^2).\n",
    "See [tutorial #3](https://github.com/sdss/lvmdatasimulator/blob/main/examples/LVM_data_simulator_tutorial3.ipynb) if you want to learm how to specify the spectral properties (emission and continuum) of the nebula."
   ]
  },
  {
   "cell_type": "code",
   "execution_count": 3,
   "id": "00bd2511",
   "metadata": {
    "collapsed": false,
    "pycharm": {
     "name": "#%%\n"
    }
   },
   "outputs": [],
   "source": [
    "neb_params = {'max_brightness': 1e-16, 'cloudy_id': 'Shell_3'}"
   ]
  },
  {
   "cell_type": "markdown",
   "id": "95e6c894",
   "metadata": {
    "pycharm": {
     "name": "#%% md\n"
    }
   },
   "source": [
    "Also you may define parameters of the star if you want to put it in the fiber. It should be a dictionary containing the magnitude and temperature of the desired star, as follows:"
   ]
  },
  {
   "cell_type": "code",
   "execution_count": 4,
   "id": "aadff4b7",
   "metadata": {
    "pycharm": {
     "name": "#%%\n"
    }
   },
   "outputs": [],
   "source": [
    "star_params = {'gmag': [15], 'teff': [15000]}"
   ]
  },
  {
   "cell_type": "markdown",
   "id": "45b52cff",
   "metadata": {
    "pycharm": {
     "name": "#%% md\n"
    }
   },
   "source": [
    "Other parameters can be passed to the simulator in general (see [tutorial #3](https://github.com/sdss/lvmdatasimulator/blob/main/examples/LVM_data_simulator_tutorial3.ipynb)), but only these two should be used when running the ETC. Also note that the parameters must be provided as lists."
   ]
  },
  {
   "cell_type": "markdown",
   "id": "c77713b1",
   "metadata": {
    "collapsed": false,
    "pycharm": {
     "name": "#%% md\n"
    }
   },
   "source": [
    "The dictionary below (``params``) is the main input for the ETC. It joins together the parameters of the nebula and the star, and also can contain parameters defining the observations (see [tutorial 2](https://github.com/sdss/lvmdatasimulator/blob/main/examples/LVM_data_simulator_tutorial2.ipynb)). Note that ``exptimes`` is not used as it is hardcoded in the ETC. As a default, the simulation is run at an airmass of 1.5 and in dark conditions (0 days from new moon). These conditions can be adjusted by providing the ``airmass`` and ``days_moon`` parameters in the ``params`` dictionary, as shown below.\n",
    "\n",
    "Other three parameters are required to run the ETC:\n",
    "- ``check_lines`` - list of the lines (wavelength in A, float) for which ETC will check the dependence of the S/N on the exposure time.\n",
    "- ``desired_snr`` - if provided, then ETC will print (and return) the required exposures to reach the target S/N at the respective wavelength.\n",
    "- ``continuum`` - bool (default is False). It defines how the S/N ratio will be calculated. If it is true, then the code assumes we are interested in the S/N in the continuum rather then in emission lines - then the S/N per spectral pixel will be considered. Otherwise, the code assumes the measurements in emission lines, and thus the S/N is measured by integrating the signal and estimating the noise in the ±2A aperture around the wavelengths in ``check_lines``.\n"
   ]
  },
  {
   "cell_type": "code",
   "execution_count": 8,
   "metadata": {
    "collapsed": false,
    "pycharm": {
     "name": "#%%\n"
    }
   },
   "outputs": [
    {
     "name": "stderr",
     "output_type": "stream",
     "text": [
      "\u001b[0;34m[INFO]: \u001b[0mStart simulations in exposure time calculator mode for 1 nebula and 1 star \n",
      "\u001b[0;34m[INFO]: \u001b[0mStart generating 1 nebulae\n",
      "100% (1 of 1) |##########################| Elapsed Time: 0:00:06 Time:  0:00:06\n",
      "\u001b[0;34m[INFO]: \u001b[0mstar 1 with Teff 15000, Gmag 15 and velocity 0 added at position (10 , -10)\n",
      "\u001b[0;34m[INFO]: \u001b[0mTransforming world coordinates to pixel coordinates\n",
      "\u001b[0;34m[INFO]: \u001b[0mAssociating spectra to stars using library pollux_resampled_v0.fits...\n",
      "100% (1 of 1) |##########################| Elapsed Time: 0:00:00 Time:  0:00:00\n",
      "\u001b[0;34m[INFO]: \u001b[0mRescaling 1 synthetic spectra.\n",
      "\u001b[0;34m[INFO]: \u001b[0mUsing only the central fiber.\n",
      "\u001b[0;34m[INFO]: \u001b[0mSimulating observations.\n",
      "\u001b[0;34m[INFO]: \u001b[0mReading the atmospheric extinction from file.\n"
     ]
    },
    {
     "name": "stdout",
     "output_type": "stream",
     "text": [
      "Warning: assuming 1 angstrom units to unitless object.\n",
      "Warning: assuming 1 flam units to unitless object.\n"
     ]
    },
    {
     "name": "stderr",
     "output_type": "stream",
     "text": [
      "\u001b[0;34m[INFO]: \u001b[0mResample extinction file to instrument wavelength solution.\n",
      "\u001b[0;34m[INFO]: \u001b[0mSimulating the sky emission 2 days from new moon.\n",
      "\u001b[0;34m[INFO]: \u001b[0mUsing sky file: /Users/mors/Science/PyWorkspace/lvmdatasimulator/data/sky/LVM_LVM160_SKY_2.dat\n",
      "\u001b[0;34m[INFO]: \u001b[0mResample sky emission to instrument wavelength solution.\n",
      "\u001b[0;34m[INFO]: \u001b[0mRecovering target spectra for 1 fibers.\n",
      "\u001b[0;34m[INFO]: \u001b[0mStart extracting nebular spectra\n",
      "100% (1 of 1) |##########################| Elapsed Time: 0:00:00 Time:  0:00:00\n",
      "\u001b[0;34m[INFO]: \u001b[0mResampling spectra to the instrument wavelength solution.\n",
      "\u001b[0;34m[INFO]: \u001b[0mSaving the outputs:\n",
      "\u001b[0;34m[INFO]: \u001b[0mInput spectra\n",
      "\u001b[0;34m[INFO]: \u001b[0m./outputs/LVM_Field_ETC_linear_central_input.fits saved.\n",
      "\u001b[0;34m[INFO]: \u001b[0mUncalibrated outputs\n",
      "\u001b[0;34m[INFO]: \u001b[0m./outputs/LVM_Field_ETC_linear_central_300_realization.fits saved.\n",
      "\u001b[0;34m[INFO]: \u001b[0m./outputs/LVM_Field_ETC_linear_central_451_realization.fits saved.\n",
      "\u001b[0;34m[INFO]: \u001b[0m./outputs/LVM_Field_ETC_linear_central_678_realization.fits saved.\n",
      "\u001b[0;34m[INFO]: \u001b[0m./outputs/LVM_Field_ETC_linear_central_1018_realization.fits saved.\n",
      "\u001b[0;34m[INFO]: \u001b[0m./outputs/LVM_Field_ETC_linear_central_1531_realization.fits saved.\n",
      "\u001b[0;34m[INFO]: \u001b[0m./outputs/LVM_Field_ETC_linear_central_2300_realization.fits saved.\n",
      "\u001b[0;34m[INFO]: \u001b[0m./outputs/LVM_Field_ETC_linear_central_3457_realization.fits saved.\n",
      "\u001b[0;34m[INFO]: \u001b[0m./outputs/LVM_Field_ETC_linear_central_5196_realization.fits saved.\n",
      "\u001b[0;34m[INFO]: \u001b[0m./outputs/LVM_Field_ETC_linear_central_7809_realization.fits saved.\n",
      "\u001b[0;34m[INFO]: \u001b[0m./outputs/LVM_Field_ETC_linear_central_11737_realization.fits saved.\n",
      "\u001b[0;34m[INFO]: \u001b[0m./outputs/LVM_Field_ETC_linear_central_17640_realization.fits saved.\n",
      "\u001b[0;34m[INFO]: \u001b[0m./outputs/LVM_Field_ETC_linear_central_26511_realization.fits saved.\n",
      "\u001b[0;34m[INFO]: \u001b[0m./outputs/LVM_Field_ETC_linear_central_39844_realization.fits saved.\n",
      "\u001b[0;34m[INFO]: \u001b[0m./outputs/LVM_Field_ETC_linear_central_59883_realization.fits saved.\n",
      "\u001b[0;34m[INFO]: \u001b[0m./outputs/LVM_Field_ETC_linear_central_90000_realization.fits saved.\n",
      "\u001b[0;34m[INFO]: \u001b[0mCalibrated outputs\n",
      "\u001b[0;34m[INFO]: \u001b[0m./outputs/LVM_Field_ETC_linear_central_300_flux.fits saved.\n",
      "\u001b[0;34m[INFO]: \u001b[0m./outputs/LVM_Field_ETC_linear_central_451_flux.fits saved.\n",
      "\u001b[0;34m[INFO]: \u001b[0m./outputs/LVM_Field_ETC_linear_central_678_flux.fits saved.\n",
      "\u001b[0;34m[INFO]: \u001b[0m./outputs/LVM_Field_ETC_linear_central_1018_flux.fits saved.\n",
      "\u001b[0;34m[INFO]: \u001b[0m./outputs/LVM_Field_ETC_linear_central_1531_flux.fits saved.\n",
      "\u001b[0;34m[INFO]: \u001b[0m./outputs/LVM_Field_ETC_linear_central_2300_flux.fits saved.\n",
      "\u001b[0;34m[INFO]: \u001b[0m./outputs/LVM_Field_ETC_linear_central_3457_flux.fits saved.\n",
      "\u001b[0;34m[INFO]: \u001b[0m./outputs/LVM_Field_ETC_linear_central_5196_flux.fits saved.\n",
      "\u001b[0;34m[INFO]: \u001b[0m./outputs/LVM_Field_ETC_linear_central_7809_flux.fits saved.\n",
      "\u001b[0;34m[INFO]: \u001b[0m./outputs/LVM_Field_ETC_linear_central_11737_flux.fits saved.\n",
      "\u001b[0;34m[INFO]: \u001b[0m./outputs/LVM_Field_ETC_linear_central_17640_flux.fits saved.\n",
      "\u001b[0;34m[INFO]: \u001b[0m./outputs/LVM_Field_ETC_linear_central_26511_flux.fits saved.\n",
      "\u001b[0;34m[INFO]: \u001b[0m./outputs/LVM_Field_ETC_linear_central_39844_flux.fits saved.\n",
      "\u001b[0;34m[INFO]: \u001b[0m./outputs/LVM_Field_ETC_linear_central_59883_flux.fits saved.\n",
      "\u001b[0;34m[INFO]: \u001b[0m./outputs/LVM_Field_ETC_linear_central_90000_flux.fits saved.\n",
      "\u001b[0;34m[INFO]: \u001b[0mSaving input ETC parameters to LVM_Field_ETC_input_parameters_etc.yml\n"
     ]
    },
    {
     "name": "stdout",
     "output_type": "stream",
     "text": [
      "To reach S/N=30 in line = 6563.0±2.0A we need 2239s of single exposure\n",
      "To reach S/N=10 in line = 6717.0±2.0A we need 2700s of single exposure\n",
      "To reach S/N=15 in line = 4861.0±2.0A we need 2343s of single exposure\n"
     ]
    },
    {
     "data": {
      "image/png": "[encoded data removed]",
      "text/plain": [
       "<Figure size 576x432 with 1 Axes>"
      ]
     },
     "metadata": {},
     "output_type": "display_data"
    },
    {
     "name": "stdout",
     "output_type": "stream",
     "text": [
      "\n",
      "Elapsed time: 10.6s\n"
     ]
    },
    {
     "data": {
      "text/plain": [
       "[2239, 2700, 2343]"
      ]
     },
     "execution_count": 8,
     "metadata": {},
     "output_type": "execute_result"
    }
   ],
   "source": [
    "params = {'nebula': neb_params,\n",
    "          'star': star_params,\n",
    "          'airmass': 1.2,\n",
    "          'days_moon': 2,\n",
    "          }\n",
    "\n",
    "\n",
    "run_lvm_etc(params, check_lines=[6563., 6717., 4861.], desired_snr=[30, 10, 15], continuum=False)"
   ]
  }
 ],
 "metadata": {
  "colab": {
   "collapsed_sections": [],
   "name": "LVM_data_simulator_tutorial.ipynb",
   "provenance": []
  },
  "interpreter": {
   "hash": "ee0781a0f4af1818d6f6968e58b56782e2203b6b1ba86a335a19dd7494593127"
  },
  "kernelspec": {
   "display_name": "Python 3.9.7 ('lvm')",
   "language": "python",
   "name": "python3"
  },
  "language_info": {
   "codemirror_mode": {
    "name": "ipython",
    "version": 3
   },
   "file_extension": ".py",
   "mimetype": "text/x-python",
   "name": "python",
   "nbconvert_exporter": "python",
   "pygments_lexer": "ipython3",
   "version": "3.9.7"
  }
 },
 "nbformat": 4,
 "nbformat_minor": 5
}
