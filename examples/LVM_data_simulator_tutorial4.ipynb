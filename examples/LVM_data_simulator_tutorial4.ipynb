{
 "cells": [
  {
   "cell_type": "markdown",
   "id": "a0d443ac",
   "metadata": {
    "id": "a0d443ac",
    "pycharm": {
     "name": "#%% md\n"
    }
   },
   "source": [
    "# LVM Data Simulator tutorial: exposure time calculator"
   ]
  },
  {
   "cell_type": "markdown",
   "source": [
    "**This is a tutorial on how run the simulator to estimate the exposure time needed to reach a signal to noise at a specific wavelength.**\n",
    "- How to install the simulator and how to prepare a custom simulation is shown in [tutorial #1](https://github.com/sdss/lvmdatasimulator/blob/main/examples/LVM_data_simulator_tutorial1.ipynb)\n",
    "- More details on the setup of LVM instrumentation and on the structure of the outputs of the simulator are given in [tutorial #2](https://github.com/sdss/lvmdatasimulator/blob/main/examples/LVM_data_simulator_tutorial2.ipynb)\n",
    "- More realistic and useful simulations are considered in [tutorial #3](https://github.com/sdss/lvmdatasimulator/blob/main/examples/LVM_data_simulator_tutorial3.ipynb) - please go there if you have already installed and configured the package and want to learn how to simulate the source field in more details.\n",
    "\n",
    "_Last update: 2022/09/01_"
   ],
   "metadata": {
    "collapsed": false,
    "pycharm": {
     "name": "#%% md\n"
    }
   }
  },
  {
   "cell_type": "markdown",
   "source": [
    "We assumed lvmdatasimulator has been installed following [tutorial #1](https://github.com/sdss/lvmdatasimulator/blob/main/examples/LVM_data_simulator_tutorial1.ipynb). As usual, move this file to an empty directory, or set-up the working directory as follows:"
   ],
   "metadata": {
    "collapsed": false,
    "pycharm": {
     "name": "#%% md\n"
    }
   }
  },
  {
   "cell_type": "code",
   "execution_count": null,
   "outputs": [],
   "source": [
    "# === Don't forget to set up your work directory (not valid for running on UTAH cluster)\n",
    "import os\n",
    "# os.chdir('/Users/mors/Science/LVM/Simulator_example/')"
   ],
   "metadata": {
    "collapsed": false,
    "pycharm": {
     "name": "#%%\n"
    }
   }
  },
  {
   "cell_type": "markdown",
   "source": [
    "## Setting up the ETC\n",
    "\n",
    "This simulator can be easily used to estimate the required LVM exposure time to obtain a certain signal-to-noise ratio (S/N) for a simple source configuration. It simulates only the central fiber of the array, and provide plots showing how the S/N changes as a function of exposure time. For complex scenarios, a full simulation should be run following instructions on the other tutorials.\n",
    "\n",
    "This ETC will simulate only nebulae with:\n",
    "- uniform brightness distribution\n",
    "- constant emission line ratios (defined by one of the pre-computed Cloudy models)\n",
    "- or/and constant level and shape of the continuum.\n",
    "On top of this a star with particular properties also can be part of the object under evaluation. Nebular component, continuum from the object and the stellar spectrum will be combined together by the simulator in a single fiber, for which we will run the calculations.\n",
    "\n",
    "**N.B.: the resulting S/N ratio is the value measured per spectral pixel (0.5A) in the output spectra at a particular wavelength. This simplified ETC doesn't integrate the emission lines and do not subtract the underlying continuum but rather estimate the S/N in the pixel at the center of the line.**\n",
    "\n",
    "**N.B.2: All calculations are performed assuming a single exposure.**"
   ],
   "metadata": {
    "collapsed": false,
    "pycharm": {
     "name": "#%% md\n"
    }
   }
  },
  {
   "cell_type": "code",
   "execution_count": null,
   "outputs": [],
   "source": [
    "from lvmdatasimulator.run import run_lvm_etc"
   ],
   "metadata": {
    "collapsed": false,
    "pycharm": {
     "name": "#%%\n"
    }
   }
  },
  {
   "cell_type": "markdown",
   "source": [
    "The first step is to define the parameters of your nebula. The only required parameter is 'max_brightness' (in erg/s/cm\\^2/arcsec^2).\n",
    "See [tutorial #3](https://github.com/sdss/lvmdatasimulator/blob/main/examples/LVM_data_simulator_tutorial3.ipynb) if you want to learm how to specify the spectral properties (emission and continuum) of the nebula."
   ],
   "metadata": {
    "collapsed": false,
    "pycharm": {
     "name": "#%% md\n"
    }
   }
  },
  {
   "cell_type": "code",
   "execution_count": null,
   "outputs": [],
   "source": [
    "neb_params = {'max_brightness': 1e-16, 'model_id': 'Shell_3', 'model_type': 'cloudy'}"
   ],
   "metadata": {
    "collapsed": false,
    "pycharm": {
     "name": "#%%\n"
    }
   }
  },
  {
   "cell_type": "markdown",
   "source": [
    "Also you may define parameters of the star if you want to put it in the fiber. It should be a dictionary containing the magnitude and temperature of the desired star, as follows:"
   ],
   "metadata": {
    "collapsed": false,
    "pycharm": {
     "name": "#%% md\n"
    }
   }
  },
  {
   "cell_type": "code",
   "execution_count": null,
   "outputs": [],
   "source": [
    "star_params = {'gmag': [15], 'teff': [15000]}"
   ],
   "metadata": {
    "collapsed": false,
    "pycharm": {
     "name": "#%%\n"
    }
   }
  },
  {
   "cell_type": "markdown",
   "source": [
    "Other parameters can be passed to the simulator in general (see [tutorial #3](https://github.com/sdss/lvmdatasimulator/blob/main/examples/LVM_data_simulator_tutorial3.ipynb)), but only these two should be used when running the ETC. Also note that the parameters must be provided as lists."
   ],
   "metadata": {
    "collapsed": false,
    "pycharm": {
     "name": "#%% md\n"
    }
   }
  },
  {
   "cell_type": "markdown",
   "source": [
    "The dictionary below (``params``) is the main input for the ETC. It joins together the parameters of the nebula and the star, and also can contain parameters defining the observations (see [tutorial 2](https://github.com/sdss/lvmdatasimulator/blob/main/examples/LVM_data_simulator_tutorial2.ipynb)). Note that ``exptimes`` is not used as it is hardcoded in the ETC. As a default, the simulation is run at an airmass of 1.5 and in dark conditions (0 days from new moon). These conditions can be adjusted by providing the ``airmass`` and ``days_moon`` parameters in the ``params`` dictionary, as shown below. It is also possible to provide a custoim sky spectrum via the ``sky_template`` parameter, as described in [tutorial 2](https://github.com/sdss/lvmdatasimulator/blob/main/examples/LVM_data_simulator_tutorial2.ipynb). \n",
    "\n",
    "Other three parameters are required to run the ETC:\n",
    "- ``check_lines`` - list of the lines (wavelength in A, float) for which ETC will check the dependence of the S/N on the exposure time.\n",
    "- ``desired_snr`` - if provided, then ETC will print (and return) the required exposures to reach the target S/N at the respective wavelength.\n",
    "- ``continuum`` - bool (default is False). It defines how the S/N ratio will be calculated. If it is true, then the code assumes we are interested in the S/N in the continuum rather then in emission lines - then the S/N per spectral pixel will be considered. Otherwise, the code assumes the measurements in emission lines, and thus the S/N is measured by integrating the signal and estimating the noise in the ±2A aperture around the wavelengths in ``check_lines``.\n",
    "- ``delete`` - bool (default is True). If this parameter is set to True, all the files produced during the simulations will be deleted. If you want to keep all the output, please set ``delete`` to False.\n"
   ],
   "metadata": {
    "collapsed": false,
    "pycharm": {
     "name": "#%% md\n"
    }
   }
  },
  {
   "cell_type": "code",
   "execution_count": null,
   "outputs": [],
   "source": [
    "params = {'name': 'ETC_my_test_object',\n",
    "          'nebula': neb_params,\n",
    "          'star': star_params,\n",
    "          'airmass': 1.2,\n",
    "          'days_moon': 2,\n",
    "          }\n",
    "\n",
    "\n",
    "run_lvm_etc(params, check_lines=[6563., 6717., 4861.], desired_snr=[30, 10, 15], continuum=False)"
   ],
   "metadata": {
    "collapsed": false,
    "pycharm": {
     "name": "#%%\n"
    }
   }
  },
  {
   "cell_type": "code",
   "execution_count": 35,
   "id": "723b9cf2",
   "metadata": {
    "pycharm": {
     "name": "#%%\n"
    }
   },
   "outputs": [
    {
     "name": "stderr",
     "output_type": "stream",
     "text": [
      "\u001B[0;34m[INFO]: \u001B[0mStart simulations in exposure time calculator mode for 1 custom spectrum.\n",
      "\u001B[0;34m[INFO]: \u001B[0mUsing only the central fiber.\n",
      "\u001B[0;34m[INFO]: \u001B[0mSimulating real spectrum observation\n",
      "\u001B[0;34m[INFO]: \u001B[0mReading the atmospheric extinction from file.\n",
      "\u001B[0;34m[INFO]: \u001B[0mResample extinction file to instrument wavelength solution.\n",
      "\u001B[0;34m[INFO]: \u001B[0mSimulating the sky emission 2 days from new moon.\n",
      "\u001B[0;34m[INFO]: \u001B[0mUsing sky file: /mnt/DATA/LVM/lvmdatasimulator/data/sky/LVM_LVM160_SKY_2.dat\n",
      "\u001B[0;34m[INFO]: \u001B[0mResample sky emission to instrument wavelength solution.\n",
      "\u001B[0;34m[INFO]: \u001B[0mSaving the outputs:\n",
      "\u001B[0;34m[INFO]: \u001B[0mInput spectra\n",
      "\u001B[0;34m[INFO]: \u001B[0m./outputs/LVM_Field_ETC_linear_central_input.fits saved.\n",
      "\u001B[0;34m[INFO]: \u001B[0mClean outputs\n",
      "\u001B[0;34m[INFO]: \u001B[0m./outputs/LVM_Field_ETC_linear_central_300_no_noise.fits saved.\n",
      "\u001B[0;34m[INFO]: \u001B[0m./outputs/LVM_Field_ETC_linear_central_451_no_noise.fits saved.\n",
      "\u001B[0;34m[INFO]: \u001B[0m./outputs/LVM_Field_ETC_linear_central_678_no_noise.fits saved.\n",
      "\u001B[0;34m[INFO]: \u001B[0m./outputs/LVM_Field_ETC_linear_central_1018_no_noise.fits saved.\n",
      "\u001B[0;34m[INFO]: \u001B[0m./outputs/LVM_Field_ETC_linear_central_1531_no_noise.fits saved.\n",
      "\u001B[0;34m[INFO]: \u001B[0m./outputs/LVM_Field_ETC_linear_central_2300_no_noise.fits saved.\n",
      "\u001B[0;34m[INFO]: \u001B[0m./outputs/LVM_Field_ETC_linear_central_3457_no_noise.fits saved.\n",
      "\u001B[0;34m[INFO]: \u001B[0m./outputs/LVM_Field_ETC_linear_central_5196_no_noise.fits saved.\n",
      "\u001B[0;34m[INFO]: \u001B[0m./outputs/LVM_Field_ETC_linear_central_7809_no_noise.fits saved.\n",
      "\u001B[0;34m[INFO]: \u001B[0m./outputs/LVM_Field_ETC_linear_central_11737_no_noise.fits saved.\n",
      "\u001B[0;34m[INFO]: \u001B[0m./outputs/LVM_Field_ETC_linear_central_17640_no_noise.fits saved.\n",
      "\u001B[0;34m[INFO]: \u001B[0m./outputs/LVM_Field_ETC_linear_central_26511_no_noise.fits saved.\n",
      "\u001B[0;34m[INFO]: \u001B[0m./outputs/LVM_Field_ETC_linear_central_39844_no_noise.fits saved.\n",
      "\u001B[0;34m[INFO]: \u001B[0m./outputs/LVM_Field_ETC_linear_central_59883_no_noise.fits saved.\n",
      "\u001B[0;34m[INFO]: \u001B[0m./outputs/LVM_Field_ETC_linear_central_90000_no_noise.fits saved.\n",
      "\u001B[0;34m[INFO]: \u001B[0mUncalibrated outputs\n",
      "\u001B[0;34m[INFO]: \u001B[0m./outputs/LVM_Field_ETC_linear_central_300_realization.fits saved.\n",
      "\u001B[0;34m[INFO]: \u001B[0m./outputs/LVM_Field_ETC_linear_central_451_realization.fits saved.\n",
      "\u001B[0;34m[INFO]: \u001B[0m./outputs/LVM_Field_ETC_linear_central_678_realization.fits saved.\n",
      "\u001B[0;34m[INFO]: \u001B[0m./outputs/LVM_Field_ETC_linear_central_1018_realization.fits saved.\n",
      "\u001B[0;34m[INFO]: \u001B[0m./outputs/LVM_Field_ETC_linear_central_1531_realization.fits saved.\n",
      "\u001B[0;34m[INFO]: \u001B[0m./outputs/LVM_Field_ETC_linear_central_2300_realization.fits saved.\n",
      "\u001B[0;34m[INFO]: \u001B[0m./outputs/LVM_Field_ETC_linear_central_3457_realization.fits saved.\n",
      "\u001B[0;34m[INFO]: \u001B[0m./outputs/LVM_Field_ETC_linear_central_5196_realization.fits saved.\n",
      "\u001B[0;34m[INFO]: \u001B[0m./outputs/LVM_Field_ETC_linear_central_7809_realization.fits saved.\n",
      "\u001B[0;34m[INFO]: \u001B[0m./outputs/LVM_Field_ETC_linear_central_11737_realization.fits saved.\n",
      "\u001B[0;34m[INFO]: \u001B[0m./outputs/LVM_Field_ETC_linear_central_17640_realization.fits saved.\n",
      "\u001B[0;34m[INFO]: \u001B[0m./outputs/LVM_Field_ETC_linear_central_26511_realization.fits saved.\n",
      "\u001B[0;34m[INFO]: \u001B[0m./outputs/LVM_Field_ETC_linear_central_39844_realization.fits saved.\n",
      "\u001B[0;34m[INFO]: \u001B[0m./outputs/LVM_Field_ETC_linear_central_59883_realization.fits saved.\n",
      "\u001B[0;34m[INFO]: \u001B[0m./outputs/LVM_Field_ETC_linear_central_90000_realization.fits saved.\n",
      "\u001B[0;34m[INFO]: \u001B[0mCalibrated outputs\n",
      "\u001B[0;34m[INFO]: \u001B[0m./outputs/LVM_Field_ETC_linear_central_300_flux.fits saved.\n",
      "\u001B[0;34m[INFO]: \u001B[0m./outputs/LVM_Field_ETC_linear_central_451_flux.fits saved.\n",
      "\u001B[0;34m[INFO]: \u001B[0m./outputs/LVM_Field_ETC_linear_central_678_flux.fits saved.\n",
      "\u001B[0;34m[INFO]: \u001B[0m./outputs/LVM_Field_ETC_linear_central_1018_flux.fits saved.\n",
      "\u001B[0;34m[INFO]: \u001B[0m./outputs/LVM_Field_ETC_linear_central_1531_flux.fits saved.\n",
      "\u001B[0;34m[INFO]: \u001B[0m./outputs/LVM_Field_ETC_linear_central_2300_flux.fits saved.\n",
      "\u001B[0;34m[INFO]: \u001B[0m./outputs/LVM_Field_ETC_linear_central_3457_flux.fits saved.\n",
      "\u001B[0;34m[INFO]: \u001B[0m./outputs/LVM_Field_ETC_linear_central_5196_flux.fits saved.\n",
      "\u001B[0;34m[INFO]: \u001B[0m./outputs/LVM_Field_ETC_linear_central_7809_flux.fits saved.\n",
      "\u001B[0;34m[INFO]: \u001B[0m./outputs/LVM_Field_ETC_linear_central_11737_flux.fits saved.\n",
      "\u001B[0;34m[INFO]: \u001B[0m./outputs/LVM_Field_ETC_linear_central_17640_flux.fits saved.\n",
      "\u001B[0;34m[INFO]: \u001B[0m./outputs/LVM_Field_ETC_linear_central_26511_flux.fits saved.\n",
      "\u001B[0;34m[INFO]: \u001B[0m./outputs/LVM_Field_ETC_linear_central_39844_flux.fits saved.\n",
      "\u001B[0;34m[INFO]: \u001B[0m./outputs/LVM_Field_ETC_linear_central_59883_flux.fits saved.\n",
      "\u001B[0;34m[INFO]: \u001B[0m./outputs/LVM_Field_ETC_linear_central_90000_flux.fits saved.\n",
      "\u001B[0;34m[INFO]: \u001B[0mSaving input ETC parameters to LVM_Field_ETC_input_parameters_etc.yml\n"
     ]
    },
    {
     "name": "stdout",
     "output_type": "stream",
     "text": [
      "To reach S/N=30 in line = 6563.0±2.0A we need 1809s of single exposure\n",
      "To reach S/N=10 in line = 5007.0±2.0A we need 80s of single exposure\n"
     ]
    },
    {
     "data": {
      "image/png": "[encoded data removed]",
      "text/plain": [
       "<Figure size 576x432 with 1 Axes>"
      ]
     },
     "metadata": {},
     "output_type": "display_data"
    },
    {
     "name": "stdout",
     "output_type": "stream",
     "text": [
      "\n",
      "Elapsed time: 6.6s\n"
     ]
    },
    {
     "data": {
      "text/plain": [
       "[1809, 80]"
      ]
     },
     "execution_count": 35,
     "metadata": {},
     "output_type": "execute_result"
    }
   ],
   "source": [
    "params = {'name': 'ETC_custom_spec',\n",
    "          'spectrum': './pn_spectrum_100k.dat',\n",
    "          'norm': norm, \n",
    "          'airmass': 1.2,\n",
    "          'days_moon': 2,\n",
    "          }\n",
    "\n",
    "run_lvm_etc(params, check_lines=[6563., 5007.], desired_snr=[30, 10], continuum=False)"
   ]
  },
  {
   "cell_type": "markdown",
   "id": "370c09e9",
   "metadata": {
    "pycharm": {
     "name": "#%% md\n"
    }
   },
   "source": [
    "### Warnings\n",
    "\n",
    "When providing a spectrum, there are a few things to keep in mind:\n",
    "- The spectrum should be uniformly sampled, and the wavelength array in linear units.\n",
    "- If the spectrum does not cover the full wavelength range covered by the LVM, it is going to be extended via extrapolation.\n",
    "- The simulator will convolve and resample the input spectrum during the simulation to produce a final oputput with a sampling off 0.5 aa/pix and an LSF with a FWHM of 1.5 AA. To obtain better results, we suggest to provide spectra with an higher sampling.  "
   ]
  }
 ],
 "metadata": {
  "colab": {
   "collapsed_sections": [],
   "name": "LVM_data_simulator_tutorial.ipynb",
   "provenance": []
  },
  "interpreter": {
   "hash": "ee0781a0f4af1818d6f6968e58b56782e2203b6b1ba86a335a19dd7494593127"
  },
  "kernelspec": {
   "display_name": "Python 3.9.7 ('lvm')",
   "language": "python",
   "name": "python3"
  },
  "language_info": {
   "codemirror_mode": {
    "name": "ipython",
    "version": 3
   },
   "file_extension": ".py",
   "mimetype": "text/x-python",
   "name": "python",
   "nbconvert_exporter": "python",
   "pygments_lexer": "ipython3",
   "version": "3.9.7"
  }
 },
 "nbformat": 4,
 "nbformat_minor": 5
}